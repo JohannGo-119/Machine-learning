{
 "cells": [
  {
   "cell_type": "markdown",
   "metadata": {},
   "source": [
    "#### Train models using LR, KNN, and SVC algorithms both with default and optimal hyperparameters and compare your results using the model performance summary template."
   ]
  },
  {
   "cell_type": "code",
   "execution_count": 1,
   "metadata": {},
   "outputs": [],
   "source": [
    "import numpy as np #  used for working with arrays\n",
    "import pandas as pd # a fast, powerful, flexible and easy to use open source data analysis and manipulation tool\n",
    "import matplotlib.pyplot as plt \n",
    "%matplotlib inline\n",
    "import seaborn as sns # a Python data visualization library based on matplotlib which provides a high-level interface for drawing attractive and informative statistical graphics"
   ]
  },
  {
   "cell_type": "code",
   "execution_count": 2,
   "metadata": {},
   "outputs": [
    {
     "name": "stdout",
     "output_type": "stream",
     "text": [
      "Python: 3.8.5 (default, Sep  3 2020, 21:29:08) [MSC v.1916 64 bit (AMD64)]\n",
      "scipy: 1.5.2\n",
      "numpy: 1.19.2\n",
      "matplotlib: 3.3.2\n",
      "pandas: 1.1.3\n",
      "sklearn: 0.23.2\n"
     ]
    }
   ],
   "source": [
    "import sys\n",
    "print('Python: {}'.format(sys.version))\n",
    "# scipy\n",
    "import scipy\n",
    "print('scipy: {}'.format(scipy.__version__))\n",
    "# numpy\n",
    "import numpy\n",
    "print('numpy: {}'.format(numpy.__version__))\n",
    "# matplotlib\n",
    "import matplotlib\n",
    "print('matplotlib: {}'.format(matplotlib.__version__))\n",
    "# pandas\n",
    "import pandas\n",
    "print('pandas: {}'.format(pandas.__version__))\n",
    "# scikit-learn\n",
    "import sklearn\n",
    "print('sklearn: {}'.format(sklearn.__version__))"
   ]
  },
  {
   "cell_type": "code",
   "execution_count": 3,
   "metadata": {},
   "outputs": [],
   "source": [
    "df = pd.read_csv(\"https://archive.ics.uci.edu/ml/machine-learning-databases/breast-cancer-wisconsin/breast-cancer-wisconsin.data\")"
   ]
  },
  {
   "cell_type": "code",
   "execution_count": 4,
   "metadata": {},
   "outputs": [
    {
     "data": {
      "text/plain": [
       "1000025     int64\n",
       "5           int64\n",
       "1           int64\n",
       "1.1         int64\n",
       "1.2         int64\n",
       "2           int64\n",
       "1.3        object\n",
       "3           int64\n",
       "1.4         int64\n",
       "1.5         int64\n",
       "2.1         int64\n",
       "dtype: object"
      ]
     },
     "execution_count": 4,
     "metadata": {},
     "output_type": "execute_result"
    }
   ],
   "source": [
    "df.dtypes"
   ]
  },
  {
   "cell_type": "code",
   "execution_count": 5,
   "metadata": {},
   "outputs": [],
   "source": [
    "df = pd.read_csv(\"https://archive.ics.uci.edu/ml/machine-learning-databases/breast-cancer-wisconsin/breast-cancer-wisconsin.data\", names=[\"idNumber\", \"clumpThickness\", \"uniformityOfCellSize\", \"UniformityofCellShape\", \"MarginalAdhesion\", \"SingleEpithelialCellSize\",\"BareNuclei\",\"BlandChromatin\",\"NormalNucleoli\", \"Mitoses\", \"Class\"])"
   ]
  },
  {
   "cell_type": "code",
   "execution_count": 6,
   "metadata": {},
   "outputs": [
    {
     "data": {
      "text/html": [
       "<div>\n",
       "<style scoped>\n",
       "    .dataframe tbody tr th:only-of-type {\n",
       "        vertical-align: middle;\n",
       "    }\n",
       "\n",
       "    .dataframe tbody tr th {\n",
       "        vertical-align: top;\n",
       "    }\n",
       "\n",
       "    .dataframe thead th {\n",
       "        text-align: right;\n",
       "    }\n",
       "</style>\n",
       "<table border=\"1\" class=\"dataframe\">\n",
       "  <thead>\n",
       "    <tr style=\"text-align: right;\">\n",
       "      <th></th>\n",
       "      <th>idNumber</th>\n",
       "      <th>clumpThickness</th>\n",
       "      <th>uniformityOfCellSize</th>\n",
       "      <th>UniformityofCellShape</th>\n",
       "      <th>MarginalAdhesion</th>\n",
       "      <th>SingleEpithelialCellSize</th>\n",
       "      <th>BareNuclei</th>\n",
       "      <th>BlandChromatin</th>\n",
       "      <th>NormalNucleoli</th>\n",
       "      <th>Mitoses</th>\n",
       "      <th>Class</th>\n",
       "    </tr>\n",
       "  </thead>\n",
       "  <tbody>\n",
       "    <tr>\n",
       "      <th>0</th>\n",
       "      <td>1000025</td>\n",
       "      <td>5</td>\n",
       "      <td>1</td>\n",
       "      <td>1</td>\n",
       "      <td>1</td>\n",
       "      <td>2</td>\n",
       "      <td>1</td>\n",
       "      <td>3</td>\n",
       "      <td>1</td>\n",
       "      <td>1</td>\n",
       "      <td>2</td>\n",
       "    </tr>\n",
       "    <tr>\n",
       "      <th>1</th>\n",
       "      <td>1002945</td>\n",
       "      <td>5</td>\n",
       "      <td>4</td>\n",
       "      <td>4</td>\n",
       "      <td>5</td>\n",
       "      <td>7</td>\n",
       "      <td>10</td>\n",
       "      <td>3</td>\n",
       "      <td>2</td>\n",
       "      <td>1</td>\n",
       "      <td>2</td>\n",
       "    </tr>\n",
       "    <tr>\n",
       "      <th>2</th>\n",
       "      <td>1015425</td>\n",
       "      <td>3</td>\n",
       "      <td>1</td>\n",
       "      <td>1</td>\n",
       "      <td>1</td>\n",
       "      <td>2</td>\n",
       "      <td>2</td>\n",
       "      <td>3</td>\n",
       "      <td>1</td>\n",
       "      <td>1</td>\n",
       "      <td>2</td>\n",
       "    </tr>\n",
       "    <tr>\n",
       "      <th>3</th>\n",
       "      <td>1016277</td>\n",
       "      <td>6</td>\n",
       "      <td>8</td>\n",
       "      <td>8</td>\n",
       "      <td>1</td>\n",
       "      <td>3</td>\n",
       "      <td>4</td>\n",
       "      <td>3</td>\n",
       "      <td>7</td>\n",
       "      <td>1</td>\n",
       "      <td>2</td>\n",
       "    </tr>\n",
       "    <tr>\n",
       "      <th>4</th>\n",
       "      <td>1017023</td>\n",
       "      <td>4</td>\n",
       "      <td>1</td>\n",
       "      <td>1</td>\n",
       "      <td>3</td>\n",
       "      <td>2</td>\n",
       "      <td>1</td>\n",
       "      <td>3</td>\n",
       "      <td>1</td>\n",
       "      <td>1</td>\n",
       "      <td>2</td>\n",
       "    </tr>\n",
       "    <tr>\n",
       "      <th>5</th>\n",
       "      <td>1017122</td>\n",
       "      <td>8</td>\n",
       "      <td>10</td>\n",
       "      <td>10</td>\n",
       "      <td>8</td>\n",
       "      <td>7</td>\n",
       "      <td>10</td>\n",
       "      <td>9</td>\n",
       "      <td>7</td>\n",
       "      <td>1</td>\n",
       "      <td>4</td>\n",
       "    </tr>\n",
       "    <tr>\n",
       "      <th>6</th>\n",
       "      <td>1018099</td>\n",
       "      <td>1</td>\n",
       "      <td>1</td>\n",
       "      <td>1</td>\n",
       "      <td>1</td>\n",
       "      <td>2</td>\n",
       "      <td>10</td>\n",
       "      <td>3</td>\n",
       "      <td>1</td>\n",
       "      <td>1</td>\n",
       "      <td>2</td>\n",
       "    </tr>\n",
       "    <tr>\n",
       "      <th>7</th>\n",
       "      <td>1018561</td>\n",
       "      <td>2</td>\n",
       "      <td>1</td>\n",
       "      <td>2</td>\n",
       "      <td>1</td>\n",
       "      <td>2</td>\n",
       "      <td>1</td>\n",
       "      <td>3</td>\n",
       "      <td>1</td>\n",
       "      <td>1</td>\n",
       "      <td>2</td>\n",
       "    </tr>\n",
       "    <tr>\n",
       "      <th>8</th>\n",
       "      <td>1033078</td>\n",
       "      <td>2</td>\n",
       "      <td>1</td>\n",
       "      <td>1</td>\n",
       "      <td>1</td>\n",
       "      <td>2</td>\n",
       "      <td>1</td>\n",
       "      <td>1</td>\n",
       "      <td>1</td>\n",
       "      <td>5</td>\n",
       "      <td>2</td>\n",
       "    </tr>\n",
       "    <tr>\n",
       "      <th>9</th>\n",
       "      <td>1033078</td>\n",
       "      <td>4</td>\n",
       "      <td>2</td>\n",
       "      <td>1</td>\n",
       "      <td>1</td>\n",
       "      <td>2</td>\n",
       "      <td>1</td>\n",
       "      <td>2</td>\n",
       "      <td>1</td>\n",
       "      <td>1</td>\n",
       "      <td>2</td>\n",
       "    </tr>\n",
       "    <tr>\n",
       "      <th>10</th>\n",
       "      <td>1035283</td>\n",
       "      <td>1</td>\n",
       "      <td>1</td>\n",
       "      <td>1</td>\n",
       "      <td>1</td>\n",
       "      <td>1</td>\n",
       "      <td>1</td>\n",
       "      <td>3</td>\n",
       "      <td>1</td>\n",
       "      <td>1</td>\n",
       "      <td>2</td>\n",
       "    </tr>\n",
       "    <tr>\n",
       "      <th>11</th>\n",
       "      <td>1036172</td>\n",
       "      <td>2</td>\n",
       "      <td>1</td>\n",
       "      <td>1</td>\n",
       "      <td>1</td>\n",
       "      <td>2</td>\n",
       "      <td>1</td>\n",
       "      <td>2</td>\n",
       "      <td>1</td>\n",
       "      <td>1</td>\n",
       "      <td>2</td>\n",
       "    </tr>\n",
       "    <tr>\n",
       "      <th>12</th>\n",
       "      <td>1041801</td>\n",
       "      <td>5</td>\n",
       "      <td>3</td>\n",
       "      <td>3</td>\n",
       "      <td>3</td>\n",
       "      <td>2</td>\n",
       "      <td>3</td>\n",
       "      <td>4</td>\n",
       "      <td>4</td>\n",
       "      <td>1</td>\n",
       "      <td>4</td>\n",
       "    </tr>\n",
       "    <tr>\n",
       "      <th>13</th>\n",
       "      <td>1043999</td>\n",
       "      <td>1</td>\n",
       "      <td>1</td>\n",
       "      <td>1</td>\n",
       "      <td>1</td>\n",
       "      <td>2</td>\n",
       "      <td>3</td>\n",
       "      <td>3</td>\n",
       "      <td>1</td>\n",
       "      <td>1</td>\n",
       "      <td>2</td>\n",
       "    </tr>\n",
       "    <tr>\n",
       "      <th>14</th>\n",
       "      <td>1044572</td>\n",
       "      <td>8</td>\n",
       "      <td>7</td>\n",
       "      <td>5</td>\n",
       "      <td>10</td>\n",
       "      <td>7</td>\n",
       "      <td>9</td>\n",
       "      <td>5</td>\n",
       "      <td>5</td>\n",
       "      <td>4</td>\n",
       "      <td>4</td>\n",
       "    </tr>\n",
       "    <tr>\n",
       "      <th>15</th>\n",
       "      <td>1047630</td>\n",
       "      <td>7</td>\n",
       "      <td>4</td>\n",
       "      <td>6</td>\n",
       "      <td>4</td>\n",
       "      <td>6</td>\n",
       "      <td>1</td>\n",
       "      <td>4</td>\n",
       "      <td>3</td>\n",
       "      <td>1</td>\n",
       "      <td>4</td>\n",
       "    </tr>\n",
       "    <tr>\n",
       "      <th>16</th>\n",
       "      <td>1048672</td>\n",
       "      <td>4</td>\n",
       "      <td>1</td>\n",
       "      <td>1</td>\n",
       "      <td>1</td>\n",
       "      <td>2</td>\n",
       "      <td>1</td>\n",
       "      <td>2</td>\n",
       "      <td>1</td>\n",
       "      <td>1</td>\n",
       "      <td>2</td>\n",
       "    </tr>\n",
       "    <tr>\n",
       "      <th>17</th>\n",
       "      <td>1049815</td>\n",
       "      <td>4</td>\n",
       "      <td>1</td>\n",
       "      <td>1</td>\n",
       "      <td>1</td>\n",
       "      <td>2</td>\n",
       "      <td>1</td>\n",
       "      <td>3</td>\n",
       "      <td>1</td>\n",
       "      <td>1</td>\n",
       "      <td>2</td>\n",
       "    </tr>\n",
       "    <tr>\n",
       "      <th>18</th>\n",
       "      <td>1050670</td>\n",
       "      <td>10</td>\n",
       "      <td>7</td>\n",
       "      <td>7</td>\n",
       "      <td>6</td>\n",
       "      <td>4</td>\n",
       "      <td>10</td>\n",
       "      <td>4</td>\n",
       "      <td>1</td>\n",
       "      <td>2</td>\n",
       "      <td>4</td>\n",
       "    </tr>\n",
       "    <tr>\n",
       "      <th>19</th>\n",
       "      <td>1050718</td>\n",
       "      <td>6</td>\n",
       "      <td>1</td>\n",
       "      <td>1</td>\n",
       "      <td>1</td>\n",
       "      <td>2</td>\n",
       "      <td>1</td>\n",
       "      <td>3</td>\n",
       "      <td>1</td>\n",
       "      <td>1</td>\n",
       "      <td>2</td>\n",
       "    </tr>\n",
       "    <tr>\n",
       "      <th>20</th>\n",
       "      <td>1054590</td>\n",
       "      <td>7</td>\n",
       "      <td>3</td>\n",
       "      <td>2</td>\n",
       "      <td>10</td>\n",
       "      <td>5</td>\n",
       "      <td>10</td>\n",
       "      <td>5</td>\n",
       "      <td>4</td>\n",
       "      <td>4</td>\n",
       "      <td>4</td>\n",
       "    </tr>\n",
       "    <tr>\n",
       "      <th>21</th>\n",
       "      <td>1054593</td>\n",
       "      <td>10</td>\n",
       "      <td>5</td>\n",
       "      <td>5</td>\n",
       "      <td>3</td>\n",
       "      <td>6</td>\n",
       "      <td>7</td>\n",
       "      <td>7</td>\n",
       "      <td>10</td>\n",
       "      <td>1</td>\n",
       "      <td>4</td>\n",
       "    </tr>\n",
       "    <tr>\n",
       "      <th>22</th>\n",
       "      <td>1056784</td>\n",
       "      <td>3</td>\n",
       "      <td>1</td>\n",
       "      <td>1</td>\n",
       "      <td>1</td>\n",
       "      <td>2</td>\n",
       "      <td>1</td>\n",
       "      <td>2</td>\n",
       "      <td>1</td>\n",
       "      <td>1</td>\n",
       "      <td>2</td>\n",
       "    </tr>\n",
       "    <tr>\n",
       "      <th>23</th>\n",
       "      <td>1057013</td>\n",
       "      <td>8</td>\n",
       "      <td>4</td>\n",
       "      <td>5</td>\n",
       "      <td>1</td>\n",
       "      <td>2</td>\n",
       "      <td>?</td>\n",
       "      <td>7</td>\n",
       "      <td>3</td>\n",
       "      <td>1</td>\n",
       "      <td>4</td>\n",
       "    </tr>\n",
       "    <tr>\n",
       "      <th>24</th>\n",
       "      <td>1059552</td>\n",
       "      <td>1</td>\n",
       "      <td>1</td>\n",
       "      <td>1</td>\n",
       "      <td>1</td>\n",
       "      <td>2</td>\n",
       "      <td>1</td>\n",
       "      <td>3</td>\n",
       "      <td>1</td>\n",
       "      <td>1</td>\n",
       "      <td>2</td>\n",
       "    </tr>\n",
       "    <tr>\n",
       "      <th>25</th>\n",
       "      <td>1065726</td>\n",
       "      <td>5</td>\n",
       "      <td>2</td>\n",
       "      <td>3</td>\n",
       "      <td>4</td>\n",
       "      <td>2</td>\n",
       "      <td>7</td>\n",
       "      <td>3</td>\n",
       "      <td>6</td>\n",
       "      <td>1</td>\n",
       "      <td>4</td>\n",
       "    </tr>\n",
       "    <tr>\n",
       "      <th>26</th>\n",
       "      <td>1066373</td>\n",
       "      <td>3</td>\n",
       "      <td>2</td>\n",
       "      <td>1</td>\n",
       "      <td>1</td>\n",
       "      <td>1</td>\n",
       "      <td>1</td>\n",
       "      <td>2</td>\n",
       "      <td>1</td>\n",
       "      <td>1</td>\n",
       "      <td>2</td>\n",
       "    </tr>\n",
       "    <tr>\n",
       "      <th>27</th>\n",
       "      <td>1066979</td>\n",
       "      <td>5</td>\n",
       "      <td>1</td>\n",
       "      <td>1</td>\n",
       "      <td>1</td>\n",
       "      <td>2</td>\n",
       "      <td>1</td>\n",
       "      <td>2</td>\n",
       "      <td>1</td>\n",
       "      <td>1</td>\n",
       "      <td>2</td>\n",
       "    </tr>\n",
       "    <tr>\n",
       "      <th>28</th>\n",
       "      <td>1067444</td>\n",
       "      <td>2</td>\n",
       "      <td>1</td>\n",
       "      <td>1</td>\n",
       "      <td>1</td>\n",
       "      <td>2</td>\n",
       "      <td>1</td>\n",
       "      <td>2</td>\n",
       "      <td>1</td>\n",
       "      <td>1</td>\n",
       "      <td>2</td>\n",
       "    </tr>\n",
       "    <tr>\n",
       "      <th>29</th>\n",
       "      <td>1070935</td>\n",
       "      <td>1</td>\n",
       "      <td>1</td>\n",
       "      <td>3</td>\n",
       "      <td>1</td>\n",
       "      <td>2</td>\n",
       "      <td>1</td>\n",
       "      <td>1</td>\n",
       "      <td>1</td>\n",
       "      <td>1</td>\n",
       "      <td>2</td>\n",
       "    </tr>\n",
       "    <tr>\n",
       "      <th>30</th>\n",
       "      <td>1070935</td>\n",
       "      <td>3</td>\n",
       "      <td>1</td>\n",
       "      <td>1</td>\n",
       "      <td>1</td>\n",
       "      <td>1</td>\n",
       "      <td>1</td>\n",
       "      <td>2</td>\n",
       "      <td>1</td>\n",
       "      <td>1</td>\n",
       "      <td>2</td>\n",
       "    </tr>\n",
       "    <tr>\n",
       "      <th>31</th>\n",
       "      <td>1071760</td>\n",
       "      <td>2</td>\n",
       "      <td>1</td>\n",
       "      <td>1</td>\n",
       "      <td>1</td>\n",
       "      <td>2</td>\n",
       "      <td>1</td>\n",
       "      <td>3</td>\n",
       "      <td>1</td>\n",
       "      <td>1</td>\n",
       "      <td>2</td>\n",
       "    </tr>\n",
       "    <tr>\n",
       "      <th>32</th>\n",
       "      <td>1072179</td>\n",
       "      <td>10</td>\n",
       "      <td>7</td>\n",
       "      <td>7</td>\n",
       "      <td>3</td>\n",
       "      <td>8</td>\n",
       "      <td>5</td>\n",
       "      <td>7</td>\n",
       "      <td>4</td>\n",
       "      <td>3</td>\n",
       "      <td>4</td>\n",
       "    </tr>\n",
       "    <tr>\n",
       "      <th>33</th>\n",
       "      <td>1074610</td>\n",
       "      <td>2</td>\n",
       "      <td>1</td>\n",
       "      <td>1</td>\n",
       "      <td>2</td>\n",
       "      <td>2</td>\n",
       "      <td>1</td>\n",
       "      <td>3</td>\n",
       "      <td>1</td>\n",
       "      <td>1</td>\n",
       "      <td>2</td>\n",
       "    </tr>\n",
       "    <tr>\n",
       "      <th>34</th>\n",
       "      <td>1075123</td>\n",
       "      <td>3</td>\n",
       "      <td>1</td>\n",
       "      <td>2</td>\n",
       "      <td>1</td>\n",
       "      <td>2</td>\n",
       "      <td>1</td>\n",
       "      <td>2</td>\n",
       "      <td>1</td>\n",
       "      <td>1</td>\n",
       "      <td>2</td>\n",
       "    </tr>\n",
       "    <tr>\n",
       "      <th>35</th>\n",
       "      <td>1079304</td>\n",
       "      <td>2</td>\n",
       "      <td>1</td>\n",
       "      <td>1</td>\n",
       "      <td>1</td>\n",
       "      <td>2</td>\n",
       "      <td>1</td>\n",
       "      <td>2</td>\n",
       "      <td>1</td>\n",
       "      <td>1</td>\n",
       "      <td>2</td>\n",
       "    </tr>\n",
       "    <tr>\n",
       "      <th>36</th>\n",
       "      <td>1080185</td>\n",
       "      <td>10</td>\n",
       "      <td>10</td>\n",
       "      <td>10</td>\n",
       "      <td>8</td>\n",
       "      <td>6</td>\n",
       "      <td>1</td>\n",
       "      <td>8</td>\n",
       "      <td>9</td>\n",
       "      <td>1</td>\n",
       "      <td>4</td>\n",
       "    </tr>\n",
       "    <tr>\n",
       "      <th>37</th>\n",
       "      <td>1081791</td>\n",
       "      <td>6</td>\n",
       "      <td>2</td>\n",
       "      <td>1</td>\n",
       "      <td>1</td>\n",
       "      <td>1</td>\n",
       "      <td>1</td>\n",
       "      <td>7</td>\n",
       "      <td>1</td>\n",
       "      <td>1</td>\n",
       "      <td>2</td>\n",
       "    </tr>\n",
       "    <tr>\n",
       "      <th>38</th>\n",
       "      <td>1084584</td>\n",
       "      <td>5</td>\n",
       "      <td>4</td>\n",
       "      <td>4</td>\n",
       "      <td>9</td>\n",
       "      <td>2</td>\n",
       "      <td>10</td>\n",
       "      <td>5</td>\n",
       "      <td>6</td>\n",
       "      <td>1</td>\n",
       "      <td>4</td>\n",
       "    </tr>\n",
       "    <tr>\n",
       "      <th>39</th>\n",
       "      <td>1091262</td>\n",
       "      <td>2</td>\n",
       "      <td>5</td>\n",
       "      <td>3</td>\n",
       "      <td>3</td>\n",
       "      <td>6</td>\n",
       "      <td>7</td>\n",
       "      <td>7</td>\n",
       "      <td>5</td>\n",
       "      <td>1</td>\n",
       "      <td>4</td>\n",
       "    </tr>\n",
       "    <tr>\n",
       "      <th>40</th>\n",
       "      <td>1096800</td>\n",
       "      <td>6</td>\n",
       "      <td>6</td>\n",
       "      <td>6</td>\n",
       "      <td>9</td>\n",
       "      <td>6</td>\n",
       "      <td>?</td>\n",
       "      <td>7</td>\n",
       "      <td>8</td>\n",
       "      <td>1</td>\n",
       "      <td>2</td>\n",
       "    </tr>\n",
       "    <tr>\n",
       "      <th>41</th>\n",
       "      <td>1099510</td>\n",
       "      <td>10</td>\n",
       "      <td>4</td>\n",
       "      <td>3</td>\n",
       "      <td>1</td>\n",
       "      <td>3</td>\n",
       "      <td>3</td>\n",
       "      <td>6</td>\n",
       "      <td>5</td>\n",
       "      <td>2</td>\n",
       "      <td>4</td>\n",
       "    </tr>\n",
       "    <tr>\n",
       "      <th>42</th>\n",
       "      <td>1100524</td>\n",
       "      <td>6</td>\n",
       "      <td>10</td>\n",
       "      <td>10</td>\n",
       "      <td>2</td>\n",
       "      <td>8</td>\n",
       "      <td>10</td>\n",
       "      <td>7</td>\n",
       "      <td>3</td>\n",
       "      <td>3</td>\n",
       "      <td>4</td>\n",
       "    </tr>\n",
       "    <tr>\n",
       "      <th>43</th>\n",
       "      <td>1102573</td>\n",
       "      <td>5</td>\n",
       "      <td>6</td>\n",
       "      <td>5</td>\n",
       "      <td>6</td>\n",
       "      <td>10</td>\n",
       "      <td>1</td>\n",
       "      <td>3</td>\n",
       "      <td>1</td>\n",
       "      <td>1</td>\n",
       "      <td>4</td>\n",
       "    </tr>\n",
       "    <tr>\n",
       "      <th>44</th>\n",
       "      <td>1103608</td>\n",
       "      <td>10</td>\n",
       "      <td>10</td>\n",
       "      <td>10</td>\n",
       "      <td>4</td>\n",
       "      <td>8</td>\n",
       "      <td>1</td>\n",
       "      <td>8</td>\n",
       "      <td>10</td>\n",
       "      <td>1</td>\n",
       "      <td>4</td>\n",
       "    </tr>\n",
       "    <tr>\n",
       "      <th>45</th>\n",
       "      <td>1103722</td>\n",
       "      <td>1</td>\n",
       "      <td>1</td>\n",
       "      <td>1</td>\n",
       "      <td>1</td>\n",
       "      <td>2</td>\n",
       "      <td>1</td>\n",
       "      <td>2</td>\n",
       "      <td>1</td>\n",
       "      <td>2</td>\n",
       "      <td>2</td>\n",
       "    </tr>\n",
       "    <tr>\n",
       "      <th>46</th>\n",
       "      <td>1105257</td>\n",
       "      <td>3</td>\n",
       "      <td>7</td>\n",
       "      <td>7</td>\n",
       "      <td>4</td>\n",
       "      <td>4</td>\n",
       "      <td>9</td>\n",
       "      <td>4</td>\n",
       "      <td>8</td>\n",
       "      <td>1</td>\n",
       "      <td>4</td>\n",
       "    </tr>\n",
       "    <tr>\n",
       "      <th>47</th>\n",
       "      <td>1105524</td>\n",
       "      <td>1</td>\n",
       "      <td>1</td>\n",
       "      <td>1</td>\n",
       "      <td>1</td>\n",
       "      <td>2</td>\n",
       "      <td>1</td>\n",
       "      <td>2</td>\n",
       "      <td>1</td>\n",
       "      <td>1</td>\n",
       "      <td>2</td>\n",
       "    </tr>\n",
       "    <tr>\n",
       "      <th>48</th>\n",
       "      <td>1106095</td>\n",
       "      <td>4</td>\n",
       "      <td>1</td>\n",
       "      <td>1</td>\n",
       "      <td>3</td>\n",
       "      <td>2</td>\n",
       "      <td>1</td>\n",
       "      <td>3</td>\n",
       "      <td>1</td>\n",
       "      <td>1</td>\n",
       "      <td>2</td>\n",
       "    </tr>\n",
       "    <tr>\n",
       "      <th>49</th>\n",
       "      <td>1106829</td>\n",
       "      <td>7</td>\n",
       "      <td>8</td>\n",
       "      <td>7</td>\n",
       "      <td>2</td>\n",
       "      <td>4</td>\n",
       "      <td>8</td>\n",
       "      <td>3</td>\n",
       "      <td>8</td>\n",
       "      <td>2</td>\n",
       "      <td>4</td>\n",
       "    </tr>\n",
       "  </tbody>\n",
       "</table>\n",
       "</div>"
      ],
      "text/plain": [
       "    idNumber  clumpThickness  uniformityOfCellSize  UniformityofCellShape  \\\n",
       "0    1000025               5                     1                      1   \n",
       "1    1002945               5                     4                      4   \n",
       "2    1015425               3                     1                      1   \n",
       "3    1016277               6                     8                      8   \n",
       "4    1017023               4                     1                      1   \n",
       "5    1017122               8                    10                     10   \n",
       "6    1018099               1                     1                      1   \n",
       "7    1018561               2                     1                      2   \n",
       "8    1033078               2                     1                      1   \n",
       "9    1033078               4                     2                      1   \n",
       "10   1035283               1                     1                      1   \n",
       "11   1036172               2                     1                      1   \n",
       "12   1041801               5                     3                      3   \n",
       "13   1043999               1                     1                      1   \n",
       "14   1044572               8                     7                      5   \n",
       "15   1047630               7                     4                      6   \n",
       "16   1048672               4                     1                      1   \n",
       "17   1049815               4                     1                      1   \n",
       "18   1050670              10                     7                      7   \n",
       "19   1050718               6                     1                      1   \n",
       "20   1054590               7                     3                      2   \n",
       "21   1054593              10                     5                      5   \n",
       "22   1056784               3                     1                      1   \n",
       "23   1057013               8                     4                      5   \n",
       "24   1059552               1                     1                      1   \n",
       "25   1065726               5                     2                      3   \n",
       "26   1066373               3                     2                      1   \n",
       "27   1066979               5                     1                      1   \n",
       "28   1067444               2                     1                      1   \n",
       "29   1070935               1                     1                      3   \n",
       "30   1070935               3                     1                      1   \n",
       "31   1071760               2                     1                      1   \n",
       "32   1072179              10                     7                      7   \n",
       "33   1074610               2                     1                      1   \n",
       "34   1075123               3                     1                      2   \n",
       "35   1079304               2                     1                      1   \n",
       "36   1080185              10                    10                     10   \n",
       "37   1081791               6                     2                      1   \n",
       "38   1084584               5                     4                      4   \n",
       "39   1091262               2                     5                      3   \n",
       "40   1096800               6                     6                      6   \n",
       "41   1099510              10                     4                      3   \n",
       "42   1100524               6                    10                     10   \n",
       "43   1102573               5                     6                      5   \n",
       "44   1103608              10                    10                     10   \n",
       "45   1103722               1                     1                      1   \n",
       "46   1105257               3                     7                      7   \n",
       "47   1105524               1                     1                      1   \n",
       "48   1106095               4                     1                      1   \n",
       "49   1106829               7                     8                      7   \n",
       "\n",
       "    MarginalAdhesion  SingleEpithelialCellSize BareNuclei  BlandChromatin  \\\n",
       "0                  1                         2          1               3   \n",
       "1                  5                         7         10               3   \n",
       "2                  1                         2          2               3   \n",
       "3                  1                         3          4               3   \n",
       "4                  3                         2          1               3   \n",
       "5                  8                         7         10               9   \n",
       "6                  1                         2         10               3   \n",
       "7                  1                         2          1               3   \n",
       "8                  1                         2          1               1   \n",
       "9                  1                         2          1               2   \n",
       "10                 1                         1          1               3   \n",
       "11                 1                         2          1               2   \n",
       "12                 3                         2          3               4   \n",
       "13                 1                         2          3               3   \n",
       "14                10                         7          9               5   \n",
       "15                 4                         6          1               4   \n",
       "16                 1                         2          1               2   \n",
       "17                 1                         2          1               3   \n",
       "18                 6                         4         10               4   \n",
       "19                 1                         2          1               3   \n",
       "20                10                         5         10               5   \n",
       "21                 3                         6          7               7   \n",
       "22                 1                         2          1               2   \n",
       "23                 1                         2          ?               7   \n",
       "24                 1                         2          1               3   \n",
       "25                 4                         2          7               3   \n",
       "26                 1                         1          1               2   \n",
       "27                 1                         2          1               2   \n",
       "28                 1                         2          1               2   \n",
       "29                 1                         2          1               1   \n",
       "30                 1                         1          1               2   \n",
       "31                 1                         2          1               3   \n",
       "32                 3                         8          5               7   \n",
       "33                 2                         2          1               3   \n",
       "34                 1                         2          1               2   \n",
       "35                 1                         2          1               2   \n",
       "36                 8                         6          1               8   \n",
       "37                 1                         1          1               7   \n",
       "38                 9                         2         10               5   \n",
       "39                 3                         6          7               7   \n",
       "40                 9                         6          ?               7   \n",
       "41                 1                         3          3               6   \n",
       "42                 2                         8         10               7   \n",
       "43                 6                        10          1               3   \n",
       "44                 4                         8          1               8   \n",
       "45                 1                         2          1               2   \n",
       "46                 4                         4          9               4   \n",
       "47                 1                         2          1               2   \n",
       "48                 3                         2          1               3   \n",
       "49                 2                         4          8               3   \n",
       "\n",
       "    NormalNucleoli  Mitoses  Class  \n",
       "0                1        1      2  \n",
       "1                2        1      2  \n",
       "2                1        1      2  \n",
       "3                7        1      2  \n",
       "4                1        1      2  \n",
       "5                7        1      4  \n",
       "6                1        1      2  \n",
       "7                1        1      2  \n",
       "8                1        5      2  \n",
       "9                1        1      2  \n",
       "10               1        1      2  \n",
       "11               1        1      2  \n",
       "12               4        1      4  \n",
       "13               1        1      2  \n",
       "14               5        4      4  \n",
       "15               3        1      4  \n",
       "16               1        1      2  \n",
       "17               1        1      2  \n",
       "18               1        2      4  \n",
       "19               1        1      2  \n",
       "20               4        4      4  \n",
       "21              10        1      4  \n",
       "22               1        1      2  \n",
       "23               3        1      4  \n",
       "24               1        1      2  \n",
       "25               6        1      4  \n",
       "26               1        1      2  \n",
       "27               1        1      2  \n",
       "28               1        1      2  \n",
       "29               1        1      2  \n",
       "30               1        1      2  \n",
       "31               1        1      2  \n",
       "32               4        3      4  \n",
       "33               1        1      2  \n",
       "34               1        1      2  \n",
       "35               1        1      2  \n",
       "36               9        1      4  \n",
       "37               1        1      2  \n",
       "38               6        1      4  \n",
       "39               5        1      4  \n",
       "40               8        1      2  \n",
       "41               5        2      4  \n",
       "42               3        3      4  \n",
       "43               1        1      4  \n",
       "44              10        1      4  \n",
       "45               1        2      2  \n",
       "46               8        1      4  \n",
       "47               1        1      2  \n",
       "48               1        1      2  \n",
       "49               8        2      4  "
      ]
     },
     "execution_count": 6,
     "metadata": {},
     "output_type": "execute_result"
    }
   ],
   "source": [
    "df.head(50)"
   ]
  },
  {
   "cell_type": "code",
   "execution_count": 7,
   "metadata": {},
   "outputs": [
    {
     "name": "stdout",
     "output_type": "stream",
     "text": [
      "<class 'pandas.core.frame.DataFrame'>\n",
      "RangeIndex: 699 entries, 0 to 698\n",
      "Data columns (total 11 columns):\n",
      " #   Column                    Non-Null Count  Dtype \n",
      "---  ------                    --------------  ----- \n",
      " 0   idNumber                  699 non-null    int64 \n",
      " 1   clumpThickness            699 non-null    int64 \n",
      " 2   uniformityOfCellSize      699 non-null    int64 \n",
      " 3   UniformityofCellShape     699 non-null    int64 \n",
      " 4   MarginalAdhesion          699 non-null    int64 \n",
      " 5   SingleEpithelialCellSize  699 non-null    int64 \n",
      " 6   BareNuclei                699 non-null    object\n",
      " 7   BlandChromatin            699 non-null    int64 \n",
      " 8   NormalNucleoli            699 non-null    int64 \n",
      " 9   Mitoses                   699 non-null    int64 \n",
      " 10  Class                     699 non-null    int64 \n",
      "dtypes: int64(10), object(1)\n",
      "memory usage: 60.2+ KB\n"
     ]
    }
   ],
   "source": [
    "df.info()"
   ]
  },
  {
   "cell_type": "markdown",
   "metadata": {},
   "source": [
    "## Data Cleaning"
   ]
  },
  {
   "cell_type": "code",
   "execution_count": 8,
   "metadata": {},
   "outputs": [
    {
     "data": {
      "text/plain": [
       "Index(['idNumber', 'clumpThickness', 'uniformityOfCellSize',\n",
       "       'UniformityofCellShape', 'MarginalAdhesion', 'SingleEpithelialCellSize',\n",
       "       'BareNuclei', 'BlandChromatin', 'NormalNucleoli', 'Mitoses', 'Class'],\n",
       "      dtype='object')"
      ]
     },
     "execution_count": 8,
     "metadata": {},
     "output_type": "execute_result"
    }
   ],
   "source": [
    "df.columns"
   ]
  },
  {
   "cell_type": "code",
   "execution_count": 9,
   "metadata": {},
   "outputs": [
    {
     "data": {
      "text/plain": [
       "array(['1', '10', '2', '4', '3', '9', '7', '?', '5', '8', '6'],\n",
       "      dtype=object)"
      ]
     },
     "execution_count": 9,
     "metadata": {},
     "output_type": "execute_result"
    }
   ],
   "source": [
    "df[\"BareNuclei\"].unique()"
   ]
  },
  {
   "cell_type": "markdown",
   "metadata": {},
   "source": [
    "It was found that BareNuclei is identified as object. This could be due to the '?' it found in the column. We will assume that it signifies a missing value"
   ]
  },
  {
   "cell_type": "code",
   "execution_count": 10,
   "metadata": {},
   "outputs": [],
   "source": [
    "df.duplicated().sum()\n",
    "duplicates = df.duplicated()\n",
    "df[duplicates]\n",
    "df.drop_duplicates(inplace=True)"
   ]
  },
  {
   "cell_type": "code",
   "execution_count": 11,
   "metadata": {},
   "outputs": [],
   "source": [
    "columns = df.drop(columns = \"idNumber\", axis = 0, inplace = True)\n",
    "columns"
   ]
  },
  {
   "cell_type": "code",
   "execution_count": 12,
   "metadata": {},
   "outputs": [
    {
     "data": {
      "text/html": [
       "<div>\n",
       "<style scoped>\n",
       "    .dataframe tbody tr th:only-of-type {\n",
       "        vertical-align: middle;\n",
       "    }\n",
       "\n",
       "    .dataframe tbody tr th {\n",
       "        vertical-align: top;\n",
       "    }\n",
       "\n",
       "    .dataframe thead th {\n",
       "        text-align: right;\n",
       "    }\n",
       "</style>\n",
       "<table border=\"1\" class=\"dataframe\">\n",
       "  <thead>\n",
       "    <tr style=\"text-align: right;\">\n",
       "      <th></th>\n",
       "      <th>clumpThickness</th>\n",
       "      <th>uniformityOfCellSize</th>\n",
       "      <th>UniformityofCellShape</th>\n",
       "      <th>MarginalAdhesion</th>\n",
       "      <th>SingleEpithelialCellSize</th>\n",
       "      <th>BareNuclei</th>\n",
       "      <th>BlandChromatin</th>\n",
       "      <th>NormalNucleoli</th>\n",
       "      <th>Mitoses</th>\n",
       "      <th>Class</th>\n",
       "    </tr>\n",
       "  </thead>\n",
       "  <tbody>\n",
       "    <tr>\n",
       "      <th>0</th>\n",
       "      <td>5</td>\n",
       "      <td>1</td>\n",
       "      <td>1</td>\n",
       "      <td>1</td>\n",
       "      <td>2</td>\n",
       "      <td>1</td>\n",
       "      <td>3</td>\n",
       "      <td>1</td>\n",
       "      <td>1</td>\n",
       "      <td>2</td>\n",
       "    </tr>\n",
       "    <tr>\n",
       "      <th>1</th>\n",
       "      <td>5</td>\n",
       "      <td>4</td>\n",
       "      <td>4</td>\n",
       "      <td>5</td>\n",
       "      <td>7</td>\n",
       "      <td>10</td>\n",
       "      <td>3</td>\n",
       "      <td>2</td>\n",
       "      <td>1</td>\n",
       "      <td>2</td>\n",
       "    </tr>\n",
       "    <tr>\n",
       "      <th>2</th>\n",
       "      <td>3</td>\n",
       "      <td>1</td>\n",
       "      <td>1</td>\n",
       "      <td>1</td>\n",
       "      <td>2</td>\n",
       "      <td>2</td>\n",
       "      <td>3</td>\n",
       "      <td>1</td>\n",
       "      <td>1</td>\n",
       "      <td>2</td>\n",
       "    </tr>\n",
       "    <tr>\n",
       "      <th>3</th>\n",
       "      <td>6</td>\n",
       "      <td>8</td>\n",
       "      <td>8</td>\n",
       "      <td>1</td>\n",
       "      <td>3</td>\n",
       "      <td>4</td>\n",
       "      <td>3</td>\n",
       "      <td>7</td>\n",
       "      <td>1</td>\n",
       "      <td>2</td>\n",
       "    </tr>\n",
       "    <tr>\n",
       "      <th>4</th>\n",
       "      <td>4</td>\n",
       "      <td>1</td>\n",
       "      <td>1</td>\n",
       "      <td>3</td>\n",
       "      <td>2</td>\n",
       "      <td>1</td>\n",
       "      <td>3</td>\n",
       "      <td>1</td>\n",
       "      <td>1</td>\n",
       "      <td>2</td>\n",
       "    </tr>\n",
       "    <tr>\n",
       "      <th>...</th>\n",
       "      <td>...</td>\n",
       "      <td>...</td>\n",
       "      <td>...</td>\n",
       "      <td>...</td>\n",
       "      <td>...</td>\n",
       "      <td>...</td>\n",
       "      <td>...</td>\n",
       "      <td>...</td>\n",
       "      <td>...</td>\n",
       "      <td>...</td>\n",
       "    </tr>\n",
       "    <tr>\n",
       "      <th>694</th>\n",
       "      <td>3</td>\n",
       "      <td>1</td>\n",
       "      <td>1</td>\n",
       "      <td>1</td>\n",
       "      <td>3</td>\n",
       "      <td>2</td>\n",
       "      <td>1</td>\n",
       "      <td>1</td>\n",
       "      <td>1</td>\n",
       "      <td>2</td>\n",
       "    </tr>\n",
       "    <tr>\n",
       "      <th>695</th>\n",
       "      <td>2</td>\n",
       "      <td>1</td>\n",
       "      <td>1</td>\n",
       "      <td>1</td>\n",
       "      <td>2</td>\n",
       "      <td>1</td>\n",
       "      <td>1</td>\n",
       "      <td>1</td>\n",
       "      <td>1</td>\n",
       "      <td>2</td>\n",
       "    </tr>\n",
       "    <tr>\n",
       "      <th>696</th>\n",
       "      <td>5</td>\n",
       "      <td>10</td>\n",
       "      <td>10</td>\n",
       "      <td>3</td>\n",
       "      <td>7</td>\n",
       "      <td>3</td>\n",
       "      <td>8</td>\n",
       "      <td>10</td>\n",
       "      <td>2</td>\n",
       "      <td>4</td>\n",
       "    </tr>\n",
       "    <tr>\n",
       "      <th>697</th>\n",
       "      <td>4</td>\n",
       "      <td>8</td>\n",
       "      <td>6</td>\n",
       "      <td>4</td>\n",
       "      <td>3</td>\n",
       "      <td>4</td>\n",
       "      <td>10</td>\n",
       "      <td>6</td>\n",
       "      <td>1</td>\n",
       "      <td>4</td>\n",
       "    </tr>\n",
       "    <tr>\n",
       "      <th>698</th>\n",
       "      <td>4</td>\n",
       "      <td>8</td>\n",
       "      <td>8</td>\n",
       "      <td>5</td>\n",
       "      <td>4</td>\n",
       "      <td>5</td>\n",
       "      <td>10</td>\n",
       "      <td>4</td>\n",
       "      <td>1</td>\n",
       "      <td>4</td>\n",
       "    </tr>\n",
       "  </tbody>\n",
       "</table>\n",
       "<p>691 rows × 10 columns</p>\n",
       "</div>"
      ],
      "text/plain": [
       "     clumpThickness  uniformityOfCellSize  UniformityofCellShape  \\\n",
       "0                 5                     1                      1   \n",
       "1                 5                     4                      4   \n",
       "2                 3                     1                      1   \n",
       "3                 6                     8                      8   \n",
       "4                 4                     1                      1   \n",
       "..              ...                   ...                    ...   \n",
       "694               3                     1                      1   \n",
       "695               2                     1                      1   \n",
       "696               5                    10                     10   \n",
       "697               4                     8                      6   \n",
       "698               4                     8                      8   \n",
       "\n",
       "     MarginalAdhesion  SingleEpithelialCellSize BareNuclei  BlandChromatin  \\\n",
       "0                   1                         2          1               3   \n",
       "1                   5                         7         10               3   \n",
       "2                   1                         2          2               3   \n",
       "3                   1                         3          4               3   \n",
       "4                   3                         2          1               3   \n",
       "..                ...                       ...        ...             ...   \n",
       "694                 1                         3          2               1   \n",
       "695                 1                         2          1               1   \n",
       "696                 3                         7          3               8   \n",
       "697                 4                         3          4              10   \n",
       "698                 5                         4          5              10   \n",
       "\n",
       "     NormalNucleoli  Mitoses  Class  \n",
       "0                 1        1      2  \n",
       "1                 2        1      2  \n",
       "2                 1        1      2  \n",
       "3                 7        1      2  \n",
       "4                 1        1      2  \n",
       "..              ...      ...    ...  \n",
       "694               1        1      2  \n",
       "695               1        1      2  \n",
       "696              10        2      4  \n",
       "697               6        1      4  \n",
       "698               4        1      4  \n",
       "\n",
       "[691 rows x 10 columns]"
      ]
     },
     "execution_count": 12,
     "metadata": {},
     "output_type": "execute_result"
    }
   ],
   "source": [
    "df"
   ]
  },
  {
   "cell_type": "code",
   "execution_count": 13,
   "metadata": {},
   "outputs": [
    {
     "data": {
      "text/plain": [
       "Class                       0\n",
       "Mitoses                     0\n",
       "NormalNucleoli              0\n",
       "BlandChromatin              0\n",
       "BareNuclei                  0\n",
       "SingleEpithelialCellSize    0\n",
       "MarginalAdhesion            0\n",
       "UniformityofCellShape       0\n",
       "uniformityOfCellSize        0\n",
       "clumpThickness              0\n",
       "dtype: int64"
      ]
     },
     "execution_count": 13,
     "metadata": {},
     "output_type": "execute_result"
    }
   ],
   "source": [
    "#to identify any missing values\n",
    "df = df[df.iloc[:] != '?']\n",
    "df.dropna(subset = df.columns, inplace=True)\n",
    "df.isnull().sum().sort_values(ascending=False)"
   ]
  },
  {
   "cell_type": "code",
   "execution_count": 14,
   "metadata": {},
   "outputs": [],
   "source": [
    "#to replace class values 2 and 4 into 0 and 1 respectively\n",
    "df.replace({'Class':{2:0, 4:1}}, inplace=True)"
   ]
  },
  {
   "cell_type": "code",
   "execution_count": 15,
   "metadata": {},
   "outputs": [
    {
     "data": {
      "text/plain": [
       "(675, 10)"
      ]
     },
     "execution_count": 15,
     "metadata": {},
     "output_type": "execute_result"
    }
   ],
   "source": [
    "df.shape"
   ]
  },
  {
   "cell_type": "code",
   "execution_count": 16,
   "metadata": {},
   "outputs": [],
   "source": [
    "#to convert the data type of BareNuclei from object to int64\n",
    "df[\"BareNuclei\"] = df[\"BareNuclei\"].astype(str).astype('int64')"
   ]
  },
  {
   "cell_type": "code",
   "execution_count": 17,
   "metadata": {},
   "outputs": [
    {
     "name": "stdout",
     "output_type": "stream",
     "text": [
      "<class 'pandas.core.frame.DataFrame'>\n",
      "Int64Index: 675 entries, 0 to 698\n",
      "Data columns (total 10 columns):\n",
      " #   Column                    Non-Null Count  Dtype\n",
      "---  ------                    --------------  -----\n",
      " 0   clumpThickness            675 non-null    int64\n",
      " 1   uniformityOfCellSize      675 non-null    int64\n",
      " 2   UniformityofCellShape     675 non-null    int64\n",
      " 3   MarginalAdhesion          675 non-null    int64\n",
      " 4   SingleEpithelialCellSize  675 non-null    int64\n",
      " 5   BareNuclei                675 non-null    int64\n",
      " 6   BlandChromatin            675 non-null    int64\n",
      " 7   NormalNucleoli            675 non-null    int64\n",
      " 8   Mitoses                   675 non-null    int64\n",
      " 9   Class                     675 non-null    int64\n",
      "dtypes: int64(10)\n",
      "memory usage: 58.0 KB\n"
     ]
    }
   ],
   "source": [
    "df.info()"
   ]
  },
  {
   "cell_type": "markdown",
   "metadata": {},
   "source": [
    "## Checking for outliers"
   ]
  },
  {
   "cell_type": "code",
   "execution_count": 18,
   "metadata": {},
   "outputs": [
    {
     "data": {
      "image/png": "[encoded data removed]",
      "text/plain": [
       "<Figure size 1440x720 with 1 Axes>"
      ]
     },
     "metadata": {
      "needs_background": "light"
     },
     "output_type": "display_data"
    }
   ],
   "source": [
    "df.boxplot(column = columns, rot=45, fontsize = 15, grid = True, figsize = (20,10));"
   ]
  },
  {
   "cell_type": "code",
   "execution_count": 19,
   "metadata": {},
   "outputs": [
    {
     "name": "stdout",
     "output_type": "stream",
     "text": [
      "clumpThickness              4.0\n",
      "uniformityOfCellSize        4.0\n",
      "UniformityofCellShape       4.0\n",
      "MarginalAdhesion            3.0\n",
      "SingleEpithelialCellSize    2.0\n",
      "BareNuclei                  5.0\n",
      "BlandChromatin              3.0\n",
      "NormalNucleoli              3.0\n",
      "Mitoses                     0.0\n",
      "Class                       1.0\n",
      "dtype: float64\n"
     ]
    }
   ],
   "source": [
    "df_outliers = pd.DataFrame(df.loc[:,])\n",
    "\n",
    "# Calculate IQR\n",
    "Q1 = df_outliers.quantile(0.25)\n",
    "Q3 = df_outliers.quantile(0.75)\n",
    "IQR = Q3 - Q1\n",
    "\n",
    "print(IQR)"
   ]
  },
  {
   "cell_type": "code",
   "execution_count": 20,
   "metadata": {},
   "outputs": [],
   "source": [
    "for i, j in zip(np.where(df_outliers > Q3 + 1.5 * IQR)[0], np.where(df_outliers > Q3 + 1.5 * IQR)[1]):\n",
    "    \n",
    "    whisker  = Q3 + 1.5 * IQR\n",
    "    df_outliers.iloc[i,j] = whisker[j]\n",
    "    \n",
    "# Replace every outlier on the lower side by the lower whisker - for 'water' column\n",
    "for i, j in zip(np.where(df_outliers < Q1 - 1.5 * IQR)[0], np.where(df_outliers < Q1 - 1.5 * IQR)[1]): \n",
    "    \n",
    "    whisker  = Q1 - 1.5 * IQR\n",
    "    df_outliers.iloc[i,j] = whisker[j]"
   ]
  },
  {
   "cell_type": "code",
   "execution_count": 21,
   "metadata": {},
   "outputs": [
    {
     "data": {
      "image/png": "[encoded data removed]",
      "text/plain": [
       "<Figure size 1440x720 with 1 Axes>"
      ]
     },
     "metadata": {
      "needs_background": "light"
     },
     "output_type": "display_data"
    }
   ],
   "source": [
    "df.boxplot(column = columns, rot=45, fontsize = 15, grid = True, figsize = (20,10));"
   ]
  },
  {
   "cell_type": "markdown",
   "metadata": {},
   "source": [
    "## Exploratory Data Analysis"
   ]
  },
  {
   "cell_type": "code",
   "execution_count": 22,
   "metadata": {},
   "outputs": [],
   "source": [
    "df_copy = df.copy()"
   ]
  },
  {
   "cell_type": "code",
   "execution_count": 23,
   "metadata": {},
   "outputs": [
    {
     "data": {
      "text/html": [
       "<div>\n",
       "<style scoped>\n",
       "    .dataframe tbody tr th:only-of-type {\n",
       "        vertical-align: middle;\n",
       "    }\n",
       "\n",
       "    .dataframe tbody tr th {\n",
       "        vertical-align: top;\n",
       "    }\n",
       "\n",
       "    .dataframe thead th {\n",
       "        text-align: right;\n",
       "    }\n",
       "</style>\n",
       "<table border=\"1\" class=\"dataframe\">\n",
       "  <thead>\n",
       "    <tr style=\"text-align: right;\">\n",
       "      <th></th>\n",
       "      <th>clumpThickness</th>\n",
       "      <th>uniformityOfCellSize</th>\n",
       "      <th>UniformityofCellShape</th>\n",
       "      <th>MarginalAdhesion</th>\n",
       "      <th>SingleEpithelialCellSize</th>\n",
       "      <th>BareNuclei</th>\n",
       "      <th>BlandChromatin</th>\n",
       "      <th>NormalNucleoli</th>\n",
       "      <th>Mitoses</th>\n",
       "      <th>Class</th>\n",
       "    </tr>\n",
       "  </thead>\n",
       "  <tbody>\n",
       "    <tr>\n",
       "      <th>0</th>\n",
       "      <td>5</td>\n",
       "      <td>1</td>\n",
       "      <td>1</td>\n",
       "      <td>1.0</td>\n",
       "      <td>2.0</td>\n",
       "      <td>1</td>\n",
       "      <td>3.0</td>\n",
       "      <td>1.0</td>\n",
       "      <td>1.0</td>\n",
       "      <td>0</td>\n",
       "    </tr>\n",
       "    <tr>\n",
       "      <th>1</th>\n",
       "      <td>5</td>\n",
       "      <td>4</td>\n",
       "      <td>4</td>\n",
       "      <td>5.0</td>\n",
       "      <td>7.0</td>\n",
       "      <td>10</td>\n",
       "      <td>3.0</td>\n",
       "      <td>2.0</td>\n",
       "      <td>1.0</td>\n",
       "      <td>0</td>\n",
       "    </tr>\n",
       "    <tr>\n",
       "      <th>2</th>\n",
       "      <td>3</td>\n",
       "      <td>1</td>\n",
       "      <td>1</td>\n",
       "      <td>1.0</td>\n",
       "      <td>2.0</td>\n",
       "      <td>2</td>\n",
       "      <td>3.0</td>\n",
       "      <td>1.0</td>\n",
       "      <td>1.0</td>\n",
       "      <td>0</td>\n",
       "    </tr>\n",
       "    <tr>\n",
       "      <th>3</th>\n",
       "      <td>6</td>\n",
       "      <td>8</td>\n",
       "      <td>8</td>\n",
       "      <td>1.0</td>\n",
       "      <td>3.0</td>\n",
       "      <td>4</td>\n",
       "      <td>3.0</td>\n",
       "      <td>7.0</td>\n",
       "      <td>1.0</td>\n",
       "      <td>0</td>\n",
       "    </tr>\n",
       "    <tr>\n",
       "      <th>4</th>\n",
       "      <td>4</td>\n",
       "      <td>1</td>\n",
       "      <td>1</td>\n",
       "      <td>3.0</td>\n",
       "      <td>2.0</td>\n",
       "      <td>1</td>\n",
       "      <td>3.0</td>\n",
       "      <td>1.0</td>\n",
       "      <td>1.0</td>\n",
       "      <td>0</td>\n",
       "    </tr>\n",
       "    <tr>\n",
       "      <th>...</th>\n",
       "      <td>...</td>\n",
       "      <td>...</td>\n",
       "      <td>...</td>\n",
       "      <td>...</td>\n",
       "      <td>...</td>\n",
       "      <td>...</td>\n",
       "      <td>...</td>\n",
       "      <td>...</td>\n",
       "      <td>...</td>\n",
       "      <td>...</td>\n",
       "    </tr>\n",
       "    <tr>\n",
       "      <th>694</th>\n",
       "      <td>3</td>\n",
       "      <td>1</td>\n",
       "      <td>1</td>\n",
       "      <td>1.0</td>\n",
       "      <td>3.0</td>\n",
       "      <td>2</td>\n",
       "      <td>1.0</td>\n",
       "      <td>1.0</td>\n",
       "      <td>1.0</td>\n",
       "      <td>0</td>\n",
       "    </tr>\n",
       "    <tr>\n",
       "      <th>695</th>\n",
       "      <td>2</td>\n",
       "      <td>1</td>\n",
       "      <td>1</td>\n",
       "      <td>1.0</td>\n",
       "      <td>2.0</td>\n",
       "      <td>1</td>\n",
       "      <td>1.0</td>\n",
       "      <td>1.0</td>\n",
       "      <td>1.0</td>\n",
       "      <td>0</td>\n",
       "    </tr>\n",
       "    <tr>\n",
       "      <th>696</th>\n",
       "      <td>5</td>\n",
       "      <td>10</td>\n",
       "      <td>10</td>\n",
       "      <td>3.0</td>\n",
       "      <td>7.0</td>\n",
       "      <td>3</td>\n",
       "      <td>8.0</td>\n",
       "      <td>8.5</td>\n",
       "      <td>1.0</td>\n",
       "      <td>1</td>\n",
       "    </tr>\n",
       "    <tr>\n",
       "      <th>697</th>\n",
       "      <td>4</td>\n",
       "      <td>8</td>\n",
       "      <td>6</td>\n",
       "      <td>4.0</td>\n",
       "      <td>3.0</td>\n",
       "      <td>4</td>\n",
       "      <td>9.5</td>\n",
       "      <td>6.0</td>\n",
       "      <td>1.0</td>\n",
       "      <td>1</td>\n",
       "    </tr>\n",
       "    <tr>\n",
       "      <th>698</th>\n",
       "      <td>4</td>\n",
       "      <td>8</td>\n",
       "      <td>8</td>\n",
       "      <td>5.0</td>\n",
       "      <td>4.0</td>\n",
       "      <td>5</td>\n",
       "      <td>9.5</td>\n",
       "      <td>4.0</td>\n",
       "      <td>1.0</td>\n",
       "      <td>1</td>\n",
       "    </tr>\n",
       "  </tbody>\n",
       "</table>\n",
       "<p>675 rows × 10 columns</p>\n",
       "</div>"
      ],
      "text/plain": [
       "     clumpThickness  uniformityOfCellSize  UniformityofCellShape  \\\n",
       "0                 5                     1                      1   \n",
       "1                 5                     4                      4   \n",
       "2                 3                     1                      1   \n",
       "3                 6                     8                      8   \n",
       "4                 4                     1                      1   \n",
       "..              ...                   ...                    ...   \n",
       "694               3                     1                      1   \n",
       "695               2                     1                      1   \n",
       "696               5                    10                     10   \n",
       "697               4                     8                      6   \n",
       "698               4                     8                      8   \n",
       "\n",
       "     MarginalAdhesion  SingleEpithelialCellSize  BareNuclei  BlandChromatin  \\\n",
       "0                 1.0                       2.0           1             3.0   \n",
       "1                 5.0                       7.0          10             3.0   \n",
       "2                 1.0                       2.0           2             3.0   \n",
       "3                 1.0                       3.0           4             3.0   \n",
       "4                 3.0                       2.0           1             3.0   \n",
       "..                ...                       ...         ...             ...   \n",
       "694               1.0                       3.0           2             1.0   \n",
       "695               1.0                       2.0           1             1.0   \n",
       "696               3.0                       7.0           3             8.0   \n",
       "697               4.0                       3.0           4             9.5   \n",
       "698               5.0                       4.0           5             9.5   \n",
       "\n",
       "     NormalNucleoli  Mitoses  Class  \n",
       "0               1.0      1.0      0  \n",
       "1               2.0      1.0      0  \n",
       "2               1.0      1.0      0  \n",
       "3               7.0      1.0      0  \n",
       "4               1.0      1.0      0  \n",
       "..              ...      ...    ...  \n",
       "694             1.0      1.0      0  \n",
       "695             1.0      1.0      0  \n",
       "696             8.5      1.0      1  \n",
       "697             6.0      1.0      1  \n",
       "698             4.0      1.0      1  \n",
       "\n",
       "[675 rows x 10 columns]"
      ]
     },
     "execution_count": 23,
     "metadata": {},
     "output_type": "execute_result"
    }
   ],
   "source": [
    "df_copy"
   ]
  },
  {
   "cell_type": "code",
   "execution_count": 24,
   "metadata": {},
   "outputs": [
    {
     "data": {
      "text/plain": [
       "Class                       0\n",
       "Mitoses                     0\n",
       "NormalNucleoli              0\n",
       "BlandChromatin              0\n",
       "BareNuclei                  0\n",
       "SingleEpithelialCellSize    0\n",
       "MarginalAdhesion            0\n",
       "UniformityofCellShape       0\n",
       "uniformityOfCellSize        0\n",
       "clumpThickness              0\n",
       "dtype: int64"
      ]
     },
     "execution_count": 24,
     "metadata": {},
     "output_type": "execute_result"
    }
   ],
   "source": [
    "df_copy.isnull().sum().sort_values(ascending=False)"
   ]
  },
  {
   "cell_type": "code",
   "execution_count": 25,
   "metadata": {},
   "outputs": [
    {
     "data": {
      "text/plain": [
       "Index(['clumpThickness', 'uniformityOfCellSize', 'UniformityofCellShape',\n",
       "       'MarginalAdhesion', 'SingleEpithelialCellSize', 'BareNuclei',\n",
       "       'BlandChromatin', 'NormalNucleoli', 'Mitoses', 'Class'],\n",
       "      dtype='object')"
      ]
     },
     "execution_count": 25,
     "metadata": {},
     "output_type": "execute_result"
    }
   ],
   "source": [
    "# to get the column names of the datset\n",
    "columns = df_copy.columns\n",
    "columns"
   ]
  },
  {
   "cell_type": "code",
   "execution_count": 26,
   "metadata": {},
   "outputs": [],
   "source": [
    "# to convert arrays to list\n",
    "columns = columns.tolist()"
   ]
  },
  {
   "cell_type": "code",
   "execution_count": 27,
   "metadata": {},
   "outputs": [
    {
     "data": {
      "image/png": "[encoded data removed]",
      "text/plain": [
       "<Figure size 1440x720 with 1 Axes>"
      ]
     },
     "metadata": {
      "needs_background": "light"
     },
     "output_type": "display_data"
    }
   ],
   "source": [
    "# to show the boxplot\n",
    "df_copy.boxplot(column = columns, rot=45, fontsize = 15, grid = True, figsize = (20,10));"
   ]
  },
  {
   "cell_type": "code",
   "execution_count": 28,
   "metadata": {},
   "outputs": [
    {
     "data": {
      "text/plain": [
       "Index(['clumpThickness', 'uniformityOfCellSize', 'UniformityofCellShape',\n",
       "       'MarginalAdhesion', 'SingleEpithelialCellSize', 'BareNuclei',\n",
       "       'BlandChromatin', 'NormalNucleoli', 'Mitoses', 'Class'],\n",
       "      dtype='object')"
      ]
     },
     "execution_count": 28,
     "metadata": {},
     "output_type": "execute_result"
    }
   ],
   "source": [
    "# to get the column names of the datset\n",
    "cols = df_copy.columns\n",
    "cols"
   ]
  },
  {
   "cell_type": "code",
   "execution_count": 29,
   "metadata": {},
   "outputs": [],
   "source": [
    "# to convert arrays to list\n",
    "cols = cols.tolist()"
   ]
  },
  {
   "cell_type": "code",
   "execution_count": 30,
   "metadata": {},
   "outputs": [
    {
     "data": {
      "image/png": "[encoded data removed]",
      "text/plain": [
       "<Figure size 1440x720 with 1 Axes>"
      ]
     },
     "metadata": {
      "needs_background": "light"
     },
     "output_type": "display_data"
    }
   ],
   "source": [
    "# to show the boxplot\n",
    "df_copy.boxplot(column = cols, rot=45, fontsize = 15, grid = True, figsize = (20,10));"
   ]
  },
  {
   "cell_type": "code",
   "execution_count": 31,
   "metadata": {},
   "outputs": [
    {
     "data": {
      "text/plain": [
       "<AxesSubplot:>"
      ]
     },
     "execution_count": 31,
     "metadata": {},
     "output_type": "execute_result"
    },
    {
     "data": {
      "image/png": "[encoded data removed]",
      "text/plain": [
       "<Figure size 1800x1800 with 110 Axes>"
      ]
     },
     "metadata": {
      "needs_background": "light"
     },
     "output_type": "display_data"
    },
    {
     "data": {
      "image/png": "[encoded data removed]",
      "text/plain": [
       "<Figure size 460.8x345.6 with 2 Axes>"
      ]
     },
     "metadata": {
      "needs_background": "light"
     },
     "output_type": "display_data"
    }
   ],
   "source": [
    "# To view the scatterplot of our dataset\n",
    "sns.pairplot(df_copy)\n",
    "\n",
    "# To determine the Pearson's Coefficient of Correlation for the whole dataset\n",
    "dataset_correlation = df_copy.corr()\n",
    "plt.figure(figsize= (6.4, 4.8))\n",
    "sns.heatmap(df_copy, annot=True, linewidths=3)\n"
   ]
  },
  {
   "cell_type": "code",
   "execution_count": 32,
   "metadata": {},
   "outputs": [
    {
     "data": {
      "image/png": "[encoded data removed]",
      "text/plain": [
       "<Figure size 864x720 with 2 Axes>"
      ]
     },
     "metadata": {
      "needs_background": "light"
     },
     "output_type": "display_data"
    }
   ],
   "source": [
    "corr = abs(df.corr()) # correlation matrix\n",
    "lower_triangle = np.tril(corr, k = -1)  # select only the lower triangle of the correlation matrix\n",
    "mask = lower_triangle == 0  # to mask the upper triangle in the following heatmap\n",
    "\n",
    "plt.figure(figsize = (12,10))\n",
    "sns.heatmap(lower_triangle, center = 0.5, cmap = 'coolwarm', annot= True, xticklabels = corr.index, yticklabels = corr.columns,\n",
    "            cbar= True, linewidths= 1, mask = mask)   # Da Heatmap\n",
    "plt.show()"
   ]
  },
  {
   "cell_type": "code",
   "execution_count": 33,
   "metadata": {},
   "outputs": [],
   "source": [
    "df[\"Class\"] = df[\"Class\"].astype(\"category\") "
   ]
  },
  {
   "cell_type": "code",
   "execution_count": 34,
   "metadata": {},
   "outputs": [],
   "source": [
    "# To create the matrix of independent variable, x\n",
    "X = df_copy.iloc[:,0:9].values\n",
    "# To create the matrix of dependent variable, y\n",
    "Y = df_copy.iloc[:,9].values"
   ]
  },
  {
   "cell_type": "code",
   "execution_count": 35,
   "metadata": {},
   "outputs": [
    {
     "data": {
      "text/plain": [
       "array([[ 5. ,  1. ,  1. , ...,  3. ,  1. ,  1. ],\n",
       "       [ 5. ,  4. ,  4. , ...,  3. ,  2. ,  1. ],\n",
       "       [ 3. ,  1. ,  1. , ...,  3. ,  1. ,  1. ],\n",
       "       ...,\n",
       "       [ 5. , 10. , 10. , ...,  8. ,  8.5,  1. ],\n",
       "       [ 4. ,  8. ,  6. , ...,  9.5,  6. ,  1. ],\n",
       "       [ 4. ,  8. ,  8. , ...,  9.5,  4. ,  1. ]])"
      ]
     },
     "execution_count": 35,
     "metadata": {},
     "output_type": "execute_result"
    }
   ],
   "source": [
    "X"
   ]
  },
  {
   "cell_type": "code",
   "execution_count": 36,
   "metadata": {},
   "outputs": [
    {
     "data": {
      "text/plain": [
       "array([0, 0, 0, 0, 0, 1, 0, 0, 0, 0, 0, 0, 1, 0, 1, 1, 0, 0, 1, 0, 1, 1,\n",
       "       0, 0, 1, 0, 0, 0, 0, 0, 0, 1, 0, 0, 0, 1, 0, 1, 1, 1, 1, 1, 1, 0,\n",
       "       1, 0, 0, 1, 1, 1, 1, 1, 1, 1, 1, 1, 1, 1, 1, 0, 1, 1, 0, 1, 0, 1,\n",
       "       1, 0, 0, 1, 0, 1, 1, 0, 0, 0, 0, 0, 0, 0, 0, 0, 1, 1, 1, 1, 0, 0,\n",
       "       0, 0, 0, 0, 0, 0, 0, 0, 1, 1, 1, 1, 0, 1, 1, 1, 1, 1, 0, 1, 0, 1,\n",
       "       1, 1, 0, 0, 0, 1, 0, 0, 0, 0, 1, 1, 1, 0, 1, 0, 1, 0, 0, 0, 1, 0,\n",
       "       0, 0, 0, 0, 0, 0, 0, 1, 0, 0, 1, 0, 0, 1, 0, 1, 1, 0, 0, 1, 0, 0,\n",
       "       1, 1, 0, 0, 0, 0, 1, 1, 0, 0, 0, 0, 0, 1, 1, 1, 0, 1, 0, 1, 0, 0,\n",
       "       0, 1, 1, 0, 1, 1, 1, 0, 1, 1, 0, 0, 0, 0, 0, 0, 0, 0, 1, 1, 0, 0,\n",
       "       0, 1, 1, 0, 0, 1, 1, 0, 1, 1, 1, 0, 0, 1, 0, 0, 1, 1, 1, 1, 0, 1,\n",
       "       1, 0, 1, 1, 1, 0, 1, 0, 1, 1, 1, 1, 0, 0, 0, 0, 0, 0, 1, 1, 0, 0,\n",
       "       1, 0, 1, 0, 0, 0, 1, 1, 1, 1, 1, 0, 1, 1, 1, 0, 1, 0, 1, 0, 0, 0,\n",
       "       0, 1, 0, 0, 1, 1, 1, 1, 1, 0, 1, 1, 0, 0, 1, 1, 0, 0, 1, 1, 0, 1,\n",
       "       0, 1, 1, 0, 0, 1, 0, 0, 0, 1, 0, 0, 1, 1, 0, 0, 1, 0, 1, 0, 0, 1,\n",
       "       0, 1, 1, 1, 0, 0, 1, 1, 0, 1, 0, 1, 1, 0, 0, 0, 1, 0, 0, 0, 1, 1,\n",
       "       0, 0, 0, 1, 0, 0, 1, 1, 1, 1, 1, 1, 0, 0, 0, 0, 1, 1, 0, 0, 0, 0,\n",
       "       0, 0, 0, 0, 0, 0, 0, 0, 0, 1, 0, 0, 0, 0, 1, 0, 0, 0, 0, 1, 0, 0,\n",
       "       0, 0, 0, 0, 0, 0, 1, 0, 0, 0, 0, 0, 0, 0, 0, 0, 0, 1, 0, 1, 0, 1,\n",
       "       0, 0, 0, 0, 1, 0, 0, 0, 1, 0, 1, 0, 0, 0, 0, 0, 0, 0, 1, 1, 0, 0,\n",
       "       0, 1, 0, 0, 0, 0, 0, 0, 0, 0, 1, 0, 0, 0, 1, 0, 1, 1, 1, 0, 0, 0,\n",
       "       0, 0, 0, 0, 1, 1, 1, 0, 0, 0, 0, 0, 0, 0, 0, 0, 0, 0, 1, 0, 0, 1,\n",
       "       1, 0, 0, 0, 1, 1, 1, 0, 1, 0, 1, 0, 0, 0, 0, 0, 0, 0, 0, 0, 0, 0,\n",
       "       0, 1, 0, 0, 0, 0, 0, 0, 0, 1, 1, 0, 0, 0, 1, 0, 0, 1, 1, 0, 0, 0,\n",
       "       0, 0, 0, 1, 0, 0, 0, 0, 0, 0, 0, 0, 0, 0, 0, 0, 0, 0, 0, 1, 0, 0,\n",
       "       1, 0, 0, 0, 0, 0, 0, 0, 0, 0, 0, 0, 0, 0, 0, 1, 0, 0, 1, 1, 1, 1,\n",
       "       0, 0, 1, 0, 0, 0, 0, 0, 0, 1, 1, 0, 0, 0, 1, 0, 1, 0, 1, 1, 1, 0,\n",
       "       1, 0, 0, 0, 0, 0, 0, 0, 0, 1, 1, 1, 0, 0, 1, 0, 1, 1, 1, 0, 0, 0,\n",
       "       0, 0, 0, 0, 0, 0, 0, 0, 0, 1, 0, 0, 0, 0, 0, 0, 1, 0, 0, 1, 0, 0,\n",
       "       0, 0, 0, 0, 0, 0, 0, 0, 0, 1, 0, 0, 0, 0, 0, 0, 0, 0, 0, 1, 0, 0,\n",
       "       0, 0, 0, 0, 0, 0, 0, 1, 1, 1, 0, 0, 0, 0, 0, 0, 0, 0, 0, 1, 1, 0,\n",
       "       0, 0, 0, 0, 0, 0, 0, 1, 0, 0, 0, 0, 1, 1, 1], dtype=int64)"
      ]
     },
     "execution_count": 36,
     "metadata": {},
     "output_type": "execute_result"
    }
   ],
   "source": [
    "Y"
   ]
  },
  {
   "cell_type": "code",
   "execution_count": 37,
   "metadata": {},
   "outputs": [],
   "source": [
    "# To encode the categorical data\n",
    "from sklearn.preprocessing import LabelEncoder\n",
    "\n",
    "# A. To encode the categorical data (State) in the independent variable, X\n",
    "label_encoder_X = LabelEncoder()\n",
    "X[:,0] = label_encoder_X.fit_transform(X[:,0])"
   ]
  },
  {
   "cell_type": "code",
   "execution_count": 38,
   "metadata": {},
   "outputs": [],
   "source": [
    "# To split the whole dataset into training dataset and testing dataset\n",
    "from sklearn.model_selection import train_test_split\n",
    "X_train, X_test, Y_train, Y_test = train_test_split(X, Y, test_size=0.2, random_state=0) #train_size=0.8, you can either still put this or not since test_size is already defined. By default, remaining is for training"
   ]
  },
  {
   "cell_type": "code",
   "execution_count": 39,
   "metadata": {},
   "outputs": [],
   "source": [
    "# To perform feature scaling \n",
    "# For standardization feature scaling\n",
    "from sklearn.preprocessing import StandardScaler # for not normally distributed samples\n",
    "standard_scaler = StandardScaler ()\n",
    "X_train_standard = X_train.copy()\n",
    "X_test_standard = X_test.copy()\n",
    "X_train_standard = standard_scaler.fit_transform(X_train_standard)\n",
    "X_test_standard = standard_scaler.fit_transform(X_test_standard) "
   ]
  },
  {
   "cell_type": "code",
   "execution_count": 40,
   "metadata": {},
   "outputs": [
    {
     "data": {
      "text/plain": [
       "array([[ 0.19725746,  2.18186278,  2.24699302, ...,  2.51019556,\n",
       "         2.0059428 ,  0.        ],\n",
       "       [-1.22299626, -0.71853468, -0.7588936 , ..., -1.03007103,\n",
       "        -0.6607463 ,  0.        ],\n",
       "       [ 1.26244775, -0.39626829, -0.09091879, ...,  1.46894068,\n",
       "        -0.6607463 ,  0.        ],\n",
       "       ...,\n",
       "       [-1.22299626, -0.71853468, -0.7588936 , ..., -1.03007103,\n",
       "        -0.6607463 ,  0.        ],\n",
       "       [ 0.19725746, -0.71853468, -0.7588936 , ..., -0.61356908,\n",
       "        -0.30518775,  0.        ],\n",
       "       [ 0.19725746,  1.21506363,  2.24699302, ...,  1.46894068,\n",
       "         0.76148789,  0.        ]])"
      ]
     },
     "execution_count": 40,
     "metadata": {},
     "output_type": "execute_result"
    }
   ],
   "source": [
    "X_train_standard"
   ]
  },
  {
   "cell_type": "code",
   "execution_count": 41,
   "metadata": {},
   "outputs": [
    {
     "data": {
      "text/plain": [
       "array([1, 0, 1, 1, 0, 1, 0, 0, 0, 1, 1, 1, 1, 0, 0, 0, 0, 0, 1, 1, 0, 0,\n",
       "       1, 1, 0, 0, 0, 0, 0, 0, 1, 0, 0, 0, 0, 0, 0, 1, 0, 1, 0, 0, 1, 0,\n",
       "       0, 1, 0, 0, 0, 0, 1, 0, 0, 0, 0, 1, 1, 1, 0, 1, 1, 0, 0, 0, 0, 0,\n",
       "       1, 0, 1, 0, 1, 1, 0, 0, 1, 0, 0, 1, 1, 0, 0, 0, 1, 0, 0, 0, 1, 1,\n",
       "       1, 1, 0, 1, 1, 0, 0, 1, 0, 0, 0, 0, 1, 0, 0, 1, 0, 1, 1, 1, 0, 1,\n",
       "       0, 0, 0, 1, 0, 1, 0, 1, 0, 0, 1, 0, 0, 0, 0, 0, 1, 0, 1, 0, 1, 1,\n",
       "       1, 0, 0, 1, 0, 0, 0, 0, 0, 0, 1, 0, 1, 1, 0, 1, 0, 1, 0, 1, 0, 0,\n",
       "       1, 1, 1, 0, 0, 1, 0, 0, 0, 0, 0, 0, 1, 0, 0, 1, 0, 0, 0, 0, 0, 0,\n",
       "       0, 1, 1, 1, 0, 0, 0, 0, 1, 0, 0, 1, 1, 1, 0, 0, 0, 0, 0, 1, 1, 0,\n",
       "       1, 1, 1, 0, 0, 1, 0, 0, 1, 0, 0, 1, 0, 1, 0, 0, 1, 0, 0, 1, 0, 0,\n",
       "       0, 1, 0, 0, 0, 1, 0, 0, 0, 0, 0, 1, 0, 0, 1, 1, 1, 1, 0, 0, 0, 1,\n",
       "       0, 0, 1, 0, 1, 0, 1, 0, 0, 1, 1, 0, 0, 0, 0, 0, 0, 0, 1, 0, 1, 1,\n",
       "       0, 1, 0, 0, 1, 0, 0, 1, 0, 0, 0, 0, 1, 0, 1, 1, 0, 1, 0, 0, 0, 1,\n",
       "       0, 0, 1, 0, 1, 0, 0, 0, 0, 0, 0, 1, 0, 0, 0, 1, 0, 0, 0, 0, 1, 1,\n",
       "       0, 0, 0, 0, 0, 0, 0, 1, 1, 1, 0, 0, 0, 0, 0, 0, 1, 0, 0, 0, 0, 0,\n",
       "       0, 1, 0, 1, 1, 0, 1, 0, 0, 0, 1, 0, 0, 0, 1, 0, 1, 0, 0, 0, 0, 1,\n",
       "       1, 1, 0, 0, 0, 1, 0, 0, 1, 0, 1, 1, 0, 1, 0, 0, 0, 0, 0, 0, 1, 0,\n",
       "       0, 1, 1, 1, 0, 0, 0, 1, 0, 1, 0, 0, 1, 0, 1, 0, 1, 0, 0, 1, 1, 0,\n",
       "       0, 1, 0, 1, 1, 0, 0, 0, 1, 0, 0, 1, 1, 1, 1, 0, 0, 1, 0, 0, 0, 1,\n",
       "       0, 1, 1, 0, 0, 0, 0, 0, 1, 1, 1, 0, 0, 1, 0, 1, 0, 0, 1, 0, 0, 0,\n",
       "       0, 1, 1, 0, 0, 0, 1, 0, 0, 1, 0, 1, 0, 0, 0, 0, 0, 0, 0, 0, 0, 0,\n",
       "       0, 1, 0, 0, 0, 1, 1, 0, 1, 0, 0, 0, 1, 0, 1, 1, 1, 1, 0, 0, 0, 0,\n",
       "       1, 0, 0, 1, 1, 0, 0, 0, 0, 1, 0, 0, 0, 0, 0, 0, 1, 0, 0, 0, 0, 0,\n",
       "       0, 1, 1, 1, 0, 0, 1, 1, 0, 1, 1, 1, 0, 0, 1, 1, 0, 0, 0, 0, 0, 0,\n",
       "       1, 0, 0, 1, 0, 0, 0, 0, 0, 0, 0, 1], dtype=int64)"
      ]
     },
     "execution_count": 41,
     "metadata": {},
     "output_type": "execute_result"
    }
   ],
   "source": [
    "Y_train"
   ]
  },
  {
   "cell_type": "markdown",
   "metadata": {},
   "source": [
    "#### To import the necessary machine learning models"
   ]
  },
  {
   "cell_type": "code",
   "execution_count": 42,
   "metadata": {},
   "outputs": [],
   "source": [
    "from sklearn.linear_model import LogisticRegression\n",
    "#from sklearn.tree import DecisionTreeClassifier\n",
    "from sklearn.neighbors import KNeighborsClassifier\n",
    "#from sklearn.discriminant_analysis import LinearDiscriminantAnalysis\n",
    "#from sklearn.naive_bayes import GaussianNB\n",
    "from sklearn.svm import SVC\n",
    "#from sklearn.neural_network import MLPClassifier"
   ]
  },
  {
   "cell_type": "code",
   "execution_count": 43,
   "metadata": {},
   "outputs": [
    {
     "data": {
      "text/plain": [
       "[('LR', LogisticRegression()), ('KNN', KNeighborsClassifier()), ('SVM', SVC())]"
      ]
     },
     "execution_count": 43,
     "metadata": {},
     "output_type": "execute_result"
    }
   ],
   "source": [
    "models = []\n",
    "models.append(('LR', LogisticRegression()))\n",
    "models.append(('KNN', KNeighborsClassifier()))\n",
    "models.append(('SVM', SVC()))\n",
    "models"
   ]
  },
  {
   "cell_type": "markdown",
   "metadata": {},
   "source": [
    "##### To Build Different Machine Learning Models"
   ]
  },
  {
   "cell_type": "code",
   "execution_count": 44,
   "metadata": {},
   "outputs": [
    {
     "name": "stdout",
     "output_type": "stream",
     "text": [
      "LR: 0.968898 (0.026139)\n",
      "KNN: 0.968898 (0.026065)\n",
      "SVM: 0.967450 (0.024607)\n"
     ]
    }
   ],
   "source": [
    "# For Test Options and Evaluation Metric\n",
    "from sklearn.model_selection import KFold\n",
    "from sklearn.model_selection import StratifiedKFold\n",
    "from sklearn.model_selection import cross_val_score\n",
    "\n",
    "results = []\n",
    "names = []\n",
    "\n",
    "for name, model in models:\n",
    "\tk_Fold = StratifiedKFold(n_splits=10, shuffle=True, random_state=0)\n",
    "\tcv_results = cross_val_score(model, X, Y, cv=k_Fold, scoring='accuracy')\n",
    "\tresults.append(cv_results)\n",
    "\tnames.append(name)\n",
    "\tprinted_results = \"%s: %f (%f)\" % (name, cv_results.mean(), cv_results.std())\n",
    "\tprint(printed_results)"
   ]
  },
  {
   "cell_type": "markdown",
   "metadata": {},
   "source": [
    "#### To Select the Best Machine Learning Model"
   ]
  },
  {
   "cell_type": "code",
   "execution_count": 45,
   "metadata": {},
   "outputs": [
    {
     "data": {
      "image/png": "[encoded data removed]",
      "text/plain": [
       "<Figure size 432x288 with 1 Axes>"
      ]
     },
     "metadata": {
      "needs_background": "light"
     },
     "output_type": "display_data"
    }
   ],
   "source": [
    "figure = plt.figure()\n",
    "figure.suptitle('Algorithm Comparison')\n",
    "axis = figure.add_subplot(111)\n",
    "plt.boxplot(results)\n",
    "axis.set_xticklabels(names)\n",
    "plt.show()"
   ]
  },
  {
   "cell_type": "markdown",
   "metadata": {},
   "source": [
    "## A. Logistic Regression"
   ]
  },
  {
   "cell_type": "code",
   "execution_count": 46,
   "metadata": {},
   "outputs": [
    {
     "data": {
      "text/plain": [
       "array([0, 1, 0, 0, 0, 0, 0, 1, 1, 0, 0, 1, 0, 0, 1, 0, 0, 0, 1, 0, 0, 0,\n",
       "       0, 0, 1, 0, 1, 0, 0, 0, 1, 1, 1, 0, 1, 0, 0, 0, 0, 0, 0, 0, 0, 1,\n",
       "       0, 0, 0, 0, 1, 0, 0, 0, 0, 0, 0, 0, 0, 0, 1, 1, 1, 1, 0, 0, 0, 0,\n",
       "       1, 0, 0, 1, 1, 0, 0, 0, 0, 0, 0, 0, 0, 1, 1, 0, 0, 0, 0, 1, 1, 0,\n",
       "       0, 0, 0, 1, 0, 1, 1, 1, 0, 0, 0, 0, 1, 1, 0, 1, 0, 0, 0, 0, 0, 0,\n",
       "       0, 0, 0, 0, 0, 0, 0, 1, 0, 1, 1, 1, 0, 0, 0, 1, 0, 0, 1, 0, 1, 1,\n",
       "       0, 1, 1], dtype=int64)"
      ]
     },
     "execution_count": 46,
     "metadata": {},
     "output_type": "execute_result"
    }
   ],
   "source": [
    "# To Instantiate the Model (Using the Default Parameters)\n",
    "logistic_regression = LogisticRegression(random_state=0)\n",
    "\n",
    "# To Fit the Training Dataset into Logistic Regression Model\n",
    "logistic_regression.fit(X_train, Y_train)\n",
    "\n",
    "# To Predict the Output of the Testing Dataset\n",
    "Y_predict_LogReg = logistic_regression.predict(X_test)\n",
    "Y_predict_LogReg"
   ]
  },
  {
   "cell_type": "code",
   "execution_count": 47,
   "metadata": {},
   "outputs": [
    {
     "data": {
      "image/png": "[encoded data removed]",
      "text/plain": [
       "<Figure size 720x504 with 2 Axes>"
      ]
     },
     "metadata": {
      "needs_background": "light"
     },
     "output_type": "display_data"
    }
   ],
   "source": [
    "# To Show the Confusion Matrix\n",
    "from sklearn.metrics import confusion_matrix\n",
    "confusion_matrix = confusion_matrix(Y_test, Y_predict_LogReg)\n",
    "\n",
    "import seaborn as sns\n",
    "plt.figure(figsize=(10,7))\n",
    "sns.heatmap(confusion_matrix, annot=True)\n",
    "plt.xlabel(\"Predicted Value\")\n",
    "plt.ylabel(\"Actual Value\")\n",
    "\n",
    "TP = confusion_matrix[1,1]\n",
    "TN = confusion_matrix[0,0]\n",
    "FP = confusion_matrix[0,1]\n",
    "FN = confusion_matrix[1,0]"
   ]
  },
  {
   "cell_type": "code",
   "execution_count": 48,
   "metadata": {},
   "outputs": [
    {
     "name": "stdout",
     "output_type": "stream",
     "text": [
      "Classification Accuracy: 0.9556\n",
      "\n"
     ]
    }
   ],
   "source": [
    "# For the Classification Accuracy\n",
    "from sklearn.metrics import accuracy_score\n",
    "classification_accuracy = accuracy_score(Y_test, Y_predict_LogReg)\n",
    "print('Classification Accuracy: %.4f'\n",
    "      % classification_accuracy)\n",
    "print('')"
   ]
  },
  {
   "cell_type": "code",
   "execution_count": 49,
   "metadata": {},
   "outputs": [
    {
     "name": "stdout",
     "output_type": "stream",
     "text": [
      "CLASSIFICATION REPORT:\n",
      "              precision    recall  f1-score   support\n",
      "\n",
      "           0       0.97      0.97      0.97        93\n",
      "           1       0.93      0.93      0.93        42\n",
      "\n",
      "    accuracy                           0.96       135\n",
      "   macro avg       0.95      0.95      0.95       135\n",
      "weighted avg       0.96      0.96      0.96       135\n",
      "\n"
     ]
    }
   ],
   "source": [
    "# For the Classification Report\n",
    "from sklearn.metrics import classification_report\n",
    "print(\"CLASSIFICATION REPORT:\")\n",
    "print(classification_report(Y_test, Y_predict_LogReg))"
   ]
  },
  {
   "cell_type": "code",
   "execution_count": 50,
   "metadata": {},
   "outputs": [],
   "source": [
    "# To apply K-fold cross-validation for the logistic regression model\n",
    "from sklearn.model_selection import KFold\n",
    "k_fold = KFold(n_splits=10, shuffle=True, random_state=0) # shuffle = True para sa small dataset\n",
    "\n",
    "from sklearn.model_selection import cross_val_score\n",
    "\n",
    "# To feature scale the X_dummytrap Using Standardization\n",
    "X_standard = X.copy()\n",
    "X_standard = standard_scaler.fit_transform(X_standard)"
   ]
  },
  {
   "cell_type": "markdown",
   "metadata": {},
   "source": [
    "### Cross Validation for Logistic Regression (Default)"
   ]
  },
  {
   "cell_type": "code",
   "execution_count": 51,
   "metadata": {},
   "outputs": [
    {
     "name": "stdout",
     "output_type": "stream",
     "text": [
      "Accuracy of K-FOLDS:\n",
      "[0.97058824 0.95588235 0.92647059 0.91176471 0.98529412 1.\n",
      " 0.97014925 0.98507463 0.98507463 0.98507463]\n",
      " \n",
      "Average Accuracy of K-FOLDS:\n",
      "0.9675373134328359\n",
      " \n",
      "Accuracy Variance of K-FOLDS:\n",
      "0.026908791006294015\n",
      " \n"
     ]
    }
   ],
   "source": [
    "# For the accuracy as scoring for for cross-validation \n",
    "accuracies = cross_val_score(estimator=model, X=X_standard, y=Y, cv=k_fold, scoring='accuracy')\n",
    "\n",
    "accuracies_average = accuracies.mean()\n",
    "accuracies_variance = accuracies.std()\n",
    "\n",
    "print('Accuracy of K-FOLDS:')\n",
    "print (accuracies)\n",
    "print(' ')\n",
    "print('Average Accuracy of K-FOLDS:')\n",
    "print(accuracies_average)\n",
    "print(' ')\n",
    "print('Accuracy Variance of K-FOLDS:')\n",
    "print(accuracies_variance)\n",
    "print(' ')"
   ]
  },
  {
   "cell_type": "code",
   "execution_count": 52,
   "metadata": {},
   "outputs": [
    {
     "name": "stdout",
     "output_type": "stream",
     "text": [
      "F1 of K-FOLDS:\n",
      "[0.97058824 0.95588235 0.92647059 0.91176471 0.98529412 1.\n",
      " 0.97014925 0.98507463 0.98507463 0.98507463]\n",
      " \n",
      "Average F1 of K-FOLDS:\n",
      "0.9675373134328359\n",
      " \n",
      "F1 Variance of K-FOLDS:\n",
      "0.026908791006294015\n",
      " \n"
     ]
    }
   ],
   "source": [
    "# For the F1 as scoring for for cross-validation \n",
    "F1 = cross_val_score(estimator=model, X=X_standard, y=Y, cv=k_fold)\n",
    "\n",
    "F1_average = F1.mean()\n",
    "F1_variance = F1.std()\n",
    "\n",
    "print('F1 of K-FOLDS:')\n",
    "print (F1)\n",
    "print(' ')\n",
    "print('Average F1 of K-FOLDS:')\n",
    "print(F1_average)\n",
    "print(' ')\n",
    "print('F1 Variance of K-FOLDS:')\n",
    "print(F1_variance)\n",
    "print(' ')"
   ]
  },
  {
   "cell_type": "markdown",
   "metadata": {},
   "source": [
    "### Hold-out Validation for Logistic Regression (Default)"
   ]
  },
  {
   "cell_type": "code",
   "execution_count": 53,
   "metadata": {},
   "outputs": [
    {
     "name": "stdout",
     "output_type": "stream",
     "text": [
      "Classification Accuracy: 0.9556\n",
      " \n",
      "Classification Error: 0.0444\n",
      " \n",
      "Sensitivity or Recall Score: 0.9286\n",
      " \n",
      "Specificity: 0.9677\n",
      " \n",
      "False Positive Rate: 0.0323\n",
      " \n",
      "Precision: 0.9286\n",
      " \n",
      "F1 Score: 0.9286\n",
      " \n"
     ]
    }
   ],
   "source": [
    "# To evaluate the performance of the logistic regression model using holdout\n",
    "\n",
    "# A. For the Classification Accuracy\n",
    "from sklearn.metrics import accuracy_score\n",
    "classification_accuracy = accuracy_score(Y_test, Y_predict_LogReg)\n",
    "print('Classification Accuracy: %.4f'\n",
    "      % classification_accuracy)\n",
    "print(' ')\n",
    "\n",
    "# B. For the Classification Error\n",
    "from sklearn.metrics import accuracy_score\n",
    "classification_error = 1-classification_accuracy\n",
    "print('Classification Error: %.4f'\n",
    "      % classification_error)\n",
    "print(' ')\n",
    "\n",
    "# C. For the Sensitivity or Recall Score / True Positive Rate (If looking at the positive, how often does positive occur? Performance of predicting + and - should be the same to consider the model without bias towards one class\n",
    "# True Positive Rate:  Actual Value +, how often Correct\n",
    "from sklearn.metrics import recall_score\n",
    "sensitivity = recall_score(Y_test, Y_predict_LogReg)\n",
    "print('Sensitivity or Recall Score: %.4f'\n",
    "      % sensitivity)\n",
    "print(' ')\n",
    "\n",
    "# D. For the Specficity (If looking at the negative actual, how often does negative occur? Performance of predicting + and - should be the same to consider the model without bias towards one class. \n",
    "# Counterpart of sensitivity)\n",
    "# True Negative Rate: Actual Value -, how often correct\n",
    "specificity = TN/(TN+FP)\n",
    "print('Specificity: %.4f'\n",
    "      % specificity)\n",
    "print(' ') \n",
    "\n",
    "# E. For the FP rate .\n",
    "# False Positive Rate: Actual Value -, how often inorrect\n",
    "false_positve_rate = 1-specificity\n",
    "print('False Positive Rate: %.4f'\n",
    "      % false_positve_rate)\n",
    "print(' ')  \n",
    "\n",
    "# F. For the precision.\n",
    "# False Negative Rate: Predicted Value +, how often the prediction is positive\n",
    "from sklearn.metrics import precision_score\n",
    "precision = precision_score(Y_test, Y_predict_LogReg)\n",
    "print('Precision: %.4f'\n",
    "      % precision)\n",
    "print(' ')  \n",
    "\n",
    "# G. For the F1 score. Relating precision and sensitivity\n",
    "# False Negative Rate: Predicted Value and Actual Value+, how often the prediction is correct relation\n",
    "from sklearn.metrics import f1_score\n",
    "f1_score = f1_score(Y_test, Y_predict_LogReg)\n",
    "print('F1 Score: %.4f'\n",
    "      % f1_score)\n",
    "print(' ')  "
   ]
  },
  {
   "cell_type": "markdown",
   "metadata": {},
   "source": [
    "#### Applying GridSearchCV to find the Best Parameters for the Logistic Regression Model"
   ]
  },
  {
   "cell_type": "code",
   "execution_count": 54,
   "metadata": {},
   "outputs": [
    {
     "name": "stdout",
     "output_type": "stream",
     "text": [
      "GridSearchCV(cv=StratifiedKFold(n_splits=10, random_state=0, shuffle=True),\n",
      "             estimator=LogisticRegression(random_state=0), n_jobs=-1,\n",
      "             param_grid=[{'C': [0.001, 0.01, 0.1, 1, 10, 100, 1000],\n",
      "                          'penalty': ['l1'], 'solver': ['liblinear', 'saga']},\n",
      "                         {'C': [0.001, 0.01, 0.1, 1, 10, 100, 1000],\n",
      "                          'penalty': ['none', 'l2'],\n",
      "                          'solver': ['newton-cg', 'lbfgs', 'saga', 'sag']}],\n",
      "             scoring='accuracy')\n"
     ]
    }
   ],
   "source": [
    "# To Import the StartifiedKFold Class\n",
    "from sklearn.model_selection import StratifiedKFold\n",
    "k_Fold = StratifiedKFold (n_splits=10, shuffle=True, random_state=0)\n",
    "\n",
    "# To Import the GridSearch Class\n",
    "from sklearn.model_selection import GridSearchCV\n",
    "\n",
    "# To Set Parameters to be Optimized Under the Logistic Regression Model\n",
    "parameters = [{'C': [0.001, 0.01, 0.1, 1, 10, 100, 1000], 'penalty': ['l1'], 'solver': ['liblinear','saga']},\n",
    "              {'C': [0.001, 0.01, 0.1, 1, 10, 100, 1000], 'penalty': ['none', 'l2'], 'solver': ['newton-cg', 'lbfgs', 'saga', 'sag']}]\n",
    "\n",
    "grid_search = GridSearchCV(estimator = logistic_regression,\n",
    "                           param_grid = parameters,\n",
    "                           scoring = 'accuracy',\n",
    "                           cv = k_Fold,\n",
    "                           n_jobs = -1)\n",
    "grid_search = grid_search.fit(X, Y)\n",
    "print(grid_search)"
   ]
  },
  {
   "cell_type": "code",
   "execution_count": 55,
   "metadata": {},
   "outputs": [
    {
     "data": {
      "text/html": [
       "<div>\n",
       "<style scoped>\n",
       "    .dataframe tbody tr th:only-of-type {\n",
       "        vertical-align: middle;\n",
       "    }\n",
       "\n",
       "    .dataframe tbody tr th {\n",
       "        vertical-align: top;\n",
       "    }\n",
       "\n",
       "    .dataframe thead th {\n",
       "        text-align: right;\n",
       "    }\n",
       "</style>\n",
       "<table border=\"1\" class=\"dataframe\">\n",
       "  <thead>\n",
       "    <tr style=\"text-align: right;\">\n",
       "      <th></th>\n",
       "      <th>mean_test_score</th>\n",
       "      <th>std_test_score</th>\n",
       "      <th>params</th>\n",
       "    </tr>\n",
       "  </thead>\n",
       "  <tbody>\n",
       "    <tr>\n",
       "      <th>0</th>\n",
       "      <td>0.650395</td>\n",
       "      <td>0.005381</td>\n",
       "      <td>{'C': 0.001, 'penalty': 'l1', 'solver': 'libli...</td>\n",
       "    </tr>\n",
       "    <tr>\n",
       "      <th>1</th>\n",
       "      <td>0.650395</td>\n",
       "      <td>0.005381</td>\n",
       "      <td>{'C': 0.001, 'penalty': 'l1', 'solver': 'saga'}</td>\n",
       "    </tr>\n",
       "    <tr>\n",
       "      <th>2</th>\n",
       "      <td>0.952612</td>\n",
       "      <td>0.036599</td>\n",
       "      <td>{'C': 0.01, 'penalty': 'l1', 'solver': 'liblin...</td>\n",
       "    </tr>\n",
       "    <tr>\n",
       "      <th>3</th>\n",
       "      <td>0.954061</td>\n",
       "      <td>0.034838</td>\n",
       "      <td>{'C': 0.01, 'penalty': 'l1', 'solver': 'saga'}</td>\n",
       "    </tr>\n",
       "    <tr>\n",
       "      <th>4</th>\n",
       "      <td>0.962972</td>\n",
       "      <td>0.026830</td>\n",
       "      <td>{'C': 0.1, 'penalty': 'l1', 'solver': 'libline...</td>\n",
       "    </tr>\n",
       "    <tr>\n",
       "      <th>...</th>\n",
       "      <td>...</td>\n",
       "      <td>...</td>\n",
       "      <td>...</td>\n",
       "    </tr>\n",
       "    <tr>\n",
       "      <th>65</th>\n",
       "      <td>0.968898</td>\n",
       "      <td>0.026139</td>\n",
       "      <td>{'C': 1000, 'penalty': 'none', 'solver': 'sag'}</td>\n",
       "    </tr>\n",
       "    <tr>\n",
       "      <th>66</th>\n",
       "      <td>0.968898</td>\n",
       "      <td>0.026139</td>\n",
       "      <td>{'C': 1000, 'penalty': 'l2', 'solver': 'newton...</td>\n",
       "    </tr>\n",
       "    <tr>\n",
       "      <th>67</th>\n",
       "      <td>0.968898</td>\n",
       "      <td>0.026139</td>\n",
       "      <td>{'C': 1000, 'penalty': 'l2', 'solver': 'lbfgs'}</td>\n",
       "    </tr>\n",
       "    <tr>\n",
       "      <th>68</th>\n",
       "      <td>0.967428</td>\n",
       "      <td>0.027221</td>\n",
       "      <td>{'C': 1000, 'penalty': 'l2', 'solver': 'saga'}</td>\n",
       "    </tr>\n",
       "    <tr>\n",
       "      <th>69</th>\n",
       "      <td>0.968898</td>\n",
       "      <td>0.026139</td>\n",
       "      <td>{'C': 1000, 'penalty': 'l2', 'solver': 'sag'}</td>\n",
       "    </tr>\n",
       "  </tbody>\n",
       "</table>\n",
       "<p>70 rows × 3 columns</p>\n",
       "</div>"
      ],
      "text/plain": [
       "    mean_test_score  std_test_score  \\\n",
       "0          0.650395        0.005381   \n",
       "1          0.650395        0.005381   \n",
       "2          0.952612        0.036599   \n",
       "3          0.954061        0.034838   \n",
       "4          0.962972        0.026830   \n",
       "..              ...             ...   \n",
       "65         0.968898        0.026139   \n",
       "66         0.968898        0.026139   \n",
       "67         0.968898        0.026139   \n",
       "68         0.967428        0.027221   \n",
       "69         0.968898        0.026139   \n",
       "\n",
       "                                               params  \n",
       "0   {'C': 0.001, 'penalty': 'l1', 'solver': 'libli...  \n",
       "1     {'C': 0.001, 'penalty': 'l1', 'solver': 'saga'}  \n",
       "2   {'C': 0.01, 'penalty': 'l1', 'solver': 'liblin...  \n",
       "3      {'C': 0.01, 'penalty': 'l1', 'solver': 'saga'}  \n",
       "4   {'C': 0.1, 'penalty': 'l1', 'solver': 'libline...  \n",
       "..                                                ...  \n",
       "65    {'C': 1000, 'penalty': 'none', 'solver': 'sag'}  \n",
       "66  {'C': 1000, 'penalty': 'l2', 'solver': 'newton...  \n",
       "67    {'C': 1000, 'penalty': 'l2', 'solver': 'lbfgs'}  \n",
       "68     {'C': 1000, 'penalty': 'l2', 'solver': 'saga'}  \n",
       "69      {'C': 1000, 'penalty': 'l2', 'solver': 'sag'}  \n",
       "\n",
       "[70 rows x 3 columns]"
      ]
     },
     "execution_count": 55,
     "metadata": {},
     "output_type": "execute_result"
    }
   ],
   "source": [
    "# To View the Results of the GridSearch\n",
    "pd.DataFrame(grid_search.cv_results_)[['mean_test_score', 'std_test_score', 'params']]"
   ]
  },
  {
   "cell_type": "code",
   "execution_count": 56,
   "metadata": {},
   "outputs": [
    {
     "name": "stdout",
     "output_type": "stream",
     "text": [
      "BEST ACCURACY SCORE:\n",
      "0.9703687445127305\n",
      "\n",
      "BEST PARAMETERS:\n",
      "{'C': 1, 'penalty': 'l1', 'solver': 'liblinear'}\n"
     ]
    }
   ],
   "source": [
    "# To Identify the Best Accuracy and Best Features\n",
    "\n",
    "best_accuracy = grid_search.best_score_\n",
    "best_parameters = grid_search.best_params_\n",
    "\n",
    "print(\"BEST ACCURACY SCORE:\")\n",
    "print(best_accuracy)\n",
    "print('')\n",
    "\n",
    "print(\"BEST PARAMETERS:\")\n",
    "print(best_parameters)"
   ]
  },
  {
   "cell_type": "markdown",
   "metadata": {},
   "source": [
    "#### Applying RandomizedSearchCV to find the Best Parameters for the Logistic Regression Model"
   ]
  },
  {
   "cell_type": "code",
   "execution_count": 57,
   "metadata": {},
   "outputs": [
    {
     "name": "stderr",
     "output_type": "stream",
     "text": [
      "C:\\Users\\beame\\anaconda3\\lib\\site-packages\\sklearn\\model_selection\\_search.py:278: UserWarning: The total space of parameters 56 is smaller than n_iter=100. Running 56 iterations. For exhaustive searches, use GridSearchCV.\n",
      "  warnings.warn(\n"
     ]
    },
    {
     "name": "stdout",
     "output_type": "stream",
     "text": [
      "RandomizedSearchCV(cv=StratifiedKFold(n_splits=10, random_state=0, shuffle=True),\n",
      "                   estimator=LogisticRegression(random_state=0), n_iter=100,\n",
      "                   n_jobs=-1,\n",
      "                   param_distributions={'C': [0.001, 0.01, 0.1, 1, 10, 100,\n",
      "                                              1000],\n",
      "                                        'penalty': ['none', 'l2'],\n",
      "                                        'solver': ['newton-cg', 'lbfgs', 'saga',\n",
      "                                                   'sag']},\n",
      "                   random_state=0, scoring='accuracy')\n"
     ]
    },
    {
     "name": "stderr",
     "output_type": "stream",
     "text": [
      "C:\\Users\\beame\\anaconda3\\lib\\site-packages\\sklearn\\linear_model\\_logistic.py:1320: UserWarning: Setting penalty='none' will ignore the C and l1_ratio parameters\n",
      "  warnings.warn(\n"
     ]
    }
   ],
   "source": [
    "# To Import the StratifiedKFold Class\n",
    "from sklearn.model_selection import StratifiedKFold\n",
    "k_Fold = StratifiedKFold(n_splits=10, shuffle=True, random_state=0)\n",
    "\n",
    "# To Import the GridSearch Class\n",
    "from sklearn.model_selection import RandomizedSearchCV\n",
    "\n",
    "# To Set Parameters to be Optimized Under the Logistic Regression Model\n",
    "\n",
    "C = [0.001, 0.01, 0.1, 1, 10, 100, 1000]\n",
    "penalty = ['none', 'l2'] # should also include l1 but it is necognized for the solver newton-cg.\n",
    "solver = ['newton-cg', 'lbfgs', 'saga', 'sag']\n",
    "parameters = dict(C=C, penalty=penalty, solver=solver)\n",
    "\n",
    "randomized_search = RandomizedSearchCV(estimator = logistic_regression,\n",
    "                                       param_distributions = parameters,\n",
    "                                       n_iter = 100,\n",
    "                                       scoring = 'accuracy',\n",
    "                                       cv = k_Fold,\n",
    "                                       n_jobs = -1,\n",
    "                                       random_state = 0)\n",
    "best_fit = randomized_search.fit(X, Y)\n",
    "print(randomized_search)"
   ]
  },
  {
   "cell_type": "code",
   "execution_count": 58,
   "metadata": {},
   "outputs": [
    {
     "data": {
      "text/html": [
       "<div>\n",
       "<style scoped>\n",
       "    .dataframe tbody tr th:only-of-type {\n",
       "        vertical-align: middle;\n",
       "    }\n",
       "\n",
       "    .dataframe tbody tr th {\n",
       "        vertical-align: top;\n",
       "    }\n",
       "\n",
       "    .dataframe thead th {\n",
       "        text-align: right;\n",
       "    }\n",
       "</style>\n",
       "<table border=\"1\" class=\"dataframe\">\n",
       "  <thead>\n",
       "    <tr style=\"text-align: right;\">\n",
       "      <th></th>\n",
       "      <th>mean_test_score</th>\n",
       "      <th>std_test_score</th>\n",
       "      <th>params</th>\n",
       "    </tr>\n",
       "  </thead>\n",
       "  <tbody>\n",
       "    <tr>\n",
       "      <th>0</th>\n",
       "      <td>0.968898</td>\n",
       "      <td>0.026139</td>\n",
       "      <td>{'solver': 'newton-cg', 'penalty': 'none', 'C'...</td>\n",
       "    </tr>\n",
       "    <tr>\n",
       "      <th>1</th>\n",
       "      <td>0.968898</td>\n",
       "      <td>0.026139</td>\n",
       "      <td>{'solver': 'lbfgs', 'penalty': 'none', 'C': 0....</td>\n",
       "    </tr>\n",
       "    <tr>\n",
       "      <th>2</th>\n",
       "      <td>0.967428</td>\n",
       "      <td>0.027221</td>\n",
       "      <td>{'solver': 'saga', 'penalty': 'none', 'C': 0.001}</td>\n",
       "    </tr>\n",
       "    <tr>\n",
       "      <th>3</th>\n",
       "      <td>0.968898</td>\n",
       "      <td>0.026139</td>\n",
       "      <td>{'solver': 'sag', 'penalty': 'none', 'C': 0.001}</td>\n",
       "    </tr>\n",
       "    <tr>\n",
       "      <th>4</th>\n",
       "      <td>0.957024</td>\n",
       "      <td>0.027009</td>\n",
       "      <td>{'solver': 'newton-cg', 'penalty': 'l2', 'C': ...</td>\n",
       "    </tr>\n",
       "    <tr>\n",
       "      <th>5</th>\n",
       "      <td>0.957024</td>\n",
       "      <td>0.027009</td>\n",
       "      <td>{'solver': 'lbfgs', 'penalty': 'l2', 'C': 0.001}</td>\n",
       "    </tr>\n",
       "    <tr>\n",
       "      <th>6</th>\n",
       "      <td>0.957024</td>\n",
       "      <td>0.027009</td>\n",
       "      <td>{'solver': 'saga', 'penalty': 'l2', 'C': 0.001}</td>\n",
       "    </tr>\n",
       "    <tr>\n",
       "      <th>7</th>\n",
       "      <td>0.957024</td>\n",
       "      <td>0.027009</td>\n",
       "      <td>{'solver': 'sag', 'penalty': 'l2', 'C': 0.001}</td>\n",
       "    </tr>\n",
       "    <tr>\n",
       "      <th>8</th>\n",
       "      <td>0.968898</td>\n",
       "      <td>0.026139</td>\n",
       "      <td>{'solver': 'newton-cg', 'penalty': 'none', 'C'...</td>\n",
       "    </tr>\n",
       "    <tr>\n",
       "      <th>9</th>\n",
       "      <td>0.968898</td>\n",
       "      <td>0.026139</td>\n",
       "      <td>{'solver': 'lbfgs', 'penalty': 'none', 'C': 0.01}</td>\n",
       "    </tr>\n",
       "    <tr>\n",
       "      <th>10</th>\n",
       "      <td>0.967428</td>\n",
       "      <td>0.027221</td>\n",
       "      <td>{'solver': 'saga', 'penalty': 'none', 'C': 0.01}</td>\n",
       "    </tr>\n",
       "    <tr>\n",
       "      <th>11</th>\n",
       "      <td>0.968898</td>\n",
       "      <td>0.026139</td>\n",
       "      <td>{'solver': 'sag', 'penalty': 'none', 'C': 0.01}</td>\n",
       "    </tr>\n",
       "    <tr>\n",
       "      <th>12</th>\n",
       "      <td>0.962972</td>\n",
       "      <td>0.024211</td>\n",
       "      <td>{'solver': 'newton-cg', 'penalty': 'l2', 'C': ...</td>\n",
       "    </tr>\n",
       "    <tr>\n",
       "      <th>13</th>\n",
       "      <td>0.962972</td>\n",
       "      <td>0.024211</td>\n",
       "      <td>{'solver': 'lbfgs', 'penalty': 'l2', 'C': 0.01}</td>\n",
       "    </tr>\n",
       "    <tr>\n",
       "      <th>14</th>\n",
       "      <td>0.962972</td>\n",
       "      <td>0.024211</td>\n",
       "      <td>{'solver': 'saga', 'penalty': 'l2', 'C': 0.01}</td>\n",
       "    </tr>\n",
       "    <tr>\n",
       "      <th>15</th>\n",
       "      <td>0.962972</td>\n",
       "      <td>0.024211</td>\n",
       "      <td>{'solver': 'sag', 'penalty': 'l2', 'C': 0.01}</td>\n",
       "    </tr>\n",
       "    <tr>\n",
       "      <th>16</th>\n",
       "      <td>0.968898</td>\n",
       "      <td>0.026139</td>\n",
       "      <td>{'solver': 'newton-cg', 'penalty': 'none', 'C'...</td>\n",
       "    </tr>\n",
       "    <tr>\n",
       "      <th>17</th>\n",
       "      <td>0.968898</td>\n",
       "      <td>0.026139</td>\n",
       "      <td>{'solver': 'lbfgs', 'penalty': 'none', 'C': 0.1}</td>\n",
       "    </tr>\n",
       "    <tr>\n",
       "      <th>18</th>\n",
       "      <td>0.967428</td>\n",
       "      <td>0.027221</td>\n",
       "      <td>{'solver': 'saga', 'penalty': 'none', 'C': 0.1}</td>\n",
       "    </tr>\n",
       "    <tr>\n",
       "      <th>19</th>\n",
       "      <td>0.968898</td>\n",
       "      <td>0.026139</td>\n",
       "      <td>{'solver': 'sag', 'penalty': 'none', 'C': 0.1}</td>\n",
       "    </tr>\n",
       "    <tr>\n",
       "      <th>20</th>\n",
       "      <td>0.967406</td>\n",
       "      <td>0.026450</td>\n",
       "      <td>{'solver': 'newton-cg', 'penalty': 'l2', 'C': ...</td>\n",
       "    </tr>\n",
       "    <tr>\n",
       "      <th>21</th>\n",
       "      <td>0.967406</td>\n",
       "      <td>0.026450</td>\n",
       "      <td>{'solver': 'lbfgs', 'penalty': 'l2', 'C': 0.1}</td>\n",
       "    </tr>\n",
       "    <tr>\n",
       "      <th>22</th>\n",
       "      <td>0.967406</td>\n",
       "      <td>0.026450</td>\n",
       "      <td>{'solver': 'saga', 'penalty': 'l2', 'C': 0.1}</td>\n",
       "    </tr>\n",
       "    <tr>\n",
       "      <th>23</th>\n",
       "      <td>0.964464</td>\n",
       "      <td>0.027545</td>\n",
       "      <td>{'solver': 'sag', 'penalty': 'l2', 'C': 0.1}</td>\n",
       "    </tr>\n",
       "    <tr>\n",
       "      <th>24</th>\n",
       "      <td>0.968898</td>\n",
       "      <td>0.026139</td>\n",
       "      <td>{'solver': 'newton-cg', 'penalty': 'none', 'C'...</td>\n",
       "    </tr>\n",
       "    <tr>\n",
       "      <th>25</th>\n",
       "      <td>0.968898</td>\n",
       "      <td>0.026139</td>\n",
       "      <td>{'solver': 'lbfgs', 'penalty': 'none', 'C': 1}</td>\n",
       "    </tr>\n",
       "    <tr>\n",
       "      <th>26</th>\n",
       "      <td>0.967428</td>\n",
       "      <td>0.027221</td>\n",
       "      <td>{'solver': 'saga', 'penalty': 'none', 'C': 1}</td>\n",
       "    </tr>\n",
       "    <tr>\n",
       "      <th>27</th>\n",
       "      <td>0.968898</td>\n",
       "      <td>0.026139</td>\n",
       "      <td>{'solver': 'sag', 'penalty': 'none', 'C': 1}</td>\n",
       "    </tr>\n",
       "    <tr>\n",
       "      <th>28</th>\n",
       "      <td>0.968898</td>\n",
       "      <td>0.026139</td>\n",
       "      <td>{'solver': 'newton-cg', 'penalty': 'l2', 'C': 1}</td>\n",
       "    </tr>\n",
       "    <tr>\n",
       "      <th>29</th>\n",
       "      <td>0.968898</td>\n",
       "      <td>0.026139</td>\n",
       "      <td>{'solver': 'lbfgs', 'penalty': 'l2', 'C': 1}</td>\n",
       "    </tr>\n",
       "    <tr>\n",
       "      <th>30</th>\n",
       "      <td>0.967428</td>\n",
       "      <td>0.027221</td>\n",
       "      <td>{'solver': 'saga', 'penalty': 'l2', 'C': 1}</td>\n",
       "    </tr>\n",
       "    <tr>\n",
       "      <th>31</th>\n",
       "      <td>0.965957</td>\n",
       "      <td>0.027408</td>\n",
       "      <td>{'solver': 'sag', 'penalty': 'l2', 'C': 1}</td>\n",
       "    </tr>\n",
       "    <tr>\n",
       "      <th>32</th>\n",
       "      <td>0.968898</td>\n",
       "      <td>0.026139</td>\n",
       "      <td>{'solver': 'newton-cg', 'penalty': 'none', 'C'...</td>\n",
       "    </tr>\n",
       "    <tr>\n",
       "      <th>33</th>\n",
       "      <td>0.968898</td>\n",
       "      <td>0.026139</td>\n",
       "      <td>{'solver': 'lbfgs', 'penalty': 'none', 'C': 10}</td>\n",
       "    </tr>\n",
       "    <tr>\n",
       "      <th>34</th>\n",
       "      <td>0.967428</td>\n",
       "      <td>0.027221</td>\n",
       "      <td>{'solver': 'saga', 'penalty': 'none', 'C': 10}</td>\n",
       "    </tr>\n",
       "    <tr>\n",
       "      <th>35</th>\n",
       "      <td>0.968898</td>\n",
       "      <td>0.026139</td>\n",
       "      <td>{'solver': 'sag', 'penalty': 'none', 'C': 10}</td>\n",
       "    </tr>\n",
       "    <tr>\n",
       "      <th>36</th>\n",
       "      <td>0.968898</td>\n",
       "      <td>0.026139</td>\n",
       "      <td>{'solver': 'newton-cg', 'penalty': 'l2', 'C': 10}</td>\n",
       "    </tr>\n",
       "    <tr>\n",
       "      <th>37</th>\n",
       "      <td>0.968898</td>\n",
       "      <td>0.026139</td>\n",
       "      <td>{'solver': 'lbfgs', 'penalty': 'l2', 'C': 10}</td>\n",
       "    </tr>\n",
       "    <tr>\n",
       "      <th>38</th>\n",
       "      <td>0.967428</td>\n",
       "      <td>0.027221</td>\n",
       "      <td>{'solver': 'saga', 'penalty': 'l2', 'C': 10}</td>\n",
       "    </tr>\n",
       "    <tr>\n",
       "      <th>39</th>\n",
       "      <td>0.968898</td>\n",
       "      <td>0.026139</td>\n",
       "      <td>{'solver': 'sag', 'penalty': 'l2', 'C': 10}</td>\n",
       "    </tr>\n",
       "    <tr>\n",
       "      <th>40</th>\n",
       "      <td>0.968898</td>\n",
       "      <td>0.026139</td>\n",
       "      <td>{'solver': 'newton-cg', 'penalty': 'none', 'C'...</td>\n",
       "    </tr>\n",
       "    <tr>\n",
       "      <th>41</th>\n",
       "      <td>0.968898</td>\n",
       "      <td>0.026139</td>\n",
       "      <td>{'solver': 'lbfgs', 'penalty': 'none', 'C': 100}</td>\n",
       "    </tr>\n",
       "    <tr>\n",
       "      <th>42</th>\n",
       "      <td>0.967428</td>\n",
       "      <td>0.027221</td>\n",
       "      <td>{'solver': 'saga', 'penalty': 'none', 'C': 100}</td>\n",
       "    </tr>\n",
       "    <tr>\n",
       "      <th>43</th>\n",
       "      <td>0.968898</td>\n",
       "      <td>0.026139</td>\n",
       "      <td>{'solver': 'sag', 'penalty': 'none', 'C': 100}</td>\n",
       "    </tr>\n",
       "    <tr>\n",
       "      <th>44</th>\n",
       "      <td>0.968898</td>\n",
       "      <td>0.026139</td>\n",
       "      <td>{'solver': 'newton-cg', 'penalty': 'l2', 'C': ...</td>\n",
       "    </tr>\n",
       "    <tr>\n",
       "      <th>45</th>\n",
       "      <td>0.968898</td>\n",
       "      <td>0.026139</td>\n",
       "      <td>{'solver': 'lbfgs', 'penalty': 'l2', 'C': 100}</td>\n",
       "    </tr>\n",
       "    <tr>\n",
       "      <th>46</th>\n",
       "      <td>0.967428</td>\n",
       "      <td>0.027221</td>\n",
       "      <td>{'solver': 'saga', 'penalty': 'l2', 'C': 100}</td>\n",
       "    </tr>\n",
       "    <tr>\n",
       "      <th>47</th>\n",
       "      <td>0.968898</td>\n",
       "      <td>0.026139</td>\n",
       "      <td>{'solver': 'sag', 'penalty': 'l2', 'C': 100}</td>\n",
       "    </tr>\n",
       "    <tr>\n",
       "      <th>48</th>\n",
       "      <td>0.968898</td>\n",
       "      <td>0.026139</td>\n",
       "      <td>{'solver': 'newton-cg', 'penalty': 'none', 'C'...</td>\n",
       "    </tr>\n",
       "    <tr>\n",
       "      <th>49</th>\n",
       "      <td>0.968898</td>\n",
       "      <td>0.026139</td>\n",
       "      <td>{'solver': 'lbfgs', 'penalty': 'none', 'C': 1000}</td>\n",
       "    </tr>\n",
       "    <tr>\n",
       "      <th>50</th>\n",
       "      <td>0.967428</td>\n",
       "      <td>0.027221</td>\n",
       "      <td>{'solver': 'saga', 'penalty': 'none', 'C': 1000}</td>\n",
       "    </tr>\n",
       "    <tr>\n",
       "      <th>51</th>\n",
       "      <td>0.968898</td>\n",
       "      <td>0.026139</td>\n",
       "      <td>{'solver': 'sag', 'penalty': 'none', 'C': 1000}</td>\n",
       "    </tr>\n",
       "    <tr>\n",
       "      <th>52</th>\n",
       "      <td>0.968898</td>\n",
       "      <td>0.026139</td>\n",
       "      <td>{'solver': 'newton-cg', 'penalty': 'l2', 'C': ...</td>\n",
       "    </tr>\n",
       "    <tr>\n",
       "      <th>53</th>\n",
       "      <td>0.968898</td>\n",
       "      <td>0.026139</td>\n",
       "      <td>{'solver': 'lbfgs', 'penalty': 'l2', 'C': 1000}</td>\n",
       "    </tr>\n",
       "    <tr>\n",
       "      <th>54</th>\n",
       "      <td>0.967428</td>\n",
       "      <td>0.027221</td>\n",
       "      <td>{'solver': 'saga', 'penalty': 'l2', 'C': 1000}</td>\n",
       "    </tr>\n",
       "    <tr>\n",
       "      <th>55</th>\n",
       "      <td>0.968898</td>\n",
       "      <td>0.026139</td>\n",
       "      <td>{'solver': 'sag', 'penalty': 'l2', 'C': 1000}</td>\n",
       "    </tr>\n",
       "  </tbody>\n",
       "</table>\n",
       "</div>"
      ],
      "text/plain": [
       "    mean_test_score  std_test_score  \\\n",
       "0          0.968898        0.026139   \n",
       "1          0.968898        0.026139   \n",
       "2          0.967428        0.027221   \n",
       "3          0.968898        0.026139   \n",
       "4          0.957024        0.027009   \n",
       "5          0.957024        0.027009   \n",
       "6          0.957024        0.027009   \n",
       "7          0.957024        0.027009   \n",
       "8          0.968898        0.026139   \n",
       "9          0.968898        0.026139   \n",
       "10         0.967428        0.027221   \n",
       "11         0.968898        0.026139   \n",
       "12         0.962972        0.024211   \n",
       "13         0.962972        0.024211   \n",
       "14         0.962972        0.024211   \n",
       "15         0.962972        0.024211   \n",
       "16         0.968898        0.026139   \n",
       "17         0.968898        0.026139   \n",
       "18         0.967428        0.027221   \n",
       "19         0.968898        0.026139   \n",
       "20         0.967406        0.026450   \n",
       "21         0.967406        0.026450   \n",
       "22         0.967406        0.026450   \n",
       "23         0.964464        0.027545   \n",
       "24         0.968898        0.026139   \n",
       "25         0.968898        0.026139   \n",
       "26         0.967428        0.027221   \n",
       "27         0.968898        0.026139   \n",
       "28         0.968898        0.026139   \n",
       "29         0.968898        0.026139   \n",
       "30         0.967428        0.027221   \n",
       "31         0.965957        0.027408   \n",
       "32         0.968898        0.026139   \n",
       "33         0.968898        0.026139   \n",
       "34         0.967428        0.027221   \n",
       "35         0.968898        0.026139   \n",
       "36         0.968898        0.026139   \n",
       "37         0.968898        0.026139   \n",
       "38         0.967428        0.027221   \n",
       "39         0.968898        0.026139   \n",
       "40         0.968898        0.026139   \n",
       "41         0.968898        0.026139   \n",
       "42         0.967428        0.027221   \n",
       "43         0.968898        0.026139   \n",
       "44         0.968898        0.026139   \n",
       "45         0.968898        0.026139   \n",
       "46         0.967428        0.027221   \n",
       "47         0.968898        0.026139   \n",
       "48         0.968898        0.026139   \n",
       "49         0.968898        0.026139   \n",
       "50         0.967428        0.027221   \n",
       "51         0.968898        0.026139   \n",
       "52         0.968898        0.026139   \n",
       "53         0.968898        0.026139   \n",
       "54         0.967428        0.027221   \n",
       "55         0.968898        0.026139   \n",
       "\n",
       "                                               params  \n",
       "0   {'solver': 'newton-cg', 'penalty': 'none', 'C'...  \n",
       "1   {'solver': 'lbfgs', 'penalty': 'none', 'C': 0....  \n",
       "2   {'solver': 'saga', 'penalty': 'none', 'C': 0.001}  \n",
       "3    {'solver': 'sag', 'penalty': 'none', 'C': 0.001}  \n",
       "4   {'solver': 'newton-cg', 'penalty': 'l2', 'C': ...  \n",
       "5    {'solver': 'lbfgs', 'penalty': 'l2', 'C': 0.001}  \n",
       "6     {'solver': 'saga', 'penalty': 'l2', 'C': 0.001}  \n",
       "7      {'solver': 'sag', 'penalty': 'l2', 'C': 0.001}  \n",
       "8   {'solver': 'newton-cg', 'penalty': 'none', 'C'...  \n",
       "9   {'solver': 'lbfgs', 'penalty': 'none', 'C': 0.01}  \n",
       "10   {'solver': 'saga', 'penalty': 'none', 'C': 0.01}  \n",
       "11    {'solver': 'sag', 'penalty': 'none', 'C': 0.01}  \n",
       "12  {'solver': 'newton-cg', 'penalty': 'l2', 'C': ...  \n",
       "13    {'solver': 'lbfgs', 'penalty': 'l2', 'C': 0.01}  \n",
       "14     {'solver': 'saga', 'penalty': 'l2', 'C': 0.01}  \n",
       "15      {'solver': 'sag', 'penalty': 'l2', 'C': 0.01}  \n",
       "16  {'solver': 'newton-cg', 'penalty': 'none', 'C'...  \n",
       "17   {'solver': 'lbfgs', 'penalty': 'none', 'C': 0.1}  \n",
       "18    {'solver': 'saga', 'penalty': 'none', 'C': 0.1}  \n",
       "19     {'solver': 'sag', 'penalty': 'none', 'C': 0.1}  \n",
       "20  {'solver': 'newton-cg', 'penalty': 'l2', 'C': ...  \n",
       "21     {'solver': 'lbfgs', 'penalty': 'l2', 'C': 0.1}  \n",
       "22      {'solver': 'saga', 'penalty': 'l2', 'C': 0.1}  \n",
       "23       {'solver': 'sag', 'penalty': 'l2', 'C': 0.1}  \n",
       "24  {'solver': 'newton-cg', 'penalty': 'none', 'C'...  \n",
       "25     {'solver': 'lbfgs', 'penalty': 'none', 'C': 1}  \n",
       "26      {'solver': 'saga', 'penalty': 'none', 'C': 1}  \n",
       "27       {'solver': 'sag', 'penalty': 'none', 'C': 1}  \n",
       "28   {'solver': 'newton-cg', 'penalty': 'l2', 'C': 1}  \n",
       "29       {'solver': 'lbfgs', 'penalty': 'l2', 'C': 1}  \n",
       "30        {'solver': 'saga', 'penalty': 'l2', 'C': 1}  \n",
       "31         {'solver': 'sag', 'penalty': 'l2', 'C': 1}  \n",
       "32  {'solver': 'newton-cg', 'penalty': 'none', 'C'...  \n",
       "33    {'solver': 'lbfgs', 'penalty': 'none', 'C': 10}  \n",
       "34     {'solver': 'saga', 'penalty': 'none', 'C': 10}  \n",
       "35      {'solver': 'sag', 'penalty': 'none', 'C': 10}  \n",
       "36  {'solver': 'newton-cg', 'penalty': 'l2', 'C': 10}  \n",
       "37      {'solver': 'lbfgs', 'penalty': 'l2', 'C': 10}  \n",
       "38       {'solver': 'saga', 'penalty': 'l2', 'C': 10}  \n",
       "39        {'solver': 'sag', 'penalty': 'l2', 'C': 10}  \n",
       "40  {'solver': 'newton-cg', 'penalty': 'none', 'C'...  \n",
       "41   {'solver': 'lbfgs', 'penalty': 'none', 'C': 100}  \n",
       "42    {'solver': 'saga', 'penalty': 'none', 'C': 100}  \n",
       "43     {'solver': 'sag', 'penalty': 'none', 'C': 100}  \n",
       "44  {'solver': 'newton-cg', 'penalty': 'l2', 'C': ...  \n",
       "45     {'solver': 'lbfgs', 'penalty': 'l2', 'C': 100}  \n",
       "46      {'solver': 'saga', 'penalty': 'l2', 'C': 100}  \n",
       "47       {'solver': 'sag', 'penalty': 'l2', 'C': 100}  \n",
       "48  {'solver': 'newton-cg', 'penalty': 'none', 'C'...  \n",
       "49  {'solver': 'lbfgs', 'penalty': 'none', 'C': 1000}  \n",
       "50   {'solver': 'saga', 'penalty': 'none', 'C': 1000}  \n",
       "51    {'solver': 'sag', 'penalty': 'none', 'C': 1000}  \n",
       "52  {'solver': 'newton-cg', 'penalty': 'l2', 'C': ...  \n",
       "53    {'solver': 'lbfgs', 'penalty': 'l2', 'C': 1000}  \n",
       "54     {'solver': 'saga', 'penalty': 'l2', 'C': 1000}  \n",
       "55      {'solver': 'sag', 'penalty': 'l2', 'C': 1000}  "
      ]
     },
     "execution_count": 58,
     "metadata": {},
     "output_type": "execute_result"
    }
   ],
   "source": [
    "# To View the Results of the GridSearch\n",
    "pd.DataFrame(randomized_search.cv_results_)[['mean_test_score', 'std_test_score', 'params']]"
   ]
  },
  {
   "cell_type": "code",
   "execution_count": 59,
   "metadata": {},
   "outputs": [
    {
     "name": "stdout",
     "output_type": "stream",
     "text": [
      "BEST ACCURACY SCORE:\n",
      "0.9688981562774363\n",
      "\n",
      "BEST PARAMETERS:\n",
      "{'solver': 'newton-cg', 'penalty': 'none', 'C': 0.001}\n"
     ]
    }
   ],
   "source": [
    "# To Identify the Best Accuracy and Best Features\n",
    "\n",
    "best_accuracy = randomized_search.best_score_\n",
    "best_parameters = randomized_search.best_params_\n",
    "\n",
    "print(\"BEST ACCURACY SCORE:\")\n",
    "print(best_accuracy)\n",
    "print('')\n",
    "\n",
    "print(\"BEST PARAMETERS:\")\n",
    "print(best_parameters)"
   ]
  },
  {
   "cell_type": "markdown",
   "metadata": {},
   "source": [
    "###### To Create New Logistic Regression Model Using the Optimal Parametersrameters"
   ]
  },
  {
   "cell_type": "code",
   "execution_count": 60,
   "metadata": {},
   "outputs": [
    {
     "name": "stderr",
     "output_type": "stream",
     "text": [
      "C:\\Users\\beame\\anaconda3\\lib\\site-packages\\sklearn\\linear_model\\_logistic.py:1320: UserWarning: Setting penalty='none' will ignore the C and l1_ratio parameters\n",
      "  warnings.warn(\n"
     ]
    },
    {
     "data": {
      "text/plain": [
       "array([0, 1, 0, 0, 0, 0, 0, 1, 1, 0, 0, 1, 0, 0, 1, 0, 0, 0, 1, 0, 0, 0,\n",
       "       0, 0, 1, 0, 1, 0, 0, 0, 1, 1, 1, 0, 1, 0, 0, 0, 0, 0, 0, 0, 0, 1,\n",
       "       0, 0, 0, 0, 1, 0, 0, 0, 0, 0, 0, 0, 0, 0, 1, 1, 1, 1, 0, 0, 0, 0,\n",
       "       1, 0, 0, 1, 1, 0, 0, 0, 0, 0, 0, 0, 0, 1, 1, 0, 1, 0, 0, 1, 1, 0,\n",
       "       0, 0, 0, 1, 0, 1, 1, 1, 0, 0, 0, 0, 1, 1, 0, 1, 0, 0, 0, 0, 0, 0,\n",
       "       0, 0, 0, 0, 0, 0, 0, 1, 0, 1, 1, 1, 0, 0, 0, 1, 0, 0, 1, 0, 1, 1,\n",
       "       0, 1, 1], dtype=int64)"
      ]
     },
     "execution_count": 60,
     "metadata": {},
     "output_type": "execute_result"
    }
   ],
   "source": [
    "# To Instantiate the Model (Using the Optimized Parameters)\n",
    "logistic_regression = LogisticRegression(C=0.001, penalty='none', solver='newton-cg', random_state=0)\n",
    "\n",
    "# To Fit the Training Dataset into Logistic Regression Model\n",
    "logistic_regression.fit(X_train, Y_train)\n",
    "\n",
    "# To Predict the Output of the Testing Dataset\n",
    "Y_predict_LogReg = logistic_regression.predict(X_test)\n",
    "Y_predict_LogReg"
   ]
  },
  {
   "cell_type": "markdown",
   "metadata": {},
   "source": [
    "###### To Evaluate the Performance of the Logistic Regression Model"
   ]
  },
  {
   "cell_type": "code",
   "execution_count": 61,
   "metadata": {},
   "outputs": [
    {
     "data": {
      "image/png": "[encoded data removed]",
      "text/plain": [
       "<Figure size 720x504 with 2 Axes>"
      ]
     },
     "metadata": {
      "needs_background": "light"
     },
     "output_type": "display_data"
    }
   ],
   "source": [
    "# To Show the Confusion Matrix\n",
    "from sklearn.metrics import confusion_matrix\n",
    "confusion_matrix = confusion_matrix(Y_test, Y_predict_LogReg)\n",
    "\n",
    "import seaborn as sns\n",
    "plt.figure(figsize=(10,7))\n",
    "sns.heatmap(confusion_matrix, annot=True)\n",
    "plt.xlabel(\"Predicted Value\")\n",
    "plt.ylabel(\"Actual Value\")\n",
    "\n",
    "TP = confusion_matrix[1,1]\n",
    "TN = confusion_matrix[0,0]\n",
    "FP = confusion_matrix[0,1]\n",
    "FN = confusion_matrix[1,0]"
   ]
  },
  {
   "cell_type": "code",
   "execution_count": 62,
   "metadata": {},
   "outputs": [
    {
     "name": "stdout",
     "output_type": "stream",
     "text": [
      "Classification Accuracy: 0.9630\n",
      "\n"
     ]
    }
   ],
   "source": [
    "# For the Classification Accuracy\n",
    "from sklearn.metrics import accuracy_score\n",
    "classification_accuracy = accuracy_score(Y_test, Y_predict_LogReg)\n",
    "print('Classification Accuracy: %.4f'\n",
    "      % classification_accuracy)\n",
    "print('')"
   ]
  },
  {
   "cell_type": "code",
   "execution_count": 63,
   "metadata": {},
   "outputs": [
    {
     "name": "stdout",
     "output_type": "stream",
     "text": [
      "CLASSIFICATION REPORT:\n",
      "              precision    recall  f1-score   support\n",
      "\n",
      "           0       0.98      0.97      0.97        93\n",
      "           1       0.93      0.95      0.94        42\n",
      "\n",
      "    accuracy                           0.96       135\n",
      "   macro avg       0.95      0.96      0.96       135\n",
      "weighted avg       0.96      0.96      0.96       135\n",
      "\n"
     ]
    }
   ],
   "source": [
    "# For the Classification Report\n",
    "from sklearn.metrics import classification_report\n",
    "print(\"CLASSIFICATION REPORT:\")\n",
    "print(classification_report(Y_test, Y_predict_LogReg))"
   ]
  },
  {
   "cell_type": "code",
   "execution_count": 64,
   "metadata": {},
   "outputs": [],
   "source": [
    "# To apply K-fold cross-validation for the logistic regression model\n",
    "from sklearn.model_selection import KFold\n",
    "k_fold = KFold(n_splits=10, shuffle=True, random_state=0) # shuffle = True para sa small dataset\n",
    "\n",
    "from sklearn.model_selection import cross_val_score\n",
    "\n",
    "# To feature scale the X_dummytrap Using Standardization\n",
    "X_standard = X.copy()\n",
    "X_standard = standard_scaler.fit_transform(X_standard)"
   ]
  },
  {
   "cell_type": "code",
   "execution_count": 65,
   "metadata": {},
   "outputs": [
    {
     "name": "stdout",
     "output_type": "stream",
     "text": [
      "Accuracy of K-FOLDS:\n",
      "[0.97058824 0.95588235 0.92647059 0.91176471 0.98529412 1.\n",
      " 0.97014925 0.98507463 0.98507463 0.98507463]\n",
      " \n",
      "Average Accuracy of K-FOLDS:\n",
      "0.9675373134328359\n",
      " \n",
      "Accuracy Variance of K-FOLDS:\n",
      "0.026908791006294015\n",
      " \n"
     ]
    }
   ],
   "source": [
    "# For the accuracy as scoring for for cross-validation \n",
    "accuracies = cross_val_score(estimator=model, X=X_standard, y=Y, cv=k_fold, scoring='accuracy')\n",
    "\n",
    "accuracies_average = accuracies.mean()\n",
    "accuracies_variance = accuracies.std()\n",
    "\n",
    "print('Accuracy of K-FOLDS:')\n",
    "print (accuracies)\n",
    "print(' ')\n",
    "print('Average Accuracy of K-FOLDS:')\n",
    "print(accuracies_average)\n",
    "print(' ')\n",
    "print('Accuracy Variance of K-FOLDS:')\n",
    "print(accuracies_variance)\n",
    "print(' ')"
   ]
  },
  {
   "cell_type": "code",
   "execution_count": 66,
   "metadata": {},
   "outputs": [
    {
     "name": "stdout",
     "output_type": "stream",
     "text": [
      "F1 of K-FOLDS:\n",
      "[0.97058824 0.95588235 0.92647059 0.91176471 0.98529412 1.\n",
      " 0.97014925 0.98507463 0.98507463 0.98507463]\n",
      " \n",
      "Average F1 of K-FOLDS:\n",
      "0.9675373134328359\n",
      " \n",
      "F1 Variance of K-FOLDS:\n",
      "0.026908791006294015\n",
      " \n"
     ]
    }
   ],
   "source": [
    "# For the F1 as scoring for for cross-validation \n",
    "F1 = cross_val_score(estimator=model, X=X_standard, y=Y, cv=k_fold)\n",
    "\n",
    "F1_average = F1.mean()\n",
    "F1_variance = F1.std()\n",
    "\n",
    "print('F1 of K-FOLDS:')\n",
    "print (F1)\n",
    "print(' ')\n",
    "print('Average F1 of K-FOLDS:')\n",
    "print(F1_average)\n",
    "print(' ')\n",
    "print('F1 Variance of K-FOLDS:')\n",
    "print(F1_variance)\n",
    "print(' ')"
   ]
  },
  {
   "cell_type": "code",
   "execution_count": 67,
   "metadata": {},
   "outputs": [
    {
     "name": "stdout",
     "output_type": "stream",
     "text": [
      "Classification Accuracy: 0.9630\n",
      " \n",
      "Classification Error: 0.0370\n",
      " \n",
      "Sensitivity or Recall Score: 0.9524\n",
      " \n",
      "Specificity: 0.9677\n",
      " \n",
      "False Positive Rate: 0.0323\n",
      " \n",
      "Precision: 0.9302\n",
      " \n",
      "F1 Score: 0.9412\n",
      " \n"
     ]
    }
   ],
   "source": [
    "# To evaluate the performance of the logistic regression model using holdout\n",
    "\n",
    "# A. For the Classification Accuracy\n",
    "from sklearn.metrics import accuracy_score\n",
    "classification_accuracy = accuracy_score(Y_test, Y_predict_LogReg)\n",
    "print('Classification Accuracy: %.4f'\n",
    "      % classification_accuracy)\n",
    "print(' ')\n",
    "\n",
    "# B. For the Classification Error\n",
    "from sklearn.metrics import accuracy_score\n",
    "classification_error = 1-classification_accuracy\n",
    "print('Classification Error: %.4f'\n",
    "      % classification_error)\n",
    "print(' ')\n",
    "\n",
    "# C. For the Sensitivity or Recall Score / True Positive Rate (If looking at the positive, how often does positive occur? Performance of predicting + and - should be the same to consider the model without bias towards one class\n",
    "# True Positive Rate:  Actual Value +, how often Correct\n",
    "from sklearn.metrics import recall_score\n",
    "sensitivity = recall_score(Y_test, Y_predict_LogReg)\n",
    "print('Sensitivity or Recall Score: %.4f'\n",
    "      % sensitivity)\n",
    "print(' ')\n",
    "\n",
    "# D. For the Specficity (If looking at the negative actual, how often does negative occur? Performance of predicting + and - should be the same to consider the model without bias towards one class. \n",
    "# Counterpart of sensitivity)\n",
    "# True Negative Rate: Actual Value -, how often correct\n",
    "specificity = TN/(TN+FP)\n",
    "print('Specificity: %.4f'\n",
    "      % specificity)\n",
    "print(' ') \n",
    "\n",
    "# E. For the FP rate .\n",
    "# False Positive Rate: Actual Value -, how often inorrect\n",
    "false_positve_rate = 1-specificity\n",
    "print('False Positive Rate: %.4f'\n",
    "      % false_positve_rate)\n",
    "print(' ')  \n",
    "\n",
    "# F. For the precision.\n",
    "# False Negative Rate: Predicted Value +, how often the prediction is positive\n",
    "from sklearn.metrics import precision_score\n",
    "precision = precision_score(Y_test, Y_predict_LogReg)\n",
    "print('Precision: %.4f'\n",
    "      % precision)\n",
    "print(' ')  \n",
    "\n",
    "# G. For the F1 score. Relating precision and sensitivity\n",
    "# False Negative Rate: Predicted Value and Actual Value+, how often the prediction is correct relation\n",
    "from sklearn.metrics import f1_score\n",
    "f1_score = f1_score(Y_test, Y_predict_LogReg)\n",
    "print('F1 Score: %.4f'\n",
    "      % f1_score)\n",
    "print(' ')  "
   ]
  },
  {
   "cell_type": "markdown",
   "metadata": {},
   "source": [
    "## B. KNN model"
   ]
  },
  {
   "cell_type": "code",
   "execution_count": 68,
   "metadata": {},
   "outputs": [
    {
     "data": {
      "text/plain": [
       "KNeighborsClassifier(algorithm='brute', n_jobs=-1)"
      ]
     },
     "execution_count": 68,
     "metadata": {},
     "output_type": "execute_result"
    }
   ],
   "source": [
    "# To fit the training dataset into a KNN model\n",
    "from sklearn.neighbors import KNeighborsClassifier\n",
    "model = KNeighborsClassifier(algorithm='brute',n_neighbors=5, metric='minkowski', p=2, n_jobs=-1)\n",
    "model.fit(X_train_standard, Y_train)"
   ]
  },
  {
   "cell_type": "markdown",
   "metadata": {},
   "source": [
    "###### To Evaluate the Performance of the K-Nearest Neighbors Machine Model"
   ]
  },
  {
   "cell_type": "code",
   "execution_count": 69,
   "metadata": {},
   "outputs": [
    {
     "data": {
      "text/plain": [
       "array([0, 1, 0, 0, 0, 0, 0, 1, 1, 0, 0, 1, 0, 0, 1, 0, 0, 0, 0, 0, 0, 0,\n",
       "       0, 0, 1, 0, 1, 0, 0, 0, 1, 1, 1, 0, 1, 0, 0, 0, 0, 0, 0, 0, 0, 1,\n",
       "       0, 0, 0, 0, 1, 0, 0, 0, 0, 0, 0, 0, 0, 0, 1, 1, 1, 1, 0, 0, 0, 0,\n",
       "       1, 0, 0, 1, 1, 0, 0, 0, 0, 0, 0, 0, 0, 1, 1, 0, 1, 1, 0, 1, 1, 0,\n",
       "       0, 0, 0, 1, 0, 1, 1, 1, 0, 0, 0, 0, 1, 1, 0, 1, 0, 0, 0, 0, 0, 0,\n",
       "       0, 0, 0, 0, 0, 0, 0, 1, 0, 1, 1, 1, 0, 0, 0, 1, 0, 0, 1, 0, 1, 1,\n",
       "       0, 1, 1], dtype=int64)"
      ]
     },
     "execution_count": 69,
     "metadata": {},
     "output_type": "execute_result"
    }
   ],
   "source": [
    "# To Instantiate the Model\n",
    "k_nearest_neighbors = KNeighborsClassifier(n_neighbors=4, weights='distance', algorithm='auto', leaf_size=10)\n",
    "\n",
    "# To Fit the Training Dataset into K Nearest Neighbors Model\n",
    "k_nearest_neighbors.fit(X_train, Y_train)\n",
    "\n",
    "# To Predict the Output of the Training Dataset\n",
    "Y_predict_KNN = k_nearest_neighbors.predict(X_test)\n",
    "Y_predict_KNN"
   ]
  },
  {
   "cell_type": "code",
   "execution_count": 70,
   "metadata": {},
   "outputs": [
    {
     "data": {
      "image/png": "[encoded data removed]",
      "text/plain": [
       "<Figure size 720x504 with 2 Axes>"
      ]
     },
     "metadata": {
      "needs_background": "light"
     },
     "output_type": "display_data"
    }
   ],
   "source": [
    "# To Show the Confusion Matrix\n",
    "from sklearn.metrics import confusion_matrix\n",
    "confusion_matrix = confusion_matrix(Y_test, Y_predict_KNN)\n",
    "\n",
    "import seaborn as sns\n",
    "plt.figure(figsize=(10,7))\n",
    "sns.heatmap(confusion_matrix, annot=True)\n",
    "plt.xlabel(\"Predicted Value\")\n",
    "plt.ylabel(\"Actual Value\")\n",
    "\n",
    "TP = confusion_matrix[1,1]\n",
    "TN = confusion_matrix[0,0]\n",
    "FP = confusion_matrix[0,1]\n",
    "FN = confusion_matrix[1,0]"
   ]
  },
  {
   "cell_type": "code",
   "execution_count": 71,
   "metadata": {},
   "outputs": [
    {
     "name": "stdout",
     "output_type": "stream",
     "text": [
      "Classification Accuracy: 0.9778\n",
      "\n"
     ]
    }
   ],
   "source": [
    "# For the Classification Accuracy\n",
    "from sklearn.metrics import accuracy_score\n",
    "classification_accuracy = accuracy_score(Y_test, Y_predict_KNN)\n",
    "print('Classification Accuracy: %.4f'\n",
    "      % classification_accuracy)\n",
    "print('')"
   ]
  },
  {
   "cell_type": "code",
   "execution_count": 72,
   "metadata": {},
   "outputs": [
    {
     "name": "stdout",
     "output_type": "stream",
     "text": [
      "CLASSIFICATION REPORT:\n",
      "              precision    recall  f1-score   support\n",
      "\n",
      "           0       0.99      0.98      0.98        93\n",
      "           1       0.95      0.98      0.96        42\n",
      "\n",
      "    accuracy                           0.98       135\n",
      "   macro avg       0.97      0.98      0.97       135\n",
      "weighted avg       0.98      0.98      0.98       135\n",
      "\n"
     ]
    }
   ],
   "source": [
    "# For the Classification Report\n",
    "from sklearn.metrics import classification_report\n",
    "print(\"CLASSIFICATION REPORT:\")\n",
    "print(classification_report(Y_test, Y_predict_KNN))"
   ]
  },
  {
   "cell_type": "markdown",
   "metadata": {},
   "source": [
    "### Cross Validation for KNN (Default)"
   ]
  },
  {
   "cell_type": "code",
   "execution_count": 73,
   "metadata": {},
   "outputs": [],
   "source": [
    "# To apply K-fold cross-validation for the logistic regression model\n",
    "from sklearn.model_selection import KFold\n",
    "k_fold = KFold(n_splits=10, shuffle=True, random_state=0) # shuffle = True para sa small dataset\n",
    "\n",
    "from sklearn.model_selection import cross_val_score\n",
    "\n",
    "# To feature scale the X_dummytrap Using Standardization\n",
    "X_standard = X.copy()\n",
    "X_standard = standard_scaler.fit_transform(X_standard)"
   ]
  },
  {
   "cell_type": "code",
   "execution_count": 74,
   "metadata": {},
   "outputs": [
    {
     "name": "stdout",
     "output_type": "stream",
     "text": [
      "Accuracy of K-FOLDS:\n",
      "[0.98529412 0.97058824 0.95588235 0.91176471 0.98529412 1.\n",
      " 0.95522388 0.98507463 0.97014925 0.97014925]\n",
      " \n",
      "Average Accuracy of K-FOLDS:\n",
      "0.9689420544337137\n",
      " \n",
      "Accuracy Variance of K-FOLDS:\n",
      "0.023223379758989998\n",
      " \n"
     ]
    }
   ],
   "source": [
    "# For the accuracy as scoring for for cross-validation \n",
    "accuracies = cross_val_score(estimator=model, X=X_standard, y=Y, cv=k_fold, scoring='accuracy')\n",
    "\n",
    "accuracies_average = accuracies.mean()\n",
    "accuracies_variance = accuracies.std()\n",
    "\n",
    "print('Accuracy of K-FOLDS:')\n",
    "print (accuracies)\n",
    "print(' ')\n",
    "print('Average Accuracy of K-FOLDS:')\n",
    "print(accuracies_average)\n",
    "print(' ')\n",
    "print('Accuracy Variance of K-FOLDS:')\n",
    "print(accuracies_variance)\n",
    "print(' ')"
   ]
  },
  {
   "cell_type": "code",
   "execution_count": 75,
   "metadata": {},
   "outputs": [
    {
     "name": "stdout",
     "output_type": "stream",
     "text": [
      "F1 of K-FOLDS:\n",
      "[0.98529412 0.97058824 0.95588235 0.91176471 0.98529412 1.\n",
      " 0.95522388 0.98507463 0.97014925 0.97014925]\n",
      " \n",
      "Average F1 of K-FOLDS:\n",
      "0.9689420544337137\n",
      " \n",
      "F1 Variance of K-FOLDS:\n",
      "0.023223379758989998\n",
      " \n"
     ]
    }
   ],
   "source": [
    "# For the F1 as scoring for for cross-validation \n",
    "F1 = cross_val_score(estimator=model, X=X_standard, y=Y, cv=k_fold)\n",
    "\n",
    "F1_average = F1.mean()\n",
    "F1_variance = F1.std()\n",
    "\n",
    "print('F1 of K-FOLDS:')\n",
    "print (F1)\n",
    "print(' ')\n",
    "print('Average F1 of K-FOLDS:')\n",
    "print(F1_average)\n",
    "print(' ')\n",
    "print('F1 Variance of K-FOLDS:')\n",
    "print(F1_variance)\n",
    "print(' ')"
   ]
  },
  {
   "cell_type": "code",
   "execution_count": 76,
   "metadata": {},
   "outputs": [
    {
     "name": "stdout",
     "output_type": "stream",
     "text": [
      "Classification Accuracy: 0.9778\n",
      " \n",
      "Classification Error: 0.0222\n",
      " \n",
      "Sensitivity or Recall Score: 0.9762\n",
      " \n",
      "Specificity: 0.9785\n",
      " \n",
      "False Positive Rate: 0.0215\n",
      " \n",
      "Precision: 0.9535\n",
      " \n",
      "F1 Score: 0.9647\n",
      " \n"
     ]
    }
   ],
   "source": [
    "# To evaluate the performance of the logistic regression model using holdout\n",
    "\n",
    "# A. For the Classification Accuracy\n",
    "from sklearn.metrics import accuracy_score\n",
    "classification_accuracy = accuracy_score(Y_test, Y_predict_KNN)\n",
    "print('Classification Accuracy: %.4f'\n",
    "      % classification_accuracy)\n",
    "print(' ')\n",
    "\n",
    "# B. For the Classification Error\n",
    "from sklearn.metrics import accuracy_score\n",
    "classification_error = 1-classification_accuracy\n",
    "print('Classification Error: %.4f'\n",
    "      % classification_error)\n",
    "print(' ')\n",
    "\n",
    "# C. For the Sensitivity or Recall Score / True Positive Rate (If looking at the positive, how often does positive occur? Performance of predicting + and - should be the same to consider the model without bias towards one class\n",
    "# True Positive Rate:  Actual Value +, how often Correct\n",
    "from sklearn.metrics import recall_score\n",
    "sensitivity = recall_score(Y_test, Y_predict_KNN)\n",
    "print('Sensitivity or Recall Score: %.4f'\n",
    "      % sensitivity)\n",
    "print(' ')\n",
    "\n",
    "# D. For the Specficity (If looking at the negative actual, how often does negative occur? Performance of predicting + and - should be the same to consider the model without bias towards one class. \n",
    "# Counterpart of sensitivity)\n",
    "# True Negative Rate: Actual Value -, how often correct\n",
    "specificity = TN/(TN+FP)\n",
    "print('Specificity: %.4f'\n",
    "      % specificity)\n",
    "print(' ') \n",
    "\n",
    "# E. For the FP rate .\n",
    "# False Positive Rate: Actual Value -, how often inorrect\n",
    "false_positve_rate = 1-specificity\n",
    "print('False Positive Rate: %.4f'\n",
    "      % false_positve_rate)\n",
    "print(' ')  \n",
    "\n",
    "# F. For the precision.\n",
    "# False Negative Rate: Predicted Value +, how often the prediction is positive\n",
    "from sklearn.metrics import precision_score\n",
    "precision = precision_score(Y_test, Y_predict_KNN)\n",
    "print('Precision: %.4f'\n",
    "      % precision)\n",
    "print(' ')  \n",
    "\n",
    "# G. For the F1 score. Relating precision and sensitivity\n",
    "# False Negative Rate: Predicted Value and Actual Value+, how often the prediction is correct relation\n",
    "from sklearn.metrics import f1_score\n",
    "f1_score = f1_score(Y_test, Y_predict_KNN)\n",
    "print('F1 Score: %.4f'\n",
    "      % f1_score)\n",
    "print(' ')  "
   ]
  },
  {
   "cell_type": "markdown",
   "metadata": {},
   "source": [
    "#### Applying GridSearch to find the Best Parameters for the K-Nearest Neighbors Machine Model\n"
   ]
  },
  {
   "cell_type": "code",
   "execution_count": 78,
   "metadata": {},
   "outputs": [
    {
     "name": "stdout",
     "output_type": "stream",
     "text": [
      "GridSearchCV(cv=StratifiedKFold(n_splits=10, random_state=0, shuffle=True),\n",
      "             estimator=KNeighborsClassifier(leaf_size=10, n_neighbors=4,\n",
      "                                            weights='distance'),\n",
      "             n_jobs=-1,\n",
      "             param_grid={'algorithm': ['auto', 'ball_tree', 'kd_tree', 'brute'],\n",
      "                         'leaf_size': [10, 20, 30, 40, 50, 60, 70, 80, 100],\n",
      "                         'n_neighbors': [1, 2, 3, 4, 5, 6, 7, 8, 9, 10, 11, 12,\n",
      "                                         13, 14, 15, 16, 17, 18, 19, 20, 21, 22,\n",
      "                                         23, 24, 25, 26, 27, 28, 29, 30, ...],\n",
      "                         'weights': ['uniform', 'distance']},\n",
      "             scoring='accuracy')\n"
     ]
    }
   ],
   "source": [
    "# To Import the kFold Class\n",
    "from sklearn.model_selection import StratifiedKFold\n",
    "k_Fold = StratifiedKFold (n_splits=10, shuffle=True, random_state=0)\n",
    "\n",
    "# To Import the GridSearch Class\n",
    "from sklearn.model_selection import GridSearchCV\n",
    "\n",
    "# To Set Parameters to be Optimized Under the K Nearest Neighbors Model\n",
    "k_range = list(range(1, 51))\n",
    "weight = ['uniform', 'distance']\n",
    "algorithm = ['auto', 'ball_tree', 'kd_tree', 'brute']\n",
    "leaf_size = [10, 20, 30, 40, 50, 60, 70, 80, 100]\n",
    "parameters = dict(n_neighbors=k_range, weights=weight, algorithm=algorithm, leaf_size=leaf_size)\n",
    "grid_search = GridSearchCV(estimator = k_nearest_neighbors,\n",
    "                           param_grid = parameters,\n",
    "                           scoring = 'accuracy',\n",
    "                           cv = k_Fold,\n",
    "                           n_jobs = -1)\n",
    "grid_search = grid_search.fit(X, Y)\n",
    "print(grid_search)"
   ]
  },
  {
   "cell_type": "code",
   "execution_count": 79,
   "metadata": {},
   "outputs": [
    {
     "data": {
      "text/html": [
       "<div>\n",
       "<style scoped>\n",
       "    .dataframe tbody tr th:only-of-type {\n",
       "        vertical-align: middle;\n",
       "    }\n",
       "\n",
       "    .dataframe tbody tr th {\n",
       "        vertical-align: top;\n",
       "    }\n",
       "\n",
       "    .dataframe thead th {\n",
       "        text-align: right;\n",
       "    }\n",
       "</style>\n",
       "<table border=\"1\" class=\"dataframe\">\n",
       "  <thead>\n",
       "    <tr style=\"text-align: right;\">\n",
       "      <th></th>\n",
       "      <th>mean_test_score</th>\n",
       "      <th>std_test_score</th>\n",
       "      <th>params</th>\n",
       "    </tr>\n",
       "  </thead>\n",
       "  <tbody>\n",
       "    <tr>\n",
       "      <th>0</th>\n",
       "      <td>0.955531</td>\n",
       "      <td>0.030462</td>\n",
       "      <td>{'algorithm': 'auto', 'leaf_size': 10, 'n_neig...</td>\n",
       "    </tr>\n",
       "    <tr>\n",
       "      <th>1</th>\n",
       "      <td>0.955531</td>\n",
       "      <td>0.030462</td>\n",
       "      <td>{'algorithm': 'auto', 'leaf_size': 10, 'n_neig...</td>\n",
       "    </tr>\n",
       "    <tr>\n",
       "      <th>2</th>\n",
       "      <td>0.942230</td>\n",
       "      <td>0.030769</td>\n",
       "      <td>{'algorithm': 'auto', 'leaf_size': 10, 'n_neig...</td>\n",
       "    </tr>\n",
       "    <tr>\n",
       "      <th>3</th>\n",
       "      <td>0.955531</td>\n",
       "      <td>0.030462</td>\n",
       "      <td>{'algorithm': 'auto', 'leaf_size': 10, 'n_neig...</td>\n",
       "    </tr>\n",
       "    <tr>\n",
       "      <th>4</th>\n",
       "      <td>0.967406</td>\n",
       "      <td>0.028798</td>\n",
       "      <td>{'algorithm': 'auto', 'leaf_size': 10, 'n_neig...</td>\n",
       "    </tr>\n",
       "    <tr>\n",
       "      <th>...</th>\n",
       "      <td>...</td>\n",
       "      <td>...</td>\n",
       "      <td>...</td>\n",
       "    </tr>\n",
       "    <tr>\n",
       "      <th>3595</th>\n",
       "      <td>0.960009</td>\n",
       "      <td>0.025793</td>\n",
       "      <td>{'algorithm': 'brute', 'leaf_size': 100, 'n_ne...</td>\n",
       "    </tr>\n",
       "    <tr>\n",
       "      <th>3596</th>\n",
       "      <td>0.960009</td>\n",
       "      <td>0.025793</td>\n",
       "      <td>{'algorithm': 'brute', 'leaf_size': 100, 'n_ne...</td>\n",
       "    </tr>\n",
       "    <tr>\n",
       "      <th>3597</th>\n",
       "      <td>0.960009</td>\n",
       "      <td>0.025793</td>\n",
       "      <td>{'algorithm': 'brute', 'leaf_size': 100, 'n_ne...</td>\n",
       "    </tr>\n",
       "    <tr>\n",
       "      <th>3598</th>\n",
       "      <td>0.960009</td>\n",
       "      <td>0.025793</td>\n",
       "      <td>{'algorithm': 'brute', 'leaf_size': 100, 'n_ne...</td>\n",
       "    </tr>\n",
       "    <tr>\n",
       "      <th>3599</th>\n",
       "      <td>0.960009</td>\n",
       "      <td>0.025793</td>\n",
       "      <td>{'algorithm': 'brute', 'leaf_size': 100, 'n_ne...</td>\n",
       "    </tr>\n",
       "  </tbody>\n",
       "</table>\n",
       "<p>3600 rows × 3 columns</p>\n",
       "</div>"
      ],
      "text/plain": [
       "      mean_test_score  std_test_score  \\\n",
       "0            0.955531        0.030462   \n",
       "1            0.955531        0.030462   \n",
       "2            0.942230        0.030769   \n",
       "3            0.955531        0.030462   \n",
       "4            0.967406        0.028798   \n",
       "...               ...             ...   \n",
       "3595         0.960009        0.025793   \n",
       "3596         0.960009        0.025793   \n",
       "3597         0.960009        0.025793   \n",
       "3598         0.960009        0.025793   \n",
       "3599         0.960009        0.025793   \n",
       "\n",
       "                                                 params  \n",
       "0     {'algorithm': 'auto', 'leaf_size': 10, 'n_neig...  \n",
       "1     {'algorithm': 'auto', 'leaf_size': 10, 'n_neig...  \n",
       "2     {'algorithm': 'auto', 'leaf_size': 10, 'n_neig...  \n",
       "3     {'algorithm': 'auto', 'leaf_size': 10, 'n_neig...  \n",
       "4     {'algorithm': 'auto', 'leaf_size': 10, 'n_neig...  \n",
       "...                                                 ...  \n",
       "3595  {'algorithm': 'brute', 'leaf_size': 100, 'n_ne...  \n",
       "3596  {'algorithm': 'brute', 'leaf_size': 100, 'n_ne...  \n",
       "3597  {'algorithm': 'brute', 'leaf_size': 100, 'n_ne...  \n",
       "3598  {'algorithm': 'brute', 'leaf_size': 100, 'n_ne...  \n",
       "3599  {'algorithm': 'brute', 'leaf_size': 100, 'n_ne...  \n",
       "\n",
       "[3600 rows x 3 columns]"
      ]
     },
     "execution_count": 79,
     "metadata": {},
     "output_type": "execute_result"
    }
   ],
   "source": [
    "# To View the Results of the GridSearch\n",
    "pd.DataFrame(grid_search.cv_results_)[['mean_test_score', 'std_test_score', 'params']]"
   ]
  },
  {
   "cell_type": "code",
   "execution_count": 80,
   "metadata": {},
   "outputs": [
    {
     "name": "stdout",
     "output_type": "stream",
     "text": [
      "BEST ACCURACY SCORE:\n",
      "0.9733318700614575\n",
      "\n",
      "BEST PARAMETERS:\n",
      "{'algorithm': 'auto', 'leaf_size': 10, 'n_neighbors': 12, 'weights': 'distance'}\n"
     ]
    }
   ],
   "source": [
    "# To Identify the Best Accuracy and Best Features\n",
    "\n",
    "best_accuracy = grid_search.best_score_\n",
    "best_parameters = grid_search.best_params_\n",
    "\n",
    "print(\"BEST ACCURACY SCORE:\")\n",
    "print(best_accuracy)\n",
    "print('')\n",
    "\n",
    "print(\"BEST PARAMETERS:\")\n",
    "print(best_parameters)"
   ]
  },
  {
   "cell_type": "markdown",
   "metadata": {},
   "source": [
    "###### To Create New K-Nearest Neighbors Model Using the Optimal Parameters\n"
   ]
  },
  {
   "cell_type": "code",
   "execution_count": 81,
   "metadata": {},
   "outputs": [
    {
     "data": {
      "text/plain": [
       "array([0, 1, 0, 0, 0, 0, 0, 1, 1, 0, 0, 1, 0, 0, 1, 0, 0, 0, 0, 0, 0, 0,\n",
       "       0, 0, 1, 0, 1, 0, 0, 0, 1, 1, 1, 0, 1, 0, 0, 0, 0, 0, 0, 0, 0, 1,\n",
       "       0, 0, 0, 0, 1, 0, 0, 0, 0, 0, 0, 0, 0, 0, 1, 1, 1, 1, 0, 0, 0, 0,\n",
       "       1, 0, 0, 1, 1, 0, 0, 0, 0, 0, 0, 0, 0, 1, 1, 0, 1, 1, 0, 1, 1, 0,\n",
       "       0, 0, 0, 1, 0, 1, 1, 1, 0, 0, 0, 0, 1, 1, 0, 1, 0, 0, 0, 0, 0, 0,\n",
       "       0, 0, 0, 0, 0, 0, 0, 1, 0, 1, 1, 1, 0, 0, 0, 1, 0, 0, 1, 0, 1, 1,\n",
       "       0, 1, 1], dtype=int64)"
      ]
     },
     "execution_count": 81,
     "metadata": {},
     "output_type": "execute_result"
    }
   ],
   "source": [
    "# To Instantiate the Model\n",
    "k_nearest_neighbors = KNeighborsClassifier(n_neighbors=4, weights='distance', algorithm='auto', leaf_size=10)\n",
    "\n",
    "# To Fit the Training Dataset into K Nearest Neighbors Model\n",
    "k_nearest_neighbors.fit(X_train, Y_train)\n",
    "\n",
    "# To Predict the Output of the Training Dataset\n",
    "Y_predict_KNN = k_nearest_neighbors.predict(X_test)\n",
    "Y_predict_KNN"
   ]
  },
  {
   "cell_type": "markdown",
   "metadata": {},
   "source": [
    "###### To Evaluate the Performance of the K-Nearest Neighbors Machine Model\n"
   ]
  },
  {
   "cell_type": "code",
   "execution_count": 82,
   "metadata": {},
   "outputs": [
    {
     "data": {
      "image/png": "[encoded data removed]",
      "text/plain": [
       "<Figure size 720x504 with 2 Axes>"
      ]
     },
     "metadata": {
      "needs_background": "light"
     },
     "output_type": "display_data"
    }
   ],
   "source": [
    "# To Show the Confusion Matrix\n",
    "from sklearn.metrics import confusion_matrix\n",
    "confusion_matrix = confusion_matrix(Y_test, Y_predict_KNN)\n",
    "\n",
    "import seaborn as sns\n",
    "plt.figure(figsize=(10,7))\n",
    "sns.heatmap(confusion_matrix, annot=True)\n",
    "plt.xlabel(\"Predicted Value\")\n",
    "plt.ylabel(\"Actual Value\")\n",
    "\n",
    "TP = confusion_matrix[1,1]\n",
    "TN = confusion_matrix[0,0]\n",
    "FP = confusion_matrix[0,1]\n",
    "FN = confusion_matrix[1,0]"
   ]
  },
  {
   "cell_type": "code",
   "execution_count": 83,
   "metadata": {},
   "outputs": [
    {
     "name": "stdout",
     "output_type": "stream",
     "text": [
      "Classification Accuracy: 0.9778\n",
      "\n"
     ]
    }
   ],
   "source": [
    "# For the Classification Accuracy\n",
    "from sklearn.metrics import accuracy_score\n",
    "classification_accuracy = accuracy_score(Y_test, Y_predict_KNN)\n",
    "print('Classification Accuracy: %.4f'\n",
    "      % classification_accuracy)\n",
    "print('')"
   ]
  },
  {
   "cell_type": "code",
   "execution_count": 84,
   "metadata": {},
   "outputs": [
    {
     "name": "stdout",
     "output_type": "stream",
     "text": [
      "CLASSIFICATION REPORT:\n",
      "              precision    recall  f1-score   support\n",
      "\n",
      "           0       0.99      0.98      0.98        93\n",
      "           1       0.95      0.98      0.96        42\n",
      "\n",
      "    accuracy                           0.98       135\n",
      "   macro avg       0.97      0.98      0.97       135\n",
      "weighted avg       0.98      0.98      0.98       135\n",
      "\n"
     ]
    }
   ],
   "source": [
    "# For the Classification Report\n",
    "from sklearn.metrics import classification_report\n",
    "print(\"CLASSIFICATION REPORT:\")\n",
    "print(classification_report(Y_test, Y_predict_KNN))"
   ]
  },
  {
   "cell_type": "markdown",
   "metadata": {},
   "source": [
    "### Cross Validation for KNN (Optimized)"
   ]
  },
  {
   "cell_type": "code",
   "execution_count": 85,
   "metadata": {},
   "outputs": [],
   "source": [
    "# To apply K-fold cross-validation for the logistic regression model\n",
    "from sklearn.model_selection import KFold\n",
    "k_fold = KFold(n_splits=10, shuffle=True, random_state=0) # shuffle = True para sa small dataset\n",
    "\n",
    "from sklearn.model_selection import cross_val_score\n",
    "\n",
    "# To feature scale the X_dummytrap Using Standardization\n",
    "X_standard = X.copy()\n",
    "X_standard = standard_scaler.fit_transform(X_standard)"
   ]
  },
  {
   "cell_type": "code",
   "execution_count": 86,
   "metadata": {},
   "outputs": [
    {
     "name": "stdout",
     "output_type": "stream",
     "text": [
      "Accuracy of K-FOLDS:\n",
      "[0.98529412 0.97058824 0.95588235 0.91176471 0.98529412 1.\n",
      " 0.95522388 0.98507463 0.97014925 0.97014925]\n",
      " \n",
      "Average Accuracy of K-FOLDS:\n",
      "0.9689420544337137\n",
      " \n",
      "Accuracy Variance of K-FOLDS:\n",
      "0.023223379758989998\n",
      " \n"
     ]
    }
   ],
   "source": [
    "# For the accuracy as scoring for for cross-validation \n",
    "accuracies = cross_val_score(estimator=model, X=X_standard, y=Y, cv=k_fold, scoring='accuracy')\n",
    "\n",
    "accuracies_average = accuracies.mean()\n",
    "accuracies_variance = accuracies.std()\n",
    "\n",
    "print('Accuracy of K-FOLDS:')\n",
    "print (accuracies)\n",
    "print(' ')\n",
    "print('Average Accuracy of K-FOLDS:')\n",
    "print(accuracies_average)\n",
    "print(' ')\n",
    "print('Accuracy Variance of K-FOLDS:')\n",
    "print(accuracies_variance)\n",
    "print(' ')"
   ]
  },
  {
   "cell_type": "code",
   "execution_count": 87,
   "metadata": {},
   "outputs": [
    {
     "name": "stdout",
     "output_type": "stream",
     "text": [
      "F1 of K-FOLDS:\n",
      "[0.98529412 0.97058824 0.95588235 0.91176471 0.98529412 1.\n",
      " 0.95522388 0.98507463 0.97014925 0.97014925]\n",
      " \n",
      "Average F1 of K-FOLDS:\n",
      "0.9689420544337137\n",
      " \n",
      "F1 Variance of K-FOLDS:\n",
      "0.023223379758989998\n",
      " \n"
     ]
    }
   ],
   "source": [
    "# For the F1 as scoring for for cross-validation \n",
    "F1 = cross_val_score(estimator=model, X=X_standard, y=Y, cv=k_fold)\n",
    "\n",
    "F1_average = F1.mean()\n",
    "F1_variance = F1.std()\n",
    "\n",
    "print('F1 of K-FOLDS:')\n",
    "print (F1)\n",
    "print(' ')\n",
    "print('Average F1 of K-FOLDS:')\n",
    "print(F1_average)\n",
    "print(' ')\n",
    "print('F1 Variance of K-FOLDS:')\n",
    "print(F1_variance)\n",
    "print(' ')"
   ]
  },
  {
   "cell_type": "code",
   "execution_count": 88,
   "metadata": {},
   "outputs": [
    {
     "name": "stdout",
     "output_type": "stream",
     "text": [
      "Classification Accuracy: 0.9778\n",
      " \n",
      "Classification Error: 0.0222\n",
      " \n",
      "Sensitivity or Recall Score: 0.9762\n",
      " \n",
      "Specificity: 0.9785\n",
      " \n",
      "False Positive Rate: 0.0215\n",
      " \n",
      "Precision: 0.9535\n",
      " \n",
      "F1 Score: 0.9647\n",
      " \n"
     ]
    }
   ],
   "source": [
    "# To evaluate the performance of the logistic regression model using holdout\n",
    "\n",
    "# A. For the Classification Accuracy\n",
    "from sklearn.metrics import accuracy_score\n",
    "classification_accuracy = accuracy_score(Y_test, Y_predict_KNN)\n",
    "print('Classification Accuracy: %.4f'\n",
    "      % classification_accuracy)\n",
    "print(' ')\n",
    "\n",
    "# B. For the Classification Error\n",
    "from sklearn.metrics import accuracy_score\n",
    "classification_error = 1-classification_accuracy\n",
    "print('Classification Error: %.4f'\n",
    "      % classification_error)\n",
    "print(' ')\n",
    "\n",
    "# C. For the Sensitivity or Recall Score / True Positive Rate (If looking at the positive, how often does positive occur? Performance of predicting + and - should be the same to consider the model without bias towards one class\n",
    "# True Positive Rate:  Actual Value +, how often Correct\n",
    "from sklearn.metrics import recall_score\n",
    "sensitivity = recall_score(Y_test, Y_predict_KNN)\n",
    "print('Sensitivity or Recall Score: %.4f'\n",
    "      % sensitivity)\n",
    "print(' ')\n",
    "\n",
    "# D. For the Specficity (If looking at the negative actual, how often does negative occur? Performance of predicting + and - should be the same to consider the model without bias towards one class. \n",
    "# Counterpart of sensitivity)\n",
    "# True Negative Rate: Actual Value -, how often correct\n",
    "specificity = TN/(TN+FP)\n",
    "print('Specificity: %.4f'\n",
    "      % specificity)\n",
    "print(' ') \n",
    "\n",
    "# E. For the FP rate .\n",
    "# False Positive Rate: Actual Value -, how often inorrect\n",
    "false_positve_rate = 1-specificity\n",
    "print('False Positive Rate: %.4f'\n",
    "      % false_positve_rate)\n",
    "print(' ')  \n",
    "\n",
    "# F. For the precision.\n",
    "# False Negative Rate: Predicted Value +, how often the prediction is positive\n",
    "from sklearn.metrics import precision_score\n",
    "precision = precision_score(Y_test, Y_predict_KNN)\n",
    "print('Precision: %.4f'\n",
    "      % precision)\n",
    "print(' ')  \n",
    "\n",
    "# G. For the F1 score. Relating precision and sensitivity\n",
    "# False Negative Rate: Predicted Value and Actual Value+, how often the prediction is correct relation\n",
    "from sklearn.metrics import f1_score\n",
    "f1_score = f1_score(Y_test, Y_predict_KNN)\n",
    "print('F1 Score: %.4f'\n",
    "      % f1_score)\n",
    "print(' ')  "
   ]
  },
  {
   "cell_type": "markdown",
   "metadata": {},
   "source": [
    "## C. SVM Regression"
   ]
  },
  {
   "cell_type": "code",
   "execution_count": 89,
   "metadata": {},
   "outputs": [
    {
     "data": {
      "text/plain": [
       "array([0, 1, 0, 0, 0, 0, 0, 1, 1, 0, 0, 1, 0, 0, 1, 0, 0, 0, 1, 0, 0, 0,\n",
       "       0, 0, 1, 0, 1, 0, 0, 0, 1, 1, 1, 0, 1, 0, 0, 0, 0, 0, 0, 0, 0, 1,\n",
       "       0, 0, 0, 0, 1, 0, 0, 0, 0, 0, 0, 0, 0, 0, 1, 1, 1, 1, 0, 0, 0, 0,\n",
       "       1, 0, 0, 1, 1, 0, 0, 0, 0, 0, 0, 0, 0, 1, 1, 0, 1, 1, 0, 1, 1, 0,\n",
       "       0, 0, 0, 1, 0, 1, 1, 1, 0, 0, 0, 0, 1, 1, 0, 1, 0, 0, 0, 0, 0, 0,\n",
       "       0, 0, 0, 0, 0, 0, 0, 1, 0, 1, 1, 1, 0, 0, 0, 1, 0, 0, 1, 0, 1, 1,\n",
       "       0, 1, 1], dtype=int64)"
      ]
     },
     "execution_count": 89,
     "metadata": {},
     "output_type": "execute_result"
    }
   ],
   "source": [
    "# To Instantiate the Model (Using the Default Parameters)\n",
    "support_vector_machine = SVC(random_state=0)\n",
    "\n",
    "# To Fit the Training Dataset into Support Vector Machine Model\n",
    "support_vector_machine.fit(X_train, Y_train)\n",
    "\n",
    "# To Predict the Output of the Testing Dataset\n",
    "Y_predict_SVM = support_vector_machine.predict(X_test)\n",
    "Y_predict_SVM"
   ]
  },
  {
   "cell_type": "markdown",
   "metadata": {},
   "source": [
    "###### To Evaluate the Performance of the Support Vector Machine Model"
   ]
  },
  {
   "cell_type": "code",
   "execution_count": 90,
   "metadata": {},
   "outputs": [
    {
     "data": {
      "image/png": "[encoded data removed]",
      "text/plain": [
       "<Figure size 720x504 with 2 Axes>"
      ]
     },
     "metadata": {
      "needs_background": "light"
     },
     "output_type": "display_data"
    }
   ],
   "source": [
    "# To Show the Confusion Matrix\n",
    "from sklearn.metrics import confusion_matrix\n",
    "confusion_matrix = confusion_matrix(Y_test, Y_predict_SVM)\n",
    "\n",
    "import seaborn as sns\n",
    "plt.figure(figsize=(10,7))\n",
    "sns.heatmap(confusion_matrix, annot=True)\n",
    "plt.xlabel(\"Predicted Value\")\n",
    "plt.ylabel(\"Actual Value\")\n",
    "\n",
    "TP = confusion_matrix[1,1]\n",
    "TN = confusion_matrix[0,0]\n",
    "FP = confusion_matrix[0,1]\n",
    "FN = confusion_matrix[1,0]"
   ]
  },
  {
   "cell_type": "code",
   "execution_count": 91,
   "metadata": {},
   "outputs": [
    {
     "name": "stdout",
     "output_type": "stream",
     "text": [
      "Classification Accuracy: 0.9704\n",
      "\n"
     ]
    }
   ],
   "source": [
    "# For the Classification Accuracy\n",
    "from sklearn.metrics import accuracy_score\n",
    "classification_accuracy = accuracy_score(Y_test, Y_predict_SVM)\n",
    "print('Classification Accuracy: %.4f'\n",
    "      % classification_accuracy)\n",
    "print('')"
   ]
  },
  {
   "cell_type": "code",
   "execution_count": 92,
   "metadata": {},
   "outputs": [
    {
     "name": "stdout",
     "output_type": "stream",
     "text": [
      "CLASSIFICATION REPORT:\n",
      "              precision    recall  f1-score   support\n",
      "\n",
      "           0       0.99      0.97      0.98        93\n",
      "           1       0.93      0.98      0.95        42\n",
      "\n",
      "    accuracy                           0.97       135\n",
      "   macro avg       0.96      0.97      0.97       135\n",
      "weighted avg       0.97      0.97      0.97       135\n",
      "\n"
     ]
    }
   ],
   "source": [
    "# For the Classification Report\n",
    "from sklearn.metrics import classification_report\n",
    "print(\"CLASSIFICATION REPORT:\")\n",
    "print(classification_report(Y_test, Y_predict_SVM))\n"
   ]
  },
  {
   "cell_type": "markdown",
   "metadata": {},
   "source": [
    "### Cross Validation for SVM (Default)"
   ]
  },
  {
   "cell_type": "code",
   "execution_count": 93,
   "metadata": {},
   "outputs": [],
   "source": [
    "# To apply K-fold cross-validation for the logistic regression model\n",
    "from sklearn.model_selection import KFold\n",
    "k_fold = KFold(n_splits=10, shuffle=True, random_state=0) # shuffle = True para sa small dataset\n",
    "\n",
    "from sklearn.model_selection import cross_val_score\n",
    "\n",
    "# To feature scale the X_dummytrap Using Standardization\n",
    "X_standard = X.copy()\n",
    "X_standard = standard_scaler.fit_transform(X_standard)"
   ]
  },
  {
   "cell_type": "code",
   "execution_count": 94,
   "metadata": {
    "scrolled": true
   },
   "outputs": [
    {
     "name": "stdout",
     "output_type": "stream",
     "text": [
      "Accuracy of K-FOLDS:\n",
      "[0.98529412 0.97058824 0.95588235 0.91176471 0.98529412 1.\n",
      " 0.95522388 0.98507463 0.97014925 0.97014925]\n",
      " \n",
      "Average Accuracy of K-FOLDS:\n",
      "0.9689420544337137\n",
      " \n",
      "Accuracy Variance of K-FOLDS:\n",
      "0.023223379758989998\n",
      " \n"
     ]
    }
   ],
   "source": [
    "# For the accuracy as scoring for for cross-validation \n",
    "accuracies = cross_val_score(estimator=model, X=X_standard, y=Y, cv=k_fold, scoring='accuracy')\n",
    "\n",
    "accuracies_average = accuracies.mean()\n",
    "accuracies_variance = accuracies.std()\n",
    "\n",
    "print('Accuracy of K-FOLDS:')\n",
    "print (accuracies)\n",
    "print(' ')\n",
    "print('Average Accuracy of K-FOLDS:')\n",
    "print(accuracies_average)\n",
    "print(' ')\n",
    "print('Accuracy Variance of K-FOLDS:')\n",
    "print(accuracies_variance)\n",
    "print(' ')"
   ]
  },
  {
   "cell_type": "code",
   "execution_count": 95,
   "metadata": {},
   "outputs": [
    {
     "name": "stdout",
     "output_type": "stream",
     "text": [
      "F1 of K-FOLDS:\n",
      "[0.98529412 0.97058824 0.95588235 0.91176471 0.98529412 1.\n",
      " 0.95522388 0.98507463 0.97014925 0.97014925]\n",
      " \n",
      "Average F1 of K-FOLDS:\n",
      "0.9689420544337137\n",
      " \n",
      "F1 Variance of K-FOLDS:\n",
      "0.023223379758989998\n",
      " \n"
     ]
    }
   ],
   "source": [
    "# For the F1 as scoring for for cross-validation \n",
    "F1 = cross_val_score(estimator=model, X=X_standard, y=Y, cv=k_fold)\n",
    "\n",
    "F1_average = F1.mean()\n",
    "F1_variance = F1.std()\n",
    "\n",
    "print('F1 of K-FOLDS:')\n",
    "print (F1)\n",
    "print(' ')\n",
    "print('Average F1 of K-FOLDS:')\n",
    "print(F1_average)\n",
    "print(' ')\n",
    "print('F1 Variance of K-FOLDS:')\n",
    "print(F1_variance)\n",
    "print(' ')"
   ]
  },
  {
   "cell_type": "markdown",
   "metadata": {},
   "source": [
    "### Hold-out Validation for SVM (Default)"
   ]
  },
  {
   "cell_type": "code",
   "execution_count": 96,
   "metadata": {},
   "outputs": [
    {
     "name": "stdout",
     "output_type": "stream",
     "text": [
      "Classification Accuracy: 0.9704\n",
      " \n",
      "Classification Error: 0.0296\n",
      " \n",
      "Sensitivity or Recall Score: 0.9762\n",
      " \n",
      "Specificity: 0.9677\n",
      " \n",
      "False Positive Rate: 0.0323\n",
      " \n",
      "Precision: 0.9318\n",
      " \n",
      "F1 Score: 0.9535\n",
      " \n"
     ]
    }
   ],
   "source": [
    "# To evaluate the performance of the logistic regression model using holdout\n",
    "\n",
    "# A. For the Classification Accuracy\n",
    "from sklearn.metrics import accuracy_score\n",
    "classification_accuracy = accuracy_score(Y_test, Y_predict_SVM)\n",
    "print('Classification Accuracy: %.4f'\n",
    "      % classification_accuracy)\n",
    "print(' ')\n",
    "\n",
    "# B. For the Classification Error\n",
    "from sklearn.metrics import accuracy_score\n",
    "classification_error = 1-classification_accuracy\n",
    "print('Classification Error: %.4f'\n",
    "      % classification_error)\n",
    "print(' ')\n",
    "\n",
    "# C. For the Sensitivity or Recall Score / True Positive Rate (If looking at the positive, how often does positive occur? Performance of predicting + and - should be the same to consider the model without bias towards one class\n",
    "# True Positive Rate:  Actual Value +, how often Correct\n",
    "from sklearn.metrics import recall_score\n",
    "sensitivity = recall_score(Y_test, Y_predict_SVM)\n",
    "print('Sensitivity or Recall Score: %.4f'\n",
    "      % sensitivity)\n",
    "print(' ')\n",
    "\n",
    "# D. For the Specficity (If looking at the negative actual, how often does negative occur? Performance of predicting + and - should be the same to consider the model without bias towards one class. \n",
    "# Counterpart of sensitivity)\n",
    "# True Negative Rate: Actual Value -, how often correct\n",
    "specificity = TN/(TN+FP)\n",
    "print('Specificity: %.4f'\n",
    "      % specificity)\n",
    "print(' ') \n",
    "\n",
    "# E. For the FP rate .\n",
    "# False Positive Rate: Actual Value -, how often inorrect\n",
    "false_positve_rate = 1-specificity\n",
    "print('False Positive Rate: %.4f'\n",
    "      % false_positve_rate)\n",
    "print(' ')  \n",
    "\n",
    "# F. For the precision.\n",
    "# False Negative Rate: Predicted Value +, how often the prediction is positive\n",
    "from sklearn.metrics import precision_score\n",
    "precision = precision_score(Y_test, Y_predict_SVM)\n",
    "print('Precision: %.4f'\n",
    "      % precision)\n",
    "print(' ')  \n",
    "\n",
    "# G. For the F1 score. Relating precision and sensitivity\n",
    "# False Negative Rate: Predicted Value and Actual Value+, how often the prediction is correct relation\n",
    "from sklearn.metrics import f1_score\n",
    "f1_score = f1_score(Y_test, Y_predict_SVM)\n",
    "print('F1 Score: %.4f'\n",
    "      % f1_score)\n",
    "print(' ')  "
   ]
  },
  {
   "cell_type": "markdown",
   "metadata": {},
   "source": [
    "#### Applying GridSearch to find the Best Parameters for the Support Vector Machine Model"
   ]
  },
  {
   "cell_type": "code",
   "execution_count": 97,
   "metadata": {},
   "outputs": [
    {
     "name": "stdout",
     "output_type": "stream",
     "text": [
      "GridSearchCV(cv=StratifiedKFold(n_splits=10, random_state=0, shuffle=True),\n",
      "             estimator=SVC(random_state=0), n_jobs=-1,\n",
      "             param_grid=[{'C': [0.001, 0.01, 0.1, 10, 100, 1000],\n",
      "                          'decision_function_shape': ['ovo', 'ovr'],\n",
      "                          'kernel': ['linear']},\n",
      "                         {'C': [0.001, 0.01, 0.1, 10, 100, 1000],\n",
      "                          'decision_function_shape': ['ovo', 'ovr'],\n",
      "                          'gamma': [0.1, 0.5, 1, 5, 10], 'kernel': ['rbf']},\n",
      "                         {'C': [0.001, 0.01, 0.1, 10, 100, 1000],\n",
      "                          'decision_function_shape': ['ovo', 'ovr'],\n",
      "                          'degree': [2, 3, 4, 5], 'gamma': [0.1, 0.5, 1, 5, 10],\n",
      "                          'kernel': ['poly']},\n",
      "                         {'C': [0.001, 0.01, 0.1, 10, 100, 1000],\n",
      "                          'gamma': [0.1, 0.5, 1, 5, 10],\n",
      "                          'kernel': ['sigmoid']}],\n",
      "             scoring='accuracy')\n"
     ]
    }
   ],
   "source": [
    "# To Import the kFold Class\n",
    "from sklearn.model_selection import StratifiedKFold\n",
    "k_Fold = StratifiedKFold(n_splits=10, shuffle=True, random_state=0)\n",
    "\n",
    "# To Import the GridSearch Class\n",
    "from sklearn.model_selection import GridSearchCV\n",
    "\n",
    "# To Set Parameters to be Optimized Under the Support Vector Machine Model\n",
    "parameters = [{'C': [0.001, 0.01, 0.1, 10, 100, 1000], 'kernel': ['linear'], 'decision_function_shape' : ['ovo', 'ovr']},\n",
    "              {'C': [0.001, 0.01, 0.1, 10, 100, 1000], 'kernel': ['rbf'], 'gamma': [0.1, 0.5, 1, 5, 10], 'decision_function_shape' : ['ovo', 'ovr']},\n",
    "              {'C': [0.001, 0.01, 0.1, 10, 100, 1000], 'kernel': ['poly'], 'gamma': [0.1, 0.5, 1, 5, 10], 'degree': [2, 3, 4, 5], 'decision_function_shape' : ['ovo', 'ovr']},\n",
    "              {'C': [0.001, 0.01, 0.1, 10, 100, 1000], 'kernel': ['sigmoid'], 'gamma': [0.1, 0.5, 1, 5, 10]}]\n",
    "grid_search = GridSearchCV(estimator = support_vector_machine,\n",
    "                           param_grid = parameters,\n",
    "                           scoring = 'accuracy',\n",
    "                           cv = k_Fold,\n",
    "                           n_jobs = -1)\n",
    "grid_search = grid_search.fit(X, Y)\n",
    "print(grid_search)"
   ]
  },
  {
   "cell_type": "code",
   "execution_count": 98,
   "metadata": {},
   "outputs": [
    {
     "data": {
      "text/html": [
       "<div>\n",
       "<style scoped>\n",
       "    .dataframe tbody tr th:only-of-type {\n",
       "        vertical-align: middle;\n",
       "    }\n",
       "\n",
       "    .dataframe tbody tr th {\n",
       "        vertical-align: top;\n",
       "    }\n",
       "\n",
       "    .dataframe thead th {\n",
       "        text-align: right;\n",
       "    }\n",
       "</style>\n",
       "<table border=\"1\" class=\"dataframe\">\n",
       "  <thead>\n",
       "    <tr style=\"text-align: right;\">\n",
       "      <th></th>\n",
       "      <th>mean_test_score</th>\n",
       "      <th>std_test_score</th>\n",
       "      <th>params</th>\n",
       "    </tr>\n",
       "  </thead>\n",
       "  <tbody>\n",
       "    <tr>\n",
       "      <th>0</th>\n",
       "      <td>0.964464</td>\n",
       "      <td>0.021200</td>\n",
       "      <td>{'C': 0.001, 'decision_function_shape': 'ovo',...</td>\n",
       "    </tr>\n",
       "    <tr>\n",
       "      <th>1</th>\n",
       "      <td>0.964464</td>\n",
       "      <td>0.021200</td>\n",
       "      <td>{'C': 0.001, 'decision_function_shape': 'ovr',...</td>\n",
       "    </tr>\n",
       "    <tr>\n",
       "      <th>2</th>\n",
       "      <td>0.967428</td>\n",
       "      <td>0.028767</td>\n",
       "      <td>{'C': 0.01, 'decision_function_shape': 'ovo', ...</td>\n",
       "    </tr>\n",
       "    <tr>\n",
       "      <th>3</th>\n",
       "      <td>0.967428</td>\n",
       "      <td>0.028767</td>\n",
       "      <td>{'C': 0.01, 'decision_function_shape': 'ovr', ...</td>\n",
       "    </tr>\n",
       "    <tr>\n",
       "      <th>4</th>\n",
       "      <td>0.965935</td>\n",
       "      <td>0.033229</td>\n",
       "      <td>{'C': 0.1, 'decision_function_shape': 'ovo', '...</td>\n",
       "    </tr>\n",
       "    <tr>\n",
       "      <th>...</th>\n",
       "      <td>...</td>\n",
       "      <td>...</td>\n",
       "      <td>...</td>\n",
       "    </tr>\n",
       "    <tr>\n",
       "      <th>337</th>\n",
       "      <td>0.302063</td>\n",
       "      <td>0.071905</td>\n",
       "      <td>{'C': 1000, 'gamma': 0.1, 'kernel': 'sigmoid'}</td>\n",
       "    </tr>\n",
       "    <tr>\n",
       "      <th>338</th>\n",
       "      <td>0.464969</td>\n",
       "      <td>0.065539</td>\n",
       "      <td>{'C': 1000, 'gamma': 0.5, 'kernel': 'sigmoid'}</td>\n",
       "    </tr>\n",
       "    <tr>\n",
       "      <th>339</th>\n",
       "      <td>0.650395</td>\n",
       "      <td>0.005381</td>\n",
       "      <td>{'C': 1000, 'gamma': 1, 'kernel': 'sigmoid'}</td>\n",
       "    </tr>\n",
       "    <tr>\n",
       "      <th>340</th>\n",
       "      <td>0.650395</td>\n",
       "      <td>0.005381</td>\n",
       "      <td>{'C': 1000, 'gamma': 5, 'kernel': 'sigmoid'}</td>\n",
       "    </tr>\n",
       "    <tr>\n",
       "      <th>341</th>\n",
       "      <td>0.650395</td>\n",
       "      <td>0.005381</td>\n",
       "      <td>{'C': 1000, 'gamma': 10, 'kernel': 'sigmoid'}</td>\n",
       "    </tr>\n",
       "  </tbody>\n",
       "</table>\n",
       "<p>342 rows × 3 columns</p>\n",
       "</div>"
      ],
      "text/plain": [
       "     mean_test_score  std_test_score  \\\n",
       "0           0.964464        0.021200   \n",
       "1           0.964464        0.021200   \n",
       "2           0.967428        0.028767   \n",
       "3           0.967428        0.028767   \n",
       "4           0.965935        0.033229   \n",
       "..               ...             ...   \n",
       "337         0.302063        0.071905   \n",
       "338         0.464969        0.065539   \n",
       "339         0.650395        0.005381   \n",
       "340         0.650395        0.005381   \n",
       "341         0.650395        0.005381   \n",
       "\n",
       "                                                params  \n",
       "0    {'C': 0.001, 'decision_function_shape': 'ovo',...  \n",
       "1    {'C': 0.001, 'decision_function_shape': 'ovr',...  \n",
       "2    {'C': 0.01, 'decision_function_shape': 'ovo', ...  \n",
       "3    {'C': 0.01, 'decision_function_shape': 'ovr', ...  \n",
       "4    {'C': 0.1, 'decision_function_shape': 'ovo', '...  \n",
       "..                                                 ...  \n",
       "337     {'C': 1000, 'gamma': 0.1, 'kernel': 'sigmoid'}  \n",
       "338     {'C': 1000, 'gamma': 0.5, 'kernel': 'sigmoid'}  \n",
       "339       {'C': 1000, 'gamma': 1, 'kernel': 'sigmoid'}  \n",
       "340       {'C': 1000, 'gamma': 5, 'kernel': 'sigmoid'}  \n",
       "341      {'C': 1000, 'gamma': 10, 'kernel': 'sigmoid'}  \n",
       "\n",
       "[342 rows x 3 columns]"
      ]
     },
     "execution_count": 98,
     "metadata": {},
     "output_type": "execute_result"
    }
   ],
   "source": [
    "# To View the Results of the GridSearch\n",
    "pd.DataFrame(grid_search.cv_results_)[['mean_test_score', 'std_test_score', 'params']]"
   ]
  },
  {
   "cell_type": "code",
   "execution_count": 99,
   "metadata": {},
   "outputs": [
    {
     "name": "stdout",
     "output_type": "stream",
     "text": [
      "BEST ACCURACY SCORE:\n",
      "0.9674275680421422\n",
      "\n",
      "BEST PARAMETERS:\n",
      "{'C': 0.01, 'decision_function_shape': 'ovo', 'kernel': 'linear'}\n"
     ]
    }
   ],
   "source": [
    "best_accuracy = grid_search.best_score_\n",
    "best_parameters = grid_search.best_params_\n",
    "\n",
    "print(\"BEST ACCURACY SCORE:\")\n",
    "print(best_accuracy)\n",
    "print('')\n",
    "\n",
    "print(\"BEST PARAMETERS:\")\n",
    "print(best_parameters)"
   ]
  },
  {
   "cell_type": "markdown",
   "metadata": {},
   "source": [
    "###### To Create New Support Vector Machine Model Using the Optimized Parameters\n"
   ]
  },
  {
   "cell_type": "code",
   "execution_count": 100,
   "metadata": {},
   "outputs": [
    {
     "data": {
      "text/plain": [
       "array([0, 1, 0, 0, 0, 0, 0, 1, 1, 0, 0, 1, 0, 0, 1, 0, 0, 0, 1, 0, 0, 0,\n",
       "       0, 0, 1, 0, 1, 0, 0, 0, 1, 0, 1, 0, 1, 0, 0, 0, 0, 0, 0, 0, 0, 1,\n",
       "       0, 0, 0, 0, 1, 0, 0, 0, 0, 0, 0, 0, 0, 0, 1, 0, 0, 1, 0, 0, 0, 0,\n",
       "       1, 0, 0, 1, 1, 0, 0, 0, 0, 0, 0, 0, 0, 1, 1, 0, 0, 1, 0, 1, 0, 0,\n",
       "       0, 0, 0, 1, 0, 1, 1, 1, 0, 0, 0, 0, 1, 1, 0, 1, 0, 0, 0, 0, 0, 0,\n",
       "       0, 0, 0, 0, 0, 0, 0, 1, 0, 1, 1, 1, 0, 0, 0, 1, 0, 0, 1, 0, 1, 1,\n",
       "       0, 1, 1], dtype=int64)"
      ]
     },
     "execution_count": 100,
     "metadata": {},
     "output_type": "execute_result"
    }
   ],
   "source": [
    "# To Instantiate the Model (Using the Optimized Parameters)\n",
    "state_vector_machine = SVC(C=1000, decision_function_shape='ovo', gamma=0.5, kernel='poly', degree=4, random_state=0)\n",
    "\n",
    "# To Fit the Training Dataset into Support Vector Machine Model\n",
    "state_vector_machine.fit(X_train, Y_train)\n",
    "\n",
    "# To Predict the Output of the Training Dataset\n",
    "Y_predict_SVM = state_vector_machine.predict(X_test)\n",
    "Y_predict_SVM\n"
   ]
  },
  {
   "cell_type": "code",
   "execution_count": 101,
   "metadata": {},
   "outputs": [
    {
     "data": {
      "image/png": "[encoded data removed]",
      "text/plain": [
       "<Figure size 720x504 with 2 Axes>"
      ]
     },
     "metadata": {
      "needs_background": "light"
     },
     "output_type": "display_data"
    }
   ],
   "source": [
    "# To Show the Confusion Matrix\n",
    "from sklearn.metrics import confusion_matrix\n",
    "confusion_matrix = confusion_matrix(Y_test, Y_predict_SVM)\n",
    "\n",
    "import seaborn as sns\n",
    "plt.figure(figsize=(10,7))\n",
    "sns.heatmap(confusion_matrix, annot=True)\n",
    "plt.xlabel(\"Predicted Value\")\n",
    "plt.ylabel(\"Actual Value\")\n",
    "\n",
    "TP = confusion_matrix[1,1]\n",
    "TN = confusion_matrix[0,0]\n",
    "FP = confusion_matrix[0,1]\n",
    "FN = confusion_matrix[1,0]"
   ]
  },
  {
   "cell_type": "code",
   "execution_count": 102,
   "metadata": {},
   "outputs": [
    {
     "name": "stdout",
     "output_type": "stream",
     "text": [
      "Classification Accuracy: 0.9333\n",
      "\n"
     ]
    }
   ],
   "source": [
    "# For the Classification Accuracy\n",
    "from sklearn.metrics import accuracy_score\n",
    "classification_accuracy = accuracy_score(Y_test, Y_predict_SVM)\n",
    "print('Classification Accuracy: %.4f'\n",
    "      % classification_accuracy)\n",
    "print('')"
   ]
  },
  {
   "cell_type": "code",
   "execution_count": 103,
   "metadata": {},
   "outputs": [
    {
     "name": "stdout",
     "output_type": "stream",
     "text": [
      "CLASSIFICATION REPORT:\n",
      "              precision    recall  f1-score   support\n",
      "\n",
      "           0       0.94      0.97      0.95        93\n",
      "           1       0.92      0.86      0.89        42\n",
      "\n",
      "    accuracy                           0.93       135\n",
      "   macro avg       0.93      0.91      0.92       135\n",
      "weighted avg       0.93      0.93      0.93       135\n",
      "\n"
     ]
    }
   ],
   "source": [
    "# For the Classification Report\n",
    "from sklearn.metrics import classification_report\n",
    "print(\"CLASSIFICATION REPORT:\")\n",
    "print(classification_report(Y_test, Y_predict_SVM))"
   ]
  },
  {
   "cell_type": "markdown",
   "metadata": {},
   "source": []
  },
  {
   "cell_type": "markdown",
   "metadata": {},
   "source": [
    "### Cross Validation for SVM (Optimized)"
   ]
  },
  {
   "cell_type": "code",
   "execution_count": 104,
   "metadata": {},
   "outputs": [],
   "source": [
    "# To apply K-fold cross-validation for the logistic regression model\n",
    "from sklearn.model_selection import KFold\n",
    "k_fold = KFold(n_splits=10, shuffle=True, random_state=0) # shuffle = True para sa small dataset\n",
    "\n",
    "from sklearn.model_selection import cross_val_score\n",
    "\n",
    "# To feature scale the X_dummytrap Using Standardization\n",
    "X_standard = X.copy()\n",
    "X_standard = standard_scaler.fit_transform(X_standard)"
   ]
  },
  {
   "cell_type": "code",
   "execution_count": 105,
   "metadata": {},
   "outputs": [
    {
     "name": "stdout",
     "output_type": "stream",
     "text": [
      "Accuracy of K-FOLDS:\n",
      "[0.98529412 0.97058824 0.95588235 0.91176471 0.98529412 1.\n",
      " 0.95522388 0.98507463 0.97014925 0.97014925]\n",
      " \n",
      "Average Accuracy of K-FOLDS:\n",
      "0.9689420544337137\n",
      " \n",
      "Accuracy Variance of K-FOLDS:\n",
      "0.023223379758989998\n",
      " \n"
     ]
    }
   ],
   "source": [
    "# For the accuracy as scoring for for cross-validation \n",
    "accuracies = cross_val_score(estimator=model, X=X_standard, y=Y, cv=k_fold, scoring='accuracy')\n",
    "\n",
    "accuracies_average = accuracies.mean()\n",
    "accuracies_variance = accuracies.std()\n",
    "\n",
    "print('Accuracy of K-FOLDS:')\n",
    "print (accuracies)\n",
    "print(' ')\n",
    "print('Average Accuracy of K-FOLDS:')\n",
    "print(accuracies_average)\n",
    "print(' ')\n",
    "print('Accuracy Variance of K-FOLDS:')\n",
    "print(accuracies_variance)\n",
    "print(' ')"
   ]
  },
  {
   "cell_type": "code",
   "execution_count": 106,
   "metadata": {},
   "outputs": [
    {
     "name": "stdout",
     "output_type": "stream",
     "text": [
      "F1 of K-FOLDS:\n",
      "[0.98529412 0.97058824 0.95588235 0.91176471 0.98529412 1.\n",
      " 0.95522388 0.98507463 0.97014925 0.97014925]\n",
      " \n",
      "Average F1 of K-FOLDS:\n",
      "0.9689420544337137\n",
      " \n",
      "F1 Variance of K-FOLDS:\n",
      "0.023223379758989998\n",
      " \n"
     ]
    }
   ],
   "source": [
    "# For the F1 as scoring for cross-validation \n",
    "F1 = cross_val_score(estimator=model, X=X_standard, y=Y, cv=k_fold)\n",
    "\n",
    "F1_average = F1.mean()\n",
    "F1_variance = F1.std()\n",
    "\n",
    "print('F1 of K-FOLDS:')\n",
    "print (F1)\n",
    "print(' ')\n",
    "print('Average F1 of K-FOLDS:')\n",
    "print(F1_average)\n",
    "print(' ')\n",
    "print('F1 Variance of K-FOLDS:')\n",
    "print(F1_variance)\n",
    "print(' ')"
   ]
  },
  {
   "cell_type": "code",
   "execution_count": 107,
   "metadata": {},
   "outputs": [
    {
     "name": "stdout",
     "output_type": "stream",
     "text": [
      "Classification Accuracy: 0.9333\n",
      " \n",
      "Classification Error: 0.0667\n",
      " \n",
      "Sensitivity or Recall Score: 0.8571\n",
      " \n",
      "Specificity: 0.9677\n",
      " \n",
      "False Positive Rate: 0.0323\n",
      " \n",
      "Precision: 0.9231\n",
      " \n",
      "F1 Score: 0.8889\n",
      " \n"
     ]
    }
   ],
   "source": [
    "# To evaluate the performance of the logistic regression model using holdout\n",
    "# A. For the Classification Accuracy\n",
    "from sklearn.metrics import accuracy_score\n",
    "classification_accuracy = accuracy_score(Y_test, Y_predict_SVM)\n",
    "print('Classification Accuracy: %.4f'\n",
    "      % classification_accuracy)\n",
    "print(' ')\n",
    "\n",
    "# B. For the Classification Error\n",
    "from sklearn.metrics import accuracy_score\n",
    "classification_error = 1-classification_accuracy\n",
    "print('Classification Error: %.4f'\n",
    "      % classification_error)\n",
    "print(' ')\n",
    "\n",
    "# C. For the Sensitivity or Recall Score / True Positive Rate (If looking at the positive, how often does positive occur? Performance of predicting + and - should be the same to consider the model without bias towards one class\n",
    "# True Positive Rate:  Actual Value +, how often Correct\n",
    "from sklearn.metrics import recall_score\n",
    "sensitivity = recall_score(Y_test, Y_predict_SVM)\n",
    "print('Sensitivity or Recall Score: %.4f'\n",
    "      % sensitivity)\n",
    "print(' ')\n",
    "\n",
    "# D. For the Specficity (If looking at the negative actual, how often does negative occur? Performance of predicting + and - should be the same to consider the model without bias towards one class. \n",
    "# Counterpart of sensitivity)\n",
    "# True Negative Rate: Actual Value -, how often correct\n",
    "specificity = TN/(TN+FP)\n",
    "print('Specificity: %.4f'\n",
    "      % specificity)\n",
    "print(' ') \n",
    "\n",
    "# E. For the FP rate .\n",
    "# False Positive Rate: Actual Value -, how often inorrect\n",
    "false_positve_rate = 1-specificity\n",
    "print('False Positive Rate: %.4f'\n",
    "      % false_positve_rate)\n",
    "print(' ')  \n",
    "\n",
    "# F. For the precision.\n",
    "# False Negative Rate: Predicted Value +, how often the prediction is positive\n",
    "from sklearn.metrics import precision_score\n",
    "precision = precision_score(Y_test, Y_predict_SVM)\n",
    "print('Precision: %.4f'\n",
    "      % precision)\n",
    "print(' ')  \n",
    "\n",
    "# G. For the F1 score. Relating precision and sensitivity\n",
    "# False Negative Rate: Predicted Value and Actual Value+, how often the prediction is correct relation\n",
    "from sklearn.metrics import f1_score\n",
    "f1_score = f1_score(Y_test, Y_predict_SVM)\n",
    "print('F1 Score: %.4f'\n",
    "      % f1_score)\n",
    "print(' ')  "
   ]
  },
  {
   "cell_type": "code",
   "execution_count": 108,
   "metadata": {},
   "outputs": [
    {
     "name": "stdout",
     "output_type": "stream",
     "text": [
      "              precision    recall  f1-score   support\n",
      "\n",
      "           0       0.94      0.97      0.95        93\n",
      "           1       0.92      0.86      0.89        42\n",
      "\n",
      "    accuracy                           0.93       135\n",
      "   macro avg       0.93      0.91      0.92       135\n",
      "weighted avg       0.93      0.93      0.93       135\n",
      "\n"
     ]
    }
   ],
   "source": [
    "# H. For classification report\n",
    "from sklearn.metrics import classification_report\n",
    "classification_report = classification_report(Y_test, Y_predict_SVM)\n",
    "print(classification_report)"
   ]
  },
  {
   "cell_type": "code",
   "execution_count": 109,
   "metadata": {},
   "outputs": [
    {
     "data": {
      "image/png": "[encoded data removed]",
      "text/plain": [
       "<Figure size 432x288 with 1 Axes>"
      ]
     },
     "metadata": {
      "needs_background": "light"
     },
     "output_type": "display_data"
    }
   ],
   "source": [
    "# I. For the Precision-Recall Curve\n",
    "from sklearn.metrics import precision_recall_curve\n",
    "precision_value, recall_value, threshold = precision_recall_curve(Y_test, Y_predict_LogReg)\n",
    "plt.plot(precision_value, recall_value)\n",
    "plt.xlim([0.0, 1.0])\n",
    "plt.ylim([0.0, 1.0])\n",
    "plt.title('Precision-Recall Curve for the Logistic Regression Model')\n",
    "plt.xlabel('Precision')\n",
    "plt.ylabel('Recall')\n",
    "plt.grid(True)\n",
    "plt.show()"
   ]
  },
  {
   "cell_type": "code",
   "execution_count": 110,
   "metadata": {},
   "outputs": [
    {
     "data": {
      "image/png": "[encoded data removed]",
      "text/plain": [
       "<Figure size 432x288 with 1 Axes>"
      ]
     },
     "metadata": {
      "needs_background": "light"
     },
     "output_type": "display_data"
    }
   ],
   "source": [
    "# J. For the ROC Curve\n",
    "# FP rate and TP rate\n",
    "from sklearn.metrics import roc_curve\n",
    "FPR, TPR, threshold = roc_curve(Y_test, Y_predict_LogReg)\n",
    "plt.plot(FPR, TPR)\n",
    "plt.xlim([0.0, 1.0])\n",
    "plt.ylim([0.0, 1.0])\n",
    "plt.title('ROC Curve for the Logistic Regression Model')\n",
    "plt.xlabel('False Positive Rate (1-Specificity)')\n",
    "plt.ylabel('True Positive Rate (Sensitivity')\n",
    "plt.grid(True)\n",
    "plt.show()"
   ]
  }
 ],
 "metadata": {
  "kernelspec": {
   "display_name": "Python 3",
   "language": "python",
   "name": "python3"
  },
  "language_info": {
   "codemirror_mode": {
    "name": "ipython",
    "version": 3
   },
   "file_extension": ".py",
   "mimetype": "text/x-python",
   "name": "python",
   "nbconvert_exporter": "python",
   "pygments_lexer": "ipython3",
   "version": "3.8.5"
  }
 },
 "nbformat": 4,
 "nbformat_minor": 4
}
